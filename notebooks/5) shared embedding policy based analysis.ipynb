{
 "cells": [
  {
   "cell_type": "markdown",
   "id": "a5904cd4",
   "metadata": {},
   "source": [
    "# Analysis\n",
    "\n",
    "In this notebook we will analyse the models that we created.\n",
    "\n",
    "The analysis consists of:\n",
    "\n",
    "1) comparing the perplexity and the accuracy between the rationalized and non-rationalized model \n",
    "\n",
    "2) Checking the change in perplexity when removing even more from the rational\n",
    "\n",
    "3) Checking the distribution of rationals\n",
    "\n",
    "4) Qualitative analysis of the some examples"
   ]
  },
  {
   "cell_type": "markdown",
   "id": "263adeb9",
   "metadata": {},
   "source": [
    "## Setup"
   ]
  },
  {
   "cell_type": "code",
   "execution_count": 1,
   "id": "bcbdbf72",
   "metadata": {},
   "outputs": [],
   "source": [
    "#First we fix the relative imports\n",
    "import os\n",
    "import sys\n",
    "# M\n",
    "# module_path = os.path.abspath(os.path.join('..'))\n",
    "# if module_path not in sys.path:\n",
    "#     sys.path.append(module_path)\n",
    "    \n",
    "#Make sure we are in the top folder. \n",
    "os.chdir(os.path.join('..'))"
   ]
  },
  {
   "cell_type": "code",
   "execution_count": 2,
   "id": "b583e598",
   "metadata": {},
   "outputs": [
    {
     "name": "stderr",
     "output_type": "stream",
     "text": [
      "C:\\Users\\gerso\\projects\\rational-dialog-model\\utils\\analysis.py:24: YAMLLoadWarning: calling yaml.load() without Loader=... is deprecated, as the default Loader is unsafe. Please read https://msg.pyyaml.org/load for full details.\n",
      "  config = yaml.load(f)\n"
     ]
    },
    {
     "name": "stdout",
     "output_type": "stream",
     "text": [
      "./daily_dialog/tokenizer.json\n"
     ]
    },
    {
     "name": "stderr",
     "output_type": "stream",
     "text": [
      "Using custom data configuration default\n",
      "Reusing dataset daily_dialog (C:\\Users\\gerso\\.cache\\huggingface\\datasets\\daily_dialog\\default\\1.0.0\\c03444008e9508b8b76f1f6793742d37d5e5f83364f8d573c2747bff435ea55c)\n",
      "Using custom data configuration default\n",
      "Reusing dataset daily_dialog (C:\\Users\\gerso\\.cache\\huggingface\\datasets\\daily_dialog\\default\\1.0.0\\c03444008e9508b8b76f1f6793742d37d5e5f83364f8d573c2747bff435ea55c)\n",
      "GPU available: True, used: True\n",
      "TPU available: False, using: 0 TPU cores\n"
     ]
    },
    {
     "name": "stdout",
     "output_type": "stream",
     "text": [
      "load pretrained_model:  ./models/small_lm.pt\n",
      "load pretrained_model:  ./models/small_lm_shared_rationalized.pt\n",
      "2\n"
     ]
    }
   ],
   "source": [
    "### We load the models based on the configs for analysis. \n",
    "from utils.analysis import parse_config_for_analysis\n",
    "config_path = 'configs/simple_RE_config_shared.yml'\n",
    "\n",
    "loaded_info = parse_config_for_analysis(config_path)\n",
    "\n",
    "lm_RE = loaded_info[\"lightning_language_model_RE\"].to(\"cpu\").eval()\n",
    "lm = loaded_info[\"lightning_language_model_no_RE\"].to(\"cpu\").eval()\n",
    "tokenizer = loaded_info[\"tokenizer\"]\n",
    "dataloader_test = loaded_info[\"dataloader_test\"]"
   ]
  },
  {
   "cell_type": "markdown",
   "id": "4003d667",
   "metadata": {},
   "source": [
    "## Perplexity and Accuracy"
   ]
  },
  {
   "cell_type": "code",
   "execution_count": null,
   "id": "f347d7ab",
   "metadata": {},
   "outputs": [],
   "source": []
  },
  {
   "cell_type": "code",
   "execution_count": 3,
   "id": "53bfdb09",
   "metadata": {},
   "outputs": [
    {
     "name": "stderr",
     "output_type": "stream",
     "text": [
      "100%|██████████████████████████████████████████████████████████████████████████████████| 20/20 [00:05<00:00,  3.94it/s]\n",
      "100%|██████████████████████████████████████████████████████████████████████████████████| 20/20 [00:03<00:00,  5.07it/s]"
     ]
    },
    {
     "name": "stdout",
     "output_type": "stream",
     "text": [
      "{'mean_acc': {'mean': 0.09956800192594528, 'std': 0.0}, 'mean_perplexity': {'mean': 43.73969650268555, 'std': 0.0}, 'mean_mask_percentage': {'mean': 0.6138044595718384, 'std': 0.0}}\n",
      "{'mean_acc': tensor(0.3828), 'mean_perplexity': tensor(25.8828, grad_fn=<AddBackward0>), 'mean_mask_percentage': 0}\n"
     ]
    },
    {
     "name": "stderr",
     "output_type": "stream",
     "text": [
      "\n"
     ]
    }
   ],
   "source": [
    "### First thing we compare the perplexity and accuracy on the testset.\n",
    "from utils.analysis import get_results, get_results_RE\n",
    "\n",
    "\n",
    "lm_RE_result = get_results_RE(lm_RE, dataloader_test, 1)\n",
    "lm_result = get_results(lm, dataloader_test)\n",
    "print(lm_RE_result)\n",
    "print(lm_result)\n"
   ]
  },
  {
   "cell_type": "markdown",
   "id": "04f45998",
   "metadata": {},
   "source": [
    "## Change in perplexity TODO"
   ]
  },
  {
   "cell_type": "code",
   "execution_count": 4,
   "id": "c532a957",
   "metadata": {},
   "outputs": [],
   "source": [
    "# ### Next we test what happens if we check te change in perplexity of the RE. \n",
    "# from utils.analysis import calc_change_in_perplexity_experiment\n",
    "# change_in_perplexity = calc_change_in_perplexity_experiment(lm_RE, dataloader_test, n_experiments=10, n_extra_mask=1)\n",
    "# change_in_perplexity"
   ]
  },
  {
   "cell_type": "markdown",
   "id": "87500b1b",
   "metadata": {},
   "source": [
    "## Distribution of mask"
   ]
  },
  {
   "cell_type": "code",
   "execution_count": 5,
   "id": "c9d69192",
   "metadata": {},
   "outputs": [
    {
     "name": "stdout",
     "output_type": "stream",
     "text": [
      "{'abs_average': tensor(41.9363), 'rel_average': tensor(0.5137), 'abs_pos_count': Counter({0.0: 28336, 10.0: 302, 7.0: 300, 3.0: 293, 6.0: 292, 5.0: 290, 4.0: 286, 9.0: 278, 8.0: 275, 13.0: 275, 18.0: 269, 17.0: 269, 21.0: 267, 19.0: 262, 12.0: 258, 15.0: 257, 14.0: 255, 26.0: 248, 16.0: 247, 25.0: 246, 20.0: 239, 30.0: 235, 23.0: 233, 22.0: 231, 28.0: 230, 29.0: 230, 11.0: 228, 1.0: 227, 24.0: 226, 2.0: 216, 38.0: 212, 35.0: 212, 27.0: 210, 34.0: 210, 31.0: 210, 39.0: 209, 32.0: 206, 33.0: 206, 41.0: 203, 46.0: 191, 40.0: 190, 42.0: 190, 36.0: 188, 37.0: 187, 47.0: 186, 54.0: 183, 44.0: 181, 53.0: 178, 45.0: 177, 50.0: 177, 43.0: 173, 51.0: 171, 52.0: 162, 48.0: 159, 59.0: 159, 61.0: 158, 49.0: 155, 62.0: 154, 66.0: 152, 56.0: 147, 63.0: 145, 58.0: 145, 68.0: 145, 69.0: 143, 60.0: 137, 57.0: 136, 55.0: 134, 67.0: 134, 76.0: 134, 65.0: 133, 70.0: 129, 79.0: 127, 78.0: 126, 73.0: 125, 64.0: 123, 74.0: 122, 71.0: 122, 75.0: 121, 72.0: 120, 77.0: 118, 82.0: 116, 86.0: 115, 80.0: 115, 81.0: 114, 83.0: 106, 85.0: 102, 87.0: 101, 88.0: 101, 96.0: 101, 94.0: 100, 84.0: 99, 91.0: 96, 97.0: 93, 92.0: 93, 90.0: 92, 111.0: 91, 95.0: 90, 93.0: 90, 105.0: 88, 99.0: 88, 98.0: 82, 89.0: 81, 104.0: 80, 108.0: 79, 110.0: 77, 101.0: 77, 106.0: 77, 102.0: 77, 109.0: 76, 114.0: 76, 100.0: 75, 103.0: 74, 121.0: 70, 117.0: 70, 125.0: 70, 120.0: 69, 128.0: 68, 126.0: 67, 122.0: 66, 124.0: 66, 118.0: 64, 123.0: 62, 119.0: 62, 107.0: 61, 127.0: 60, 112.0: 57, 116.0: 57, 139.0: 57, 136.0: 54, 143.0: 53, 132.0: 53, 134.0: 52, 129.0: 52, 113.0: 51, 138.0: 51, 131.0: 51, 115.0: 50, 135.0: 49, 148.0: 48, 133.0: 46, 130.0: 46, 172.0: 46, 145.0: 45, 147.0: 45, 144.0: 44, 140.0: 44, 146.0: 44, 142.0: 42, 141.0: 41, 161.0: 41, 137.0: 40, 158.0: 40, 151.0: 38, 168.0: 38, 176.0: 37, 170.0: 37, 162.0: 37, 181.0: 37, 164.0: 36, 159.0: 36, 177.0: 36, 152.0: 36, 179.0: 35, 149.0: 35, 165.0: 34, 175.0: 34, 171.0: 34, 173.0: 33, 163.0: 33, 156.0: 33, 153.0: 33, 167.0: 32, 178.0: 32, 169.0: 32, 154.0: 32, 160.0: 32, 174.0: 31, 155.0: 31, 180.0: 30, 157.0: 30, 166.0: 29, 150.0: 29, 226.0: 28, 188.0: 27, 202.0: 25, 224.0: 25, 252.0: 24, 210.0: 24, 184.0: 24, 225.0: 24, 201.0: 24, 199.0: 24, 194.0: 23, 187.0: 23, 254.0: 23, 228.0: 23, 251.0: 23, 196.0: 23, 208.0: 23, 246.0: 22, 243.0: 22, 234.0: 22, 218.0: 22, 185.0: 22, 249.0: 22, 238.0: 22, 221.0: 22, 195.0: 22, 192.0: 22, 248.0: 21, 242.0: 21, 230.0: 21, 214.0: 21, 204.0: 21, 233.0: 21, 213.0: 21, 193.0: 21, 190.0: 21, 240.0: 21, 237.0: 20, 222.0: 20, 212.0: 20, 200.0: 20, 198.0: 20, 215.0: 20, 186.0: 20, 183.0: 20, 231.0: 20, 211.0: 20, 191.0: 19, 216.0: 19, 250.0: 19, 205.0: 19, 189.0: 19, 253.0: 19, 239.0: 18, 235.0: 18, 220.0: 18, 182.0: 18, 203.0: 18, 219.0: 18, 245.0: 17, 227.0: 17, 207.0: 17, 236.0: 17, 206.0: 17, 244.0: 16, 217.0: 16, 241.0: 16, 232.0: 16, 247.0: 15, 229.0: 15, 209.0: 15, 223.0: 14, 197.0: 14, 284.0: 8, 270.0: 8, 285.0: 8, 292.0: 7, 286.0: 7, 282.0: 7, 281.0: 7, 269.0: 7, 266.0: 7, 297.0: 6, 280.0: 6, 279.0: 6, 277.0: 6, 265.0: 6, 259.0: 6, 294.0: 6, 260.0: 6, 258.0: 6, 278.0: 6, 257.0: 6, 299.0: 5, 295.0: 5, 290.0: 5, 289.0: 5, 268.0: 5, 263.0: 5, 298.0: 5, 291.0: 5, 262.0: 5, 271.0: 5, 296.0: 5, 287.0: 5, 288.0: 5, 272.0: 4, 267.0: 4, 256.0: 4, 283.0: 4, 274.0: 4, 275.0: 4, 264.0: 4, 276.0: 3, 255.0: 3, 293.0: 3, 273.0: 3, 261.0: 3}), 'rel_pos_count': Counter({0.0: 29285, 40.0: 2419, 60.0: 2385, 20.0: 2385, 50.0: 2367, 10.0: 2365, 30.0: 2353, 70.0: 2310, 90.0: 2304, 80.0: 2298, 100.0: 1256})}\n"
     ]
    }
   ],
   "source": [
    "from utils.analysis import rational_analysis\n",
    "\n",
    "#Make sure we use the hard (binarized) values\n",
    "lm_RE.hard = True\n",
    "rational_distributions = rational_analysis(lm_RE, dataloader_test)\n",
    "print(rational_distributions)"
   ]
  },
  {
   "cell_type": "code",
   "execution_count": 6,
   "id": "801b15b1",
   "metadata": {},
   "outputs": [
    {
     "data": {
      "text/plain": [
       "[<matplotlib.lines.Line2D at 0x1ed876e1ba8>]"
      ]
     },
     "execution_count": 6,
     "metadata": {},
     "output_type": "execute_result"
    },
    {
     "data": {
      "image/png": "[encoded data removed]",
      "text/plain": [
       "<Figure size 432x288 with 1 Axes>"
      ]
     },
     "metadata": {
      "needs_background": "light"
     },
     "output_type": "display_data"
    }
   ],
   "source": [
    "import matplotlib.pyplot as plt\n",
    "relative_counts = rational_distributions[\"rel_pos_count\"]\n",
    "total = sum(relative_counts.values())\n",
    "X = [int(k) for k in relative_counts.keys()] \n",
    "Y = [r/total for r in relative_counts.values()]\n",
    "\n",
    "pairs = sorted([(x,y) for x,y in zip(X, Y)], key=lambda p: p[0])\n",
    "plt.xlabel\n",
    "X_sorted = [p[0] for p in pairs]\n",
    "Y_sorted = [p[1] for p in pairs]\n",
    "plt.xlabel(\"Relative Distance\")\n",
    "plt.ylabel(\"Percentage\")\n",
    "plt.plot(X_sorted, Y_sorted, \"\")\n"
   ]
  },
  {
   "cell_type": "code",
   "execution_count": 7,
   "id": "d5c7fe35",
   "metadata": {},
   "outputs": [
    {
     "data": {
      "text/plain": [
       "<BarContainer object of 11 artists>"
      ]
     },
     "execution_count": 7,
     "metadata": {},
     "output_type": "execute_result"
    },
    {
     "data": {
      "image/png": "[encoded data removed]",
      "text/plain": [
       "<Figure size 432x288 with 1 Axes>"
      ]
     },
     "metadata": {
      "needs_background": "light"
     },
     "output_type": "display_data"
    }
   ],
   "source": [
    "plt.xlabel(\"Relative Distance\")\n",
    "plt.ylabel(\"Percentage\")\n",
    "plt.bar(X, Y)"
   ]
  },
  {
   "cell_type": "markdown",
   "id": "66f07bbd",
   "metadata": {},
   "source": [
    "## Analysing some examples"
   ]
  },
  {
   "cell_type": "code",
   "execution_count": 8,
   "id": "9c94f1d8",
   "metadata": {},
   "outputs": [],
   "source": [
    "examples = [\"How are you doing?\", \"What did you do today?\", \"How's work?\", \"Would you like some coffee?\"]"
   ]
  },
  {
   "cell_type": "code",
   "execution_count": 9,
   "id": "ac0492d1",
   "metadata": {},
   "outputs": [],
   "source": [
    "## First with greedy rationals\n",
    "completed_dialogues_chance = lm_RE.complete_dialogues(examples, total_length=40, greedy_rationals=False)\n",
    "completed_dialogues_greedy = lm_RE.complete_dialogues(examples, total_length=40, greedy_rationals=True)"
   ]
  },
  {
   "cell_type": "code",
   "execution_count": 10,
   "id": "6b711811",
   "metadata": {},
   "outputs": [],
   "source": [
    "from utils.analysis import pretty_print_completed_dialogues"
   ]
  },
  {
   "cell_type": "code",
   "execution_count": 11,
   "id": "3741d809",
   "metadata": {},
   "outputs": [
    {
     "name": "stdout",
     "output_type": "stream",
     "text": [
      "context ----> response\n",
      "how are you doing ? ------> [SEP] i ’ m going for a long time .\n",
      "how are you doing [UNK] [UNK] i [UNK] m [UNK] for a long time [UNK] ------> ? [SEP] well , i ’ m glad to hear\n",
      "how [UNK] you [UNK] ? [SEP] i ’ m [UNK] for a long [UNK] . ? [UNK] well [UNK] i ’ m glad to [UNK] ------> with me , but i ’ ve got all the\n",
      "how are [UNK] [UNK] [UNK] [SEP] i ’ [UNK] [UNK] [UNK] [UNK] [UNK] time . [UNK] [SEP] [UNK] , [UNK] ’ m glad to [UNK] with me , [UNK] i [UNK] [UNK] [UNK] [UNK] the ------> ater for your family . [SEP] well . i hope\n",
      "what did you do today ? ------> [SEP] i would like to check on my office .\n",
      "what did you [UNK] today [UNK] [SEP] [UNK] [UNK] [UNK] to check on my [UNK] . ------> the interview office , i want to get into this\n",
      "what [UNK] you do [UNK] ? [SEP] i would like to [UNK] on [UNK] office [UNK] the [UNK] [UNK] [UNK] i [UNK] [UNK] [UNK] [UNK] this ------> afternoon , but i would do if i could help\n",
      "what did you do today ? [SEP] i [UNK] [UNK] [UNK] check [UNK] my office . [UNK] interview office , [UNK] [UNK] to get into [UNK] [UNK] , but i [UNK] do [UNK] i [UNK] [UNK] ------> . [SEP] well , i don ’ t know how\n",
      "how ' s work ? ------> [SEP] it was very busy you really like that .\n",
      "how [UNK] [UNK] work ? [SEP] it [UNK] [UNK] busy you really [UNK] [UNK] . ------> [SEP] it ' s about a real family . but\n",
      "how ' [UNK] work ? [UNK] [UNK] was very busy you really like [UNK] . [UNK] it ' [UNK] about [UNK] [UNK] family [UNK] [UNK] ------> , and the weather had a very good member\n",
      "[UNK] ' s work [UNK] [UNK] [UNK] was very [UNK] you [UNK] [UNK] that [UNK] [UNK] it ' s [UNK] [UNK] real [UNK] [UNK] [UNK] , and [UNK] [UNK] [UNK] [UNK] very good [UNK] [UNK] ------> . [SEP] why don ' t i ? [SEP] well\n",
      "would you like some coffee ? ------> [SEP] yes , i ' m sorry . i would\n",
      "[UNK] you like [UNK] coffee ? [UNK] yes , i [UNK] m sorry [UNK] i [UNK] ------> . i know i am . [SEP] but how was\n",
      "[UNK] you like [UNK] [UNK] ? [SEP] [UNK] , i ' [UNK] [UNK] . i would . i know i [UNK] . [SEP] but [UNK] [UNK] ------> , i don ' t know where you do .\n",
      "[UNK] you [UNK] some coffee ? [UNK] yes , i ' m [UNK] . [UNK] would . i know [UNK] [UNK] . [SEP] [UNK] [UNK] was [UNK] i [UNK] ' [UNK] know where [UNK] do [UNK] ------> s ? [SEP] well , i know you have a\n"
     ]
    }
   ],
   "source": [
    "pretty_print_completed_dialogues(completed_dialogues_greedy)"
   ]
  },
  {
   "cell_type": "code",
   "execution_count": 12,
   "id": "e1700c55",
   "metadata": {},
   "outputs": [
    {
     "name": "stdout",
     "output_type": "stream",
     "text": [
      "context ----> response\n",
      "how are you doing ? ------> [SEP] i was really busy in this book , but\n",
      "how [UNK] [UNK] [UNK] ? [SEP] [UNK] [UNK] really [UNK] [UNK] this [UNK] , [UNK] ------> s in the country . i think it is so\n",
      "[UNK] [UNK] [UNK] [UNK] ? [UNK] i was [UNK] [UNK] in [UNK] book , but [UNK] in [UNK] country . [UNK] [UNK] it is [UNK] ------> , i ' m not sure . [SEP] what did\n",
      "how are you [UNK] ? [UNK] [UNK] [UNK] really [UNK] in this book , [UNK]s in [UNK] country [UNK] [UNK] think [UNK] is so , i ' [UNK] not sure . [SEP] [UNK] [UNK] ------> , i know you will have a look at the\n",
      "what did you do today ? ------> [SEP] it ' s too bad . i ’ ll\n",
      "what did you do [UNK] ? [SEP] it ' [UNK] [UNK] [UNK] . [UNK] [UNK] ll ------> be a little tip ! the weather is so\n",
      "what did you [UNK] [UNK] ? [SEP] [UNK] ' [UNK] too [UNK] [UNK] [UNK] ’ ll be a [UNK] [UNK]ip [UNK] the weather is so ------> good . [SEP] i ' m glad to hear that\n",
      "[UNK] did [UNK] [UNK] today [UNK] [SEP] it [UNK] s too bad [UNK] i ’ [UNK] [UNK] a [UNK] [UNK] [UNK] ! [UNK] weather is [UNK] good [UNK] [SEP] i ' [UNK] glad to [UNK] that ------> . you don ' t look like if i was\n",
      "how ' s work ? ------> [SEP] not much . but to mem , i\n",
      "[UNK] [UNK] [UNK] work ? [SEP] not [UNK] . but [UNK] [UNK] [UNK] [UNK] i ------> could be able to help you at the last minute\n",
      "how [UNK] [UNK] [UNK] ? [UNK] [UNK] [UNK] . but to [UNK]m [UNK] i [UNK] be able [UNK] help [UNK] at [UNK] last [UNK] ------> . [SEP] it must be really hard to do that\n",
      "[UNK] ' [UNK] [UNK] ? [UNK] not much . [UNK] to [UNK]m , i could be able [UNK] help [UNK] at the last minute . [UNK] [UNK] [UNK] be [UNK] hard to do that ------> . i don ' t want to go to the\n",
      "would you like some coffee ? ------> [SEP] yes , i ' d like to have a\n",
      "would [UNK] [UNK] some [UNK] [UNK] [SEP] [UNK] [UNK] [UNK] ' [UNK] like [UNK] [UNK] a ------> year ? [SEP] i ' m afraid i ' m\n",
      "would you like some [UNK] ? [SEP] yes , [UNK] [UNK] [UNK] [UNK] to [UNK] [UNK] [UNK] ? [SEP] i ' m afraid [UNK] ' [UNK] ------> on . i would like it . what is it\n",
      "would you [UNK] [UNK] [UNK] ? [SEP] yes , i ' d like [UNK] have a year ? [SEP] i [UNK] [UNK] [UNK] i ' m on . i [UNK] like [UNK] [UNK] [UNK] is [UNK] ------> , sir . [SEP] i ' ll do the new\n"
     ]
    }
   ],
   "source": [
    "pretty_print_completed_dialogues(completed_dialogues_chance)"
   ]
  },
  {
   "cell_type": "code",
   "execution_count": null,
   "id": "406c2543",
   "metadata": {},
   "outputs": [],
   "source": []
  }
 ],
 "metadata": {
  "kernelspec": {
   "display_name": "Python 3",
   "language": "python",
   "name": "python3"
  },
  "language_info": {
   "codemirror_mode": {
    "name": "ipython",
    "version": 3
   },
   "file_extension": ".py",
   "mimetype": "text/x-python",
   "name": "python",
   "nbconvert_exporter": "python",
   "pygments_lexer": "ipython3",
   "version": "3.6.13"
  }
 },
 "nbformat": 4,
 "nbformat_minor": 5
}
