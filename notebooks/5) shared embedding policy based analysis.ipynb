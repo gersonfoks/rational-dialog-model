{
 "cells": [
  {
   "cell_type": "markdown",
   "id": "a5904cd4",
   "metadata": {},
   "source": [
    "# Analysis\n",
    "\n",
    "In this notebook we will analyse the models that we created.\n",
    "\n",
    "The analysis consists of:\n",
    "\n",
    "1) comparing the perplexity and the accuracy between the rationalized and non-rationalized model \n",
    "\n",
    "2) Checking the change in perplexity when removing even more from the rational\n",
    "\n",
    "3) Checking the distribution of rationals\n",
    "\n",
    "4) Qualitative analysis of the some examples"
   ]
  },
  {
   "cell_type": "markdown",
   "id": "263adeb9",
   "metadata": {},
   "source": [
    "## Setup"
   ]
  },
  {
   "cell_type": "code",
   "execution_count": 1,
   "id": "bcbdbf72",
   "metadata": {},
   "outputs": [],
   "source": [
    "#First we fix the relative imports\n",
    "import os\n",
    "import sys\n",
    "# M\n",
    "# module_path = os.path.abspath(os.path.join('..'))\n",
    "# if module_path not in sys.path:\n",
    "#     sys.path.append(module_path)\n",
    "    \n",
    "#Make sure we are in the top folder. \n",
    "os.chdir(os.path.join('..'))"
   ]
  },
  {
   "cell_type": "code",
   "execution_count": 2,
   "id": "b583e598",
   "metadata": {},
   "outputs": [
    {
     "name": "stderr",
     "output_type": "stream",
     "text": [
      "C:\\Users\\gerso\\projects\\rational-dialog-model\\utils\\analysis.py:24: YAMLLoadWarning: calling yaml.load() without Loader=... is deprecated, as the default Loader is unsafe. Please read https://msg.pyyaml.org/load for full details.\n",
      "  config = yaml.load(f)\n"
     ]
    },
    {
     "name": "stdout",
     "output_type": "stream",
     "text": [
      "./daily_dialog/tokenizer.json\n"
     ]
    },
    {
     "name": "stderr",
     "output_type": "stream",
     "text": [
      "Using custom data configuration default\n",
      "Reusing dataset daily_dialog (C:\\Users\\gerso\\.cache\\huggingface\\datasets\\daily_dialog\\default\\1.0.0\\c03444008e9508b8b76f1f6793742d37d5e5f83364f8d573c2747bff435ea55c)\n",
      "Using custom data configuration default\n",
      "Reusing dataset daily_dialog (C:\\Users\\gerso\\.cache\\huggingface\\datasets\\daily_dialog\\default\\1.0.0\\c03444008e9508b8b76f1f6793742d37d5e5f83364f8d573c2747bff435ea55c)\n"
     ]
    },
    {
     "name": "stdout",
     "output_type": "stream",
     "text": [
      "load pretrained_model:  ./models/small_lm.pt\n",
      "load pretrained_model:  ./models/small_lm_shared_kum_rationalized.pt\n"
     ]
    },
    {
     "name": "stderr",
     "output_type": "stream",
     "text": [
      "GPU available: True, used: True\n",
      "TPU available: False, using: 0 TPU cores\n"
     ]
    }
   ],
   "source": [
    "### We load the models based on the configs for analysis. \n",
    "from utils.analysis import parse_config_for_analysis\n",
    "config_path = 'configs/simple_RE_config_shared_kum.yml'\n",
    "\n",
    "loaded_info = parse_config_for_analysis(config_path)\n",
    "\n"
   ]
  },
  {
   "cell_type": "code",
   "execution_count": 3,
   "id": "5caa06ac",
   "metadata": {},
   "outputs": [],
   "source": [
    "lm_RE = loaded_info[\"lightning_language_model_RE\"].to(\"cuda\")\n",
    "lm = loaded_info[\"lightning_language_model_no_RE\"].to(\"cpu\")\n",
    "tokenizer = loaded_info[\"tokenizer\"]\n",
    "dataloader_test = loaded_info[\"dataloader_test\"]"
   ]
  },
  {
   "cell_type": "markdown",
   "id": "4003d667",
   "metadata": {},
   "source": [
    "## Perplexity and Accuracy"
   ]
  },
  {
   "cell_type": "code",
   "execution_count": null,
   "id": "f347d7ab",
   "metadata": {},
   "outputs": [],
   "source": []
  },
  {
   "cell_type": "code",
   "execution_count": 4,
   "id": "53bfdb09",
   "metadata": {},
   "outputs": [
    {
     "name": "stderr",
     "output_type": "stream",
     "text": [
      "100%|██████████████████████████████████████████████████████████████████████████████████| 10/10 [00:00<00:00, 29.93it/s]\n",
      "100%|██████████████████████████████████████████████████████████████████████████████████| 10/10 [00:00<00:00, 60.98it/s]\n",
      "100%|██████████████████████████████████████████████████████████████████████████████████| 10/10 [00:00<00:00, 65.79it/s]\n",
      "100%|██████████████████████████████████████████████████████████████████████████████████| 10/10 [00:00<00:00, 59.88it/s]\n",
      "100%|██████████████████████████████████████████████████████████████████████████████████| 10/10 [00:00<00:00, 62.50it/s]"
     ]
    },
    {
     "name": "stdout",
     "output_type": "stream",
     "text": [
      "{'mean_acc': {'mean': 0.33447280526161194, 'std': 0.0}, 'mean_perplexity': {'mean': 30.152910232543945, 'std': 0.0}, 'mean_mask_percentage': {'mean': 0.4951922595500946, 'std': 0.0}}\n"
     ]
    },
    {
     "name": "stderr",
     "output_type": "stream",
     "text": [
      "\n"
     ]
    }
   ],
   "source": [
    "### First thing we compare the perplexity and accuracy on the testset.\n",
    "from utils.analysis import get_results, get_results_RE\n",
    "\n",
    "lm_RE.hard = True\n",
    "lm_RE_result = get_results_RE(lm_RE, dataloader_test, 1,)\n",
    "#lm_result = get_results(lm, dataloader_test)\n",
    "print(lm_RE_result)\n",
    "#print(lm_result)\n"
   ]
  },
  {
   "cell_type": "markdown",
   "id": "04f45998",
   "metadata": {},
   "source": [
    "## Change in perplexity TODO"
   ]
  },
  {
   "cell_type": "code",
   "execution_count": 5,
   "id": "c532a957",
   "metadata": {},
   "outputs": [],
   "source": [
    "# ### Next we test what happens if we check te change in perplexity of the RE. \n",
    "# from utils.analysis import calc_change_in_perplexity_experiment\n",
    "# change_in_perplexity = calc_change_in_perplexity_experiment(lm_RE, dataloader_test, n_experiments=10, n_extra_mask=1)\n",
    "# change_in_perplexity"
   ]
  },
  {
   "cell_type": "markdown",
   "id": "87500b1b",
   "metadata": {},
   "source": [
    "## Distribution of mask"
   ]
  },
  {
   "cell_type": "code",
   "execution_count": 6,
   "id": "c9d69192",
   "metadata": {},
   "outputs": [
    {
     "name": "stdout",
     "output_type": "stream",
     "text": [
      "{'abs_average': tensor(40.1968, device='cuda:0'), 'rel_average': tensor(0.4091, device='cuda:0'), 'abs_pos_count': Counter({0.0: 12854, 9.0: 264, 8.0: 251, 6.0: 244, 4.0: 241, 16.0: 238, 10.0: 237, 5.0: 235, 14.0: 232, 11.0: 230, 7.0: 229, 13.0: 227, 15.0: 223, 3.0: 221, 12.0: 216, 2.0: 212, 17.0: 206, 21.0: 204, 24.0: 203, 19.0: 202, 22.0: 201, 26.0: 200, 35.0: 192, 18.0: 191, 23.0: 190, 20.0: 185, 34.0: 184, 28.0: 183, 31.0: 182, 25.0: 181, 30.0: 180, 36.0: 176, 27.0: 175, 41.0: 167, 29.0: 163, 33.0: 163, 59.0: 158, 42.0: 157, 43.0: 157, 51.0: 156, 40.0: 153, 39.0: 151, 45.0: 151, 53.0: 150, 54.0: 147, 38.0: 146, 32.0: 146, 44.0: 144, 55.0: 144, 37.0: 143, 48.0: 143, 65.0: 143, 47.0: 141, 64.0: 141, 63.0: 135, 68.0: 132, 49.0: 129, 50.0: 126, 46.0: 125, 56.0: 125, 57.0: 124, 67.0: 120, 52.0: 117, 80.0: 117, 72.0: 110, 76.0: 110, 73.0: 107, 58.0: 106, 61.0: 106, 75.0: 104, 85.0: 104, 60.0: 102, 82.0: 102, 79.0: 102, 71.0: 100, 74.0: 100, 90.0: 99, 62.0: 96, 78.0: 96, 69.0: 94, 87.0: 94, 91.0: 94, 86.0: 93, 92.0: 89, 66.0: 88, 94.0: 87, 84.0: 86, 88.0: 84, 83.0: 84, 111.0: 84, 70.0: 83, 89.0: 81, 93.0: 81, 77.0: 80, 109.0: 80, 95.0: 78, 100.0: 77, 103.0: 76, 98.0: 73, 112.0: 73, 96.0: 72, 107.0: 72, 115.0: 72, 108.0: 71, 106.0: 71, 99.0: 70, 110.0: 64, 118.0: 64, 122.0: 63, 105.0: 62, 101.0: 61, 116.0: 59, 126.0: 59, 104.0: 58, 120.0: 57, 138.0: 57, 114.0: 56, 133.0: 56, 97.0: 55, 130.0: 55, 143.0: 55, 119.0: 54, 136.0: 54, 135.0: 54, 127.0: 53, 113.0: 52, 128.0: 52, 145.0: 52, 141.0: 52, 134.0: 52, 129.0: 51, 151.0: 50, 124.0: 49, 146.0: 49, 144.0: 48, 140.0: 46, 81.0: 45, 139.0: 43, 132.0: 43, 125.0: 43, 137.0: 42, 121.0: 40, 150.0: 40, 155.0: 40, 123.0: 39, 164.0: 36, 158.0: 36, 157.0: 36, 102.0: 34, 117.0: 34, 154.0: 34, 168.0: 34, 148.0: 33, 163.0: 32, 153.0: 31, 131.0: 30, 170.0: 30, 169.0: 30, 156.0: 29, 174.0: 29, 142.0: 27, 162.0: 27, 177.0: 27, 160.0: 26, 189.0: 26, 184.0: 26, 182.0: 26, 181.0: 26, 178.0: 26, 149.0: 25, 194.0: 25, 192.0: 25, 187.0: 25, 147.0: 24, 191.0: 24, 175.0: 24, 159.0: 24, 196.0: 24, 166.0: 23, 186.0: 23, 185.0: 23, 179.0: 23, 152.0: 23, 161.0: 22, 183.0: 22, 171.0: 21, 173.0: 21, 180.0: 20, 167.0: 20, 193.0: 19, 176.0: 18, 195.0: 18, 165.0: 17, 200.0: 17, 201.0: 15, 208.0: 15, 198.0: 14, 210.0: 11, 172.0: 10, 209.0: 10, 212.0: 10, 219.0: 10, 206.0: 9, 214.0: 9, 205.0: 9, 190.0: 8, 211.0: 7, 204.0: 7, 220.0: 7, 188.0: 6, 222.0: 6, 199.0: 4, 216.0: 4, 207.0: 3, 217.0: 3, 227.0: 3, 225.0: 3, 224.0: 2, 218.0: 2}), 'rel_pos_count': Counter({0.0: 13673, 20.0: 2434, 10.0: 2413, 30.0: 2402, 50.0: 2339, 60.0: 2318, 40.0: 2261, 70.0: 2212, 80.0: 1075, 90.0: 93})}\n"
     ]
    }
   ],
   "source": [
    "from utils.analysis import rational_analysis\n",
    "\n",
    "#Make sure we use the hard (binarized) values\n",
    "\n",
    "\n",
    "rational_distributions = rational_analysis(lm_RE, dataloader_test)\n",
    "print(rational_distributions)"
   ]
  },
  {
   "cell_type": "code",
   "execution_count": 7,
   "id": "801b15b1",
   "metadata": {},
   "outputs": [
    {
     "data": {
      "text/plain": [
       "[<matplotlib.lines.Line2D at 0x27e919d4278>]"
      ]
     },
     "execution_count": 7,
     "metadata": {},
     "output_type": "execute_result"
    },
    {
     "data": {
      "image/png": "[encoded data removed]",
      "text/plain": [
       "<Figure size 432x288 with 1 Axes>"
      ]
     },
     "metadata": {
      "needs_background": "light"
     },
     "output_type": "display_data"
    }
   ],
   "source": [
    "import matplotlib.pyplot as plt\n",
    "relative_counts = rational_distributions[\"rel_pos_count\"]\n",
    "total = sum(relative_counts.values())\n",
    "X = [int(k) for k in relative_counts.keys()] \n",
    "Y = [r/total for r in relative_counts.values()]\n",
    "\n",
    "pairs = sorted([(x,y) for x,y in zip(X, Y)], key=lambda p: p[0])\n",
    "plt.xlabel\n",
    "X_sorted = [p[0] for p in pairs]\n",
    "Y_sorted = [p[1] for p in pairs]\n",
    "plt.xlabel(\"Relative Distance\")\n",
    "plt.ylabel(\"Percentage\")\n",
    "plt.plot(X_sorted, Y_sorted, \"\")\n"
   ]
  },
  {
   "cell_type": "code",
   "execution_count": 8,
   "id": "d5c7fe35",
   "metadata": {},
   "outputs": [
    {
     "data": {
      "text/plain": [
       "<BarContainer object of 10 artists>"
      ]
     },
     "execution_count": 8,
     "metadata": {},
     "output_type": "execute_result"
    },
    {
     "data": {
      "image/png": "[encoded data removed]",
      "text/plain": [
       "<Figure size 432x288 with 1 Axes>"
      ]
     },
     "metadata": {
      "needs_background": "light"
     },
     "output_type": "display_data"
    }
   ],
   "source": [
    "plt.xlabel(\"Relative Distance\")\n",
    "plt.ylabel(\"Percentage\")\n",
    "plt.bar(X, Y)"
   ]
  },
  {
   "cell_type": "markdown",
   "id": "66f07bbd",
   "metadata": {},
   "source": [
    "## Analysing some examples"
   ]
  },
  {
   "cell_type": "code",
   "execution_count": 9,
   "id": "9c94f1d8",
   "metadata": {},
   "outputs": [],
   "source": [
    "examples = [\"How are you doing?\", \"What did you do today?\", \"How's work?\", \"Would you like some coffee?\"]"
   ]
  },
  {
   "cell_type": "code",
   "execution_count": 10,
   "id": "ac0492d1",
   "metadata": {},
   "outputs": [],
   "source": [
    "## First with greedy rationals\n",
    "completed_dialogue = lm_RE.complete_dialogues(examples, total_length=40, greedy_rationals=False)\n"
   ]
  },
  {
   "cell_type": "code",
   "execution_count": 11,
   "id": "6b711811",
   "metadata": {},
   "outputs": [
    {
     "name": "stdout",
     "output_type": "stream",
     "text": [
      "context ----> response\n",
      "how are you doing ? ------> [SEP] you ' re right , but you ’ re\n",
      "[MASK] [MASK] [MASK] [MASK] [MASK] [MASK] [MASK] [MASK] [MASK] right , but you ’ re ------> getting up . [SEP] i ' ve got my best\n",
      "[MASK] [MASK] [MASK] [MASK] [MASK] [MASK] [MASK] [MASK] [MASK] [MASK] [MASK] [MASK] [MASK] ’ [MASK] [MASK] [MASK] [MASK] [SEP] i ' ve got my best ------> . [SEP] what are you going to do ? [SEP]\n",
      "[MASK] [MASK] [MASK] [MASK] [MASK] [MASK] [MASK] [MASK] [MASK] [MASK] [MASK] [MASK] [MASK] ’ [MASK] [MASK] [MASK] [MASK] [MASK] [MASK] ' ve got my best . [SEP] what are you going to do ? [SEP] ------> i am not sure . what do you want ,\n",
      "what did you do today ? ------> [SEP] i ' m going to play english . [SEP]\n",
      "[MASK] [MASK] [MASK] do today ? [SEP] i ' m going to play english . [SEP] ------> i ' m glad you like my parents . [SEP]\n",
      "[MASK] [MASK] [MASK] [MASK] [MASK] [MASK] [MASK] [MASK] [MASK] [MASK] [MASK] [MASK] [MASK] [MASK] . [SEP] i ' m glad you like my parents . [SEP] ------> i know . i ’ m so excited ! [SEP]\n",
      "[MASK] [MASK] [MASK] [MASK] [MASK] [MASK] [MASK] [MASK] [MASK] [MASK] [MASK] [MASK] [MASK] [MASK] [MASK] [MASK] [MASK] [MASK] [MASK] [MASK] [MASK] [MASK] [MASK] [MASK] . [SEP] i know . i ’ m so excited ! [SEP] ------> why do you want to go out for a day\n",
      "how ' s work ? ------> [SEP] it ' s hard to meet for me .\n",
      "[MASK] [MASK] [MASK] [MASK] [MASK] [MASK] [MASK] [MASK] [MASK] [MASK] [MASK] [MASK] [MASK] [MASK] . ------> [SEP] how long have you been on the movie !\n",
      "[MASK] [MASK] [MASK] [MASK] [MASK] [MASK] [MASK] [MASK] [MASK] [MASK] [MASK] [MASK] [MASK] [MASK] [MASK] [SEP] how long have you been on the movie ! ------> [SEP] you are a lot for it , too .\n",
      "[MASK] [MASK] [MASK] [MASK] [MASK] [MASK] [MASK] [MASK] [MASK] [MASK] [MASK] [MASK] [MASK] [MASK] [MASK] [MASK] [MASK] [MASK] [MASK] [MASK] [MASK] [MASK] [MASK] [MASK] [MASK] [MASK] [MASK] [MASK] [MASK] [MASK] [MASK] [MASK] , too . ------> [SEP] you know , i can ’ t afford it\n",
      "would you like some coffee ? ------> [SEP] i am looking for a long day . [SEP]\n",
      "would you like some coffee ? [SEP] i am looking for a long day . [SEP] ------> how do you want it ? [SEP] i want your\n",
      "[MASK] [MASK] [MASK] [MASK] [MASK] [MASK] [MASK] [MASK] [MASK] [MASK] [MASK] [MASK] [MASK] [MASK] [MASK] [MASK] [MASK] [MASK] [MASK] [MASK] [MASK] ? [SEP] i want your ------> hairbaging . [SEP] i see . you\n",
      "[MASK] [MASK] [MASK] [MASK] [MASK] [MASK] [MASK] [MASK] [MASK] [MASK] [MASK] [MASK] [MASK] [MASK] [MASK] [MASK] [MASK] [MASK] [MASK] [MASK] [MASK] [MASK] [MASK] [MASK] [MASK] [MASK] [MASK] [MASK] [MASK] [MASK] [MASK] [MASK] [MASK] [MASK] . you ------> should take the newest i ' m going to\n"
     ]
    }
   ],
   "source": [
    "from utils.analysis import pretty_print_completed_dialogues\n",
    "pretty_print_completed_dialogues(completed_dialogue)"
   ]
  },
  {
   "cell_type": "code",
   "execution_count": 13,
   "id": "3741d809",
   "metadata": {},
   "outputs": [
    {
     "data": {
      "text/plain": [
       "[{'completed_dialogue': \"how are you doing ? [SEP] you ' re right , but you ’ re getting up . [SEP] i ' ve got my best . [SEP] what are you going to do ? [SEP] i am not sure . what do you want ,\",\n",
       "  'rationals': [tensor([]),\n",
       "   tensor([False, False, False, False, False, False, False, False, False,  True,\n",
       "            True,  True,  True,  True,  True], device='cuda:0'),\n",
       "   tensor([False, False, False, False, False, False, False, False, False, False,\n",
       "           False, False, False,  True, False, False, False, False,  True,  True,\n",
       "            True,  True,  True,  True,  True], device='cuda:0'),\n",
       "   tensor([False, False, False, False, False, False, False, False, False, False,\n",
       "           False, False, False,  True, False, False, False, False, False, False,\n",
       "            True,  True,  True,  True,  True,  True,  True,  True,  True,  True,\n",
       "            True,  True,  True,  True,  True], device='cuda:0')],\n",
       "  'rationalized_input': ['how are you doing ?',\n",
       "   '[MASK] [MASK] [MASK] [MASK] [MASK] [MASK] [MASK] [MASK] [MASK] right , but you ’ re',\n",
       "   \"[MASK] [MASK] [MASK] [MASK] [MASK] [MASK] [MASK] [MASK] [MASK] [MASK] [MASK] [MASK] [MASK] ’ [MASK] [MASK] [MASK] [MASK] [SEP] i ' ve got my best\",\n",
       "   \"[MASK] [MASK] [MASK] [MASK] [MASK] [MASK] [MASK] [MASK] [MASK] [MASK] [MASK] [MASK] [MASK] ’ [MASK] [MASK] [MASK] [MASK] [MASK] [MASK] ' ve got my best . [SEP] what are you going to do ? [SEP]\"],\n",
       "  'response': [\"[SEP] you ' re right , but you ’ re\",\n",
       "   \"getting up . [SEP] i ' ve got my best\",\n",
       "   '. [SEP] what are you going to do ? [SEP]',\n",
       "   'i am not sure . what do you want ,']},\n",
       " {'completed_dialogue': \"what did you do today ? [SEP] i ' m going to play english . [SEP] i ' m glad you like my parents . [SEP] i know . i ’ m so excited ! [SEP] why do you want to go out for a day\",\n",
       "  'rationals': [tensor([]),\n",
       "   tensor([False, False, False,  True,  True,  True,  True,  True,  True,  True,\n",
       "            True,  True,  True,  True,  True,  True], device='cuda:0'),\n",
       "   tensor([False, False, False, False, False, False, False, False, False, False,\n",
       "           False, False, False, False,  True,  True,  True,  True,  True,  True,\n",
       "            True,  True,  True,  True,  True,  True], device='cuda:0'),\n",
       "   tensor([False, False, False, False, False, False, False, False, False, False,\n",
       "           False, False, False, False, False, False, False, False, False, False,\n",
       "           False, False, False, False,  True,  True,  True,  True,  True,  True,\n",
       "            True,  True,  True,  True,  True,  True], device='cuda:0')],\n",
       "  'rationalized_input': ['what did you do today ?',\n",
       "   \"[MASK] [MASK] [MASK] do today ? [SEP] i ' m going to play english . [SEP]\",\n",
       "   \"[MASK] [MASK] [MASK] [MASK] [MASK] [MASK] [MASK] [MASK] [MASK] [MASK] [MASK] [MASK] [MASK] [MASK] . [SEP] i ' m glad you like my parents . [SEP]\",\n",
       "   '[MASK] [MASK] [MASK] [MASK] [MASK] [MASK] [MASK] [MASK] [MASK] [MASK] [MASK] [MASK] [MASK] [MASK] [MASK] [MASK] [MASK] [MASK] [MASK] [MASK] [MASK] [MASK] [MASK] [MASK] . [SEP] i know . i ’ m so excited ! [SEP]'],\n",
       "  'response': [\"[SEP] i ' m going to play english . [SEP]\",\n",
       "   \"i ' m glad you like my parents . [SEP]\",\n",
       "   'i know . i ’ m so excited ! [SEP]',\n",
       "   'why do you want to go out for a day']},\n",
       " {'completed_dialogue': \"how ' s work ? [SEP] it ' s hard to meet for me . [SEP] how long have you been on the movie ! [SEP] you are a lot for it , too . [SEP] you know , i can ’ t afford it\",\n",
       "  'rationals': [tensor([]),\n",
       "   tensor([False, False, False, False, False, False, False, False, False, False,\n",
       "           False, False, False, False,  True], device='cuda:0'),\n",
       "   tensor([False, False, False, False, False, False, False, False, False, False,\n",
       "           False, False, False, False, False,  True,  True,  True,  True,  True,\n",
       "            True,  True,  True,  True,  True], device='cuda:0'),\n",
       "   tensor([False, False, False, False, False, False, False, False, False, False,\n",
       "           False, False, False, False, False, False, False, False, False, False,\n",
       "           False, False, False, False, False, False, False, False, False, False,\n",
       "           False, False,  True,  True,  True], device='cuda:0')],\n",
       "  'rationalized_input': [\"how ' s work ?\",\n",
       "   '[MASK] [MASK] [MASK] [MASK] [MASK] [MASK] [MASK] [MASK] [MASK] [MASK] [MASK] [MASK] [MASK] [MASK] .',\n",
       "   '[MASK] [MASK] [MASK] [MASK] [MASK] [MASK] [MASK] [MASK] [MASK] [MASK] [MASK] [MASK] [MASK] [MASK] [MASK] [SEP] how long have you been on the movie !',\n",
       "   '[MASK] [MASK] [MASK] [MASK] [MASK] [MASK] [MASK] [MASK] [MASK] [MASK] [MASK] [MASK] [MASK] [MASK] [MASK] [MASK] [MASK] [MASK] [MASK] [MASK] [MASK] [MASK] [MASK] [MASK] [MASK] [MASK] [MASK] [MASK] [MASK] [MASK] [MASK] [MASK] , too .'],\n",
       "  'response': [\"[SEP] it ' s hard to meet for me .\",\n",
       "   '[SEP] how long have you been on the movie !',\n",
       "   '[SEP] you are a lot for it , too .',\n",
       "   '[SEP] you know , i can ’ t afford it']},\n",
       " {'completed_dialogue': \"would you like some coffee ? [SEP] i am looking for a long day . [SEP] how do you want it ? [SEP] i want your hairbaging . [SEP] i see . you should take the newest i ' m going to\",\n",
       "  'rationals': [tensor([]),\n",
       "   tensor([True, True, True, True, True, True, True, True, True, True, True, True,\n",
       "           True, True, True, True], device='cuda:0'),\n",
       "   tensor([False, False, False, False, False, False, False, False, False, False,\n",
       "           False, False, False, False, False, False, False, False, False, False,\n",
       "           False,  True,  True,  True,  True,  True], device='cuda:0'),\n",
       "   tensor([False, False, False, False, False, False, False, False, False, False,\n",
       "           False, False, False, False, False, False, False, False, False, False,\n",
       "           False, False, False, False, False, False, False, False, False, False,\n",
       "           False, False, False, False,  True,  True], device='cuda:0')],\n",
       "  'rationalized_input': ['would you like some coffee ?',\n",
       "   'would you like some coffee ? [SEP] i am looking for a long day . [SEP]',\n",
       "   '[MASK] [MASK] [MASK] [MASK] [MASK] [MASK] [MASK] [MASK] [MASK] [MASK] [MASK] [MASK] [MASK] [MASK] [MASK] [MASK] [MASK] [MASK] [MASK] [MASK] [MASK] ? [SEP] i want your',\n",
       "   '[MASK] [MASK] [MASK] [MASK] [MASK] [MASK] [MASK] [MASK] [MASK] [MASK] [MASK] [MASK] [MASK] [MASK] [MASK] [MASK] [MASK] [MASK] [MASK] [MASK] [MASK] [MASK] [MASK] [MASK] [MASK] [MASK] [MASK] [MASK] [MASK] [MASK] [MASK] [MASK] [MASK] [MASK] . you'],\n",
       "  'response': ['[SEP] i am looking for a long day . [SEP]',\n",
       "   'how do you want it ? [SEP] i want your',\n",
       "   'hairbaging . [SEP] i see . you',\n",
       "   \"should take the newest i ' m going to\"]}]"
      ]
     },
     "execution_count": 13,
     "metadata": {},
     "output_type": "execute_result"
    }
   ],
   "source": [
    "completed_dialogue"
   ]
  },
  {
   "cell_type": "code",
   "execution_count": null,
   "id": "e1700c55",
   "metadata": {},
   "outputs": [],
   "source": []
  },
  {
   "cell_type": "code",
   "execution_count": null,
   "id": "406c2543",
   "metadata": {},
   "outputs": [],
   "source": []
  },
  {
   "cell_type": "code",
   "execution_count": null,
   "id": "fa5683bf",
   "metadata": {},
   "outputs": [],
   "source": []
  }
 ],
 "metadata": {
  "kernelspec": {
   "display_name": "Python 3",
   "language": "python",
   "name": "python3"
  },
  "language_info": {
   "codemirror_mode": {
    "name": "ipython",
    "version": 3
   },
   "file_extension": ".py",
   "mimetype": "text/x-python",
   "name": "python",
   "nbconvert_exporter": "python",
   "pygments_lexer": "ipython3",
   "version": "3.6.13"
  }
 },
 "nbformat": 4,
 "nbformat_minor": 5
}
