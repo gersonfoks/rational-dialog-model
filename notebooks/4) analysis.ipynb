{
 "cells": [
  {
   "cell_type": "markdown",
   "id": "a5904cd4",
   "metadata": {},
   "source": [
    "# Analysis\n",
    "\n",
    "In this notebook we will analyse the models that we created.\n",
    "\n",
    "The analysis consists of:\n",
    "\n",
    "1) comparing the perplexity and the accuracy between the rationalized and non-rationalized model \n",
    "\n",
    "2) Checking the change in perplexity when removing even more from the rational\n",
    "\n",
    "3) Checking the distribution of rationals\n",
    "\n",
    "4) Qualitative analysis of the some examples"
   ]
  },
  {
   "cell_type": "markdown",
   "id": "263adeb9",
   "metadata": {},
   "source": [
    "## Setup"
   ]
  },
  {
   "cell_type": "code",
   "execution_count": 1,
   "id": "bcbdbf72",
   "metadata": {},
   "outputs": [],
   "source": [
    "#First we fix the relative imports\n",
    "import os\n",
    "import sys\n",
    "# M\n",
    "# module_path = os.path.abspath(os.path.join('..'))\n",
    "# if module_path not in sys.path:\n",
    "#     sys.path.append(module_path)\n",
    "    \n",
    "#Make sure we are in the top folder. \n",
    "os.chdir(os.path.join('..'))"
   ]
  },
  {
   "cell_type": "code",
   "execution_count": 2,
   "id": "b583e598",
   "metadata": {},
   "outputs": [
    {
     "name": "stderr",
     "output_type": "stream",
     "text": [
      "C:\\Users\\gerso\\projects\\rational-dialog-model\\utils\\analysis.py:22: YAMLLoadWarning: calling yaml.load() without Loader=... is deprecated, as the default Loader is unsafe. Please read https://msg.pyyaml.org/load for full details.\n",
      "  config = yaml.load(f)\n"
     ]
    },
    {
     "name": "stdout",
     "output_type": "stream",
     "text": [
      "./daily_dialog/tokenizer.json\n"
     ]
    },
    {
     "name": "stderr",
     "output_type": "stream",
     "text": [
      "Using custom data configuration default\n",
      "Reusing dataset daily_dialog (C:\\Users\\gerso\\.cache\\huggingface\\datasets\\daily_dialog\\default\\1.0.0\\c03444008e9508b8b76f1f6793742d37d5e5f83364f8d573c2747bff435ea55c)\n",
      "Using custom data configuration default\n",
      "Reusing dataset daily_dialog (C:\\Users\\gerso\\.cache\\huggingface\\datasets\\daily_dialog\\default\\1.0.0\\c03444008e9508b8b76f1f6793742d37d5e5f83364f8d573c2747bff435ea55c)\n",
      "GPU available: True, used: True\n",
      "TPU available: False, using: 0 TPU cores\n"
     ]
    },
    {
     "name": "stdout",
     "output_type": "stream",
     "text": [
      "load pretrained_model:  ./models/small_lm_test.pt\n",
      "load pretrained_model:  ./models/small_lm_test_rationalized.pt\n",
      "2\n"
     ]
    }
   ],
   "source": [
    "### We load the models based on the configs for analysis. \n",
    "from utils.analysis import parse_config_for_analysis\n",
    "config_path = 'configs/simple_RE_config.yml'\n",
    "\n",
    "loaded_info = parse_config_for_analysis(config_path)\n"
   ]
  },
  {
   "cell_type": "markdown",
   "id": "4003d667",
   "metadata": {},
   "source": [
    "## Perplexity and Accuracy"
   ]
  },
  {
   "cell_type": "code",
   "execution_count": 3,
   "id": "f347d7ab",
   "metadata": {},
   "outputs": [],
   "source": [
    "lm_RE = loaded_info[\"lightning_language_model_RE\"].to(\"cpu\")\n",
    "lm = loaded_info[\"lightning_language_model_no_RE\"].to(\"cpu\")\n",
    "tokenizer = loaded_info[\"tokenizer\"]\n",
    "dataloader_test = loaded_info[\"dataloader_test\"]"
   ]
  },
  {
   "cell_type": "code",
   "execution_count": 15,
   "id": "53bfdb09",
   "metadata": {},
   "outputs": [
    {
     "name": "stderr",
     "output_type": "stream",
     "text": [
      "  0%|                                                                                            | 0/6 [00:00<?, ?it/s]C:\\Users\\gerso\\anaconda3\\envs\\CDM\\lib\\site-packages\\torch\\nn\\_reduction.py:42: UserWarning: size_average and reduce args will be deprecated, please use reduction='none' instead.\n",
      "  warnings.warn(warning.format(ret))\n",
      "100%|████████████████████████████████████████████████████████████████████████████████████| 6/6 [00:00<00:00,  6.42it/s]\n",
      "100%|████████████████████████████████████████████████████████████████████████████████████| 6/6 [00:00<00:00,  6.87it/s]\n",
      "100%|████████████████████████████████████████████████████████████████████████████████████| 6/6 [00:00<00:00,  6.84it/s]\n",
      "100%|████████████████████████████████████████████████████████████████████████████████████| 6/6 [00:00<00:00,  6.79it/s]\n",
      "100%|████████████████████████████████████████████████████████████████████████████████████| 6/6 [00:00<00:00,  6.90it/s]\n",
      "100%|████████████████████████████████████████████████████████████████████████████████████| 6/6 [00:00<00:00,  6.84it/s]\n"
     ]
    },
    {
     "name": "stdout",
     "output_type": "stream",
     "text": [
      "{'mean_acc': {'mean': 0.2596055090427399, 'std': 0.0016445391817572544}, 'mean_perplexity': {'mean': 79.28618621826172, 'std': 0.17761544988410205}, 'mean_mask_percentage': {'mean': 0.20323391854763032, 'std': 0.007099964896639152}}\n",
      "{'mean_acc': tensor(0.3269), 'mean_perplexity': tensor(38.6099, grad_fn=<AddBackward0>), 'mean_mask_percentage': 0}\n"
     ]
    }
   ],
   "source": [
    "### First thing we compare the perplexity and accuracy on the testset.\n",
    "from utils.analysis import get_results, get_results_RE\n",
    "\n",
    "\n",
    "lm_RE_result = get_results_RE(lm_RE, dataloader_test, 5)\n",
    "lm_result = get_results(lm, dataloader_test)\n",
    "print(lm_RE_result)\n",
    "print(lm_result)\n"
   ]
  },
  {
   "cell_type": "markdown",
   "id": "04f45998",
   "metadata": {},
   "source": [
    "## Change in perplexity"
   ]
  },
  {
   "cell_type": "code",
   "execution_count": 14,
   "id": "c532a957",
   "metadata": {},
   "outputs": [
    {
     "data": {
      "text/plain": [
       "{'mean_diff_perplexity': {'mean': -0.004987716861069203,\n",
       "  'std': 0.14574273124017967}}"
      ]
     },
     "execution_count": 14,
     "metadata": {},
     "output_type": "execute_result"
    }
   ],
   "source": [
    "### Next we test what happens if we check te change in perplexity of the RE. \n",
    "from utils.analysis import calc_change_in_perplexity_experiment\n",
    "change_in_perplexity = calc_change_in_perplexity_experiment(lm_RE, dataloader_test, n_experiments=10, n_extra_mask=1)\n",
    "change_in_perplexity"
   ]
  },
  {
   "cell_type": "markdown",
   "id": "87500b1b",
   "metadata": {},
   "source": [
    "## Distribution of mask"
   ]
  },
  {
   "cell_type": "code",
   "execution_count": 6,
   "id": "c9d69192",
   "metadata": {},
   "outputs": [
    {
     "name": "stdout",
     "output_type": "stream",
     "text": [
      "{'abs_average': tensor(43.5493), 'rel_average': tensor(0.4765), 'abs_pos_count': Counter({0.0: 2021, 2.0: 159, 9.0: 157, 10.0: 156, 1.0: 154, 8.0: 153, 12.0: 153, 4.0: 153, 6.0: 152, 3.0: 151, 20.0: 150, 21.0: 150, 15.0: 150, 22.0: 149, 11.0: 149, 7.0: 149, 23.0: 149, 13.0: 148, 16.0: 148, 17.0: 147, 14.0: 147, 24.0: 146, 19.0: 146, 18.0: 146, 25.0: 145, 27.0: 144, 5.0: 144, 28.0: 139, 26.0: 138, 34.0: 126, 29.0: 126, 40.0: 123, 38.0: 123, 35.0: 123, 33.0: 122, 32.0: 121, 30.0: 121, 41.0: 120, 31.0: 119, 36.0: 118, 45.0: 116, 43.0: 116, 44.0: 115, 39.0: 115, 37.0: 115, 42.0: 114, 46.0: 111, 49.0: 98, 47.0: 98, 51.0: 96, 70.0: 95, 52.0: 95, 53.0: 95, 60.0: 93, 55.0: 92, 69.0: 91, 63.0: 91, 56.0: 91, 54.0: 91, 48.0: 91, 62.0: 90, 57.0: 90, 66.0: 89, 61.0: 89, 50.0: 89, 58.0: 89, 64.0: 88, 71.0: 86, 75.0: 86, 59.0: 86, 76.0: 85, 73.0: 85, 68.0: 85, 72.0: 85, 67.0: 84, 65.0: 84, 74.0: 78, 83.0: 64, 81.0: 64, 78.0: 64, 77.0: 64, 89.0: 63, 79.0: 63, 96.0: 61, 86.0: 60, 82.0: 60, 91.0: 60, 84.0: 60, 93.0: 60, 94.0: 59, 90.0: 59, 85.0: 59, 104.0: 58, 106.0: 57, 105.0: 57, 99.0: 57, 80.0: 57, 92.0: 57, 102.0: 56, 95.0: 56, 88.0: 56, 101.0: 55, 107.0: 55, 98.0: 55, 97.0: 55, 87.0: 55, 100.0: 55, 103.0: 53, 110.0: 52, 111.0: 50, 109.0: 50, 108.0: 50, 112.0: 49, 113.0: 47, 115.0: 35, 125.0: 34, 120.0: 34, 116.0: 33, 126.0: 32, 118.0: 32, 117.0: 32, 114.0: 32, 129.0: 31, 119.0: 31, 127.0: 31, 121.0: 31, 145.0: 30, 137.0: 30, 132.0: 30, 128.0: 30, 124.0: 30, 158.0: 30, 179.0: 30, 131.0: 29, 130.0: 29, 149.0: 29, 122.0: 29, 123.0: 29, 147.0: 28, 135.0: 28, 141.0: 28, 133.0: 28, 136.0: 28, 170.0: 27, 159.0: 27, 146.0: 27, 139.0: 27, 138.0: 27, 163.0: 26, 154.0: 26, 152.0: 26, 151.0: 26, 142.0: 26, 155.0: 26, 140.0: 26, 153.0: 26, 167.0: 25, 150.0: 25, 148.0: 25, 161.0: 25, 177.0: 24, 176.0: 24, 172.0: 24, 157.0: 24, 171.0: 24, 156.0: 24, 144.0: 24, 143.0: 24, 180.0: 23, 168.0: 23, 164.0: 23, 162.0: 23, 181.0: 23, 165.0: 23, 182.0: 23, 175.0: 22, 134.0: 22, 174.0: 22, 173.0: 22, 178.0: 21, 166.0: 21, 160.0: 21, 169.0: 18, 195.0: 4, 189.0: 4, 188.0: 4, 187.0: 4, 184.0: 4, 196.0: 3, 193.0: 3, 192.0: 3, 186.0: 3, 191.0: 3, 190.0: 3, 183.0: 3, 197.0: 2, 185.0: 2, 194.0: 1}), 'rel_pos_count': Counter({0.0: 2647, 20.0: 1460, 50.0: 1450, 40.0: 1399, 10.0: 1390, 60.0: 1364, 30.0: 1352, 70.0: 1242, 80.0: 1193, 90.0: 1016, 100.0: 515})}\n"
     ]
    }
   ],
   "source": [
    "from utils.analysis import rational_analysis\n",
    "\n",
    "rational_distributions = rational_analysis(lm_RE, dataloader_test)\n",
    "print(rational_distributions)"
   ]
  },
  {
   "cell_type": "code",
   "execution_count": 7,
   "id": "801b15b1",
   "metadata": {},
   "outputs": [
    {
     "data": {
      "text/plain": [
       "<BarContainer object of 11 artists>"
      ]
     },
     "execution_count": 7,
     "metadata": {},
     "output_type": "execute_result"
    },
    {
     "data": {
      "image/png": "[encoded data removed]",
      "text/plain": [
       "<Figure size 432x288 with 1 Axes>"
      ]
     },
     "metadata": {
      "needs_background": "light"
     },
     "output_type": "display_data"
    }
   ],
   "source": [
    "import matplotlib.pyplot as plt\n",
    "relative_counts = rational_distributions[\"rel_pos_count\"]\n",
    "plt.bar(relative_counts.keys(),relative_counts.values())"
   ]
  },
  {
   "cell_type": "code",
   "execution_count": 8,
   "id": "d5c7fe35",
   "metadata": {},
   "outputs": [
    {
     "data": {
      "text/plain": [
       "<BarContainer object of 198 artists>"
      ]
     },
     "execution_count": 8,
     "metadata": {},
     "output_type": "execute_result"
    },
    {
     "data": {
      "image/png": "[encoded data removed]",
      "text/plain": [
       "<Figure size 432x288 with 1 Axes>"
      ]
     },
     "metadata": {
      "needs_background": "light"
     },
     "output_type": "display_data"
    }
   ],
   "source": [
    "abs_pos_count = rational_distributions[\"abs_pos_count\"]\n",
    "plt.bar(abs_pos_count.keys(),abs_pos_count.values())"
   ]
  },
  {
   "cell_type": "markdown",
   "id": "66f07bbd",
   "metadata": {},
   "source": [
    "## Analysing some examples"
   ]
  },
  {
   "cell_type": "code",
   "execution_count": 9,
   "id": "9c94f1d8",
   "metadata": {},
   "outputs": [],
   "source": [
    "examples = [\"How are you doing?\", \"What did you do today?\", \"How's work?\", \"Would you like some coffee?\"]"
   ]
  },
  {
   "cell_type": "code",
   "execution_count": 10,
   "id": "ac0492d1",
   "metadata": {},
   "outputs": [],
   "source": [
    "## First with greedy rationals\n",
    "completed_dialogues_chance = lm_RE.complete_dialogues(examples, total_length=40, greedy_rationals=False)\n",
    "completed_dialogues_greedy = lm_RE.complete_dialogues(examples, total_length=40, greedy_rationals=True)"
   ]
  },
  {
   "cell_type": "code",
   "execution_count": 11,
   "id": "6b711811",
   "metadata": {},
   "outputs": [],
   "source": [
    "from utils.analysis import pretty_print_completed_dialogues"
   ]
  },
  {
   "cell_type": "code",
   "execution_count": 12,
   "id": "3741d809",
   "metadata": {},
   "outputs": [
    {
     "name": "stdout",
     "output_type": "stream",
     "text": [
      "context ----> response\n",
      "[MASK] [MASK] [MASK] [MASK] [MASK] ------> i ' d like to make a call next time\n",
      "[MASK] [MASK] [MASK] [MASK] [MASK] [MASK] [MASK] [MASK] [MASK] [MASK] [MASK] [MASK] [MASK] [MASK] [MASK] ------> i ' m going in the evening . here you\n",
      "[MASK] [MASK] [MASK] [MASK] [MASK] [MASK] [MASK] [MASK] [MASK] [MASK] [MASK] [MASK] [MASK] [MASK] [MASK] [MASK] [MASK] [MASK] [MASK] [MASK] [MASK] [MASK] [MASK] [MASK] [MASK] ------> it ’ s $ 50 to 18 .\n",
      "[MASK] [MASK] [MASK] [MASK] [MASK] [MASK] [MASK] [MASK] [MASK] [MASK] [MASK] [MASK] [MASK] [MASK] [MASK] [MASK] [MASK] [MASK] [MASK] [MASK] [MASK] [MASK] [MASK] [MASK] [MASK] [MASK] [MASK] [MASK] [MASK] [MASK] [MASK] [MASK] [MASK] [MASK] [MASK] ------> what about the weather on a tim ? [SEP]\n",
      "[MASK] [MASK] [MASK] [MASK] [MASK] [MASK] ------> yes , i ' d like to have a room\n",
      "[MASK] [MASK] [MASK] [MASK] [MASK] [MASK] [MASK] [MASK] [MASK] [MASK] [MASK] [MASK] [MASK] [MASK] [MASK] [MASK] ------> oh , what a great guy ! [SEP] what are\n",
      "[MASK] [MASK] [MASK] [MASK] [MASK] [MASK] [MASK] [MASK] [MASK] [MASK] [MASK] [MASK] [MASK] [MASK] [MASK] [MASK] [MASK] [MASK] [MASK] [MASK] [MASK] [MASK] [MASK] [MASK] [MASK] [MASK] ------> what do you think i have for desser\n",
      "[MASK] [MASK] [MASK] [MASK] [MASK] [MASK] [MASK] [MASK] [MASK] [MASK] [MASK] [MASK] [MASK] [MASK] [MASK] [MASK] [MASK] [MASK] [MASK] [MASK] [MASK] [MASK] [MASK] [MASK] [MASK] [MASK] [MASK] [MASK] [MASK] [MASK] [MASK] [MASK] [MASK] [MASK] [MASK] [MASK] ------> oh , i know what ' s wrong ? [SEP]\n",
      "[MASK] [MASK] [MASK] [MASK] [MASK] ------> yes , i have somewhere in your office .\n",
      "[MASK] [MASK] [MASK] [MASK] [MASK] [MASK] [MASK] [MASK] [MASK] [MASK] [MASK] [MASK] [MASK] [MASK] [MASK] ------> how much would you like to go for the library\n",
      "[MASK] [MASK] [MASK] [MASK] [MASK] [MASK] [MASK] [MASK] [MASK] [MASK] [MASK] [MASK] [MASK] [MASK] [MASK] [MASK] [MASK] [MASK] [MASK] [MASK] [MASK] [MASK] [MASK] [MASK] [MASK] ------> yes . [SEP] are you going to take them ?\n",
      "[MASK] [MASK] [MASK] [MASK] [MASK] [MASK] [MASK] [MASK] [MASK] [MASK] [MASK] [MASK] [MASK] [MASK] [MASK] [MASK] [MASK] [MASK] [MASK] [MASK] [MASK] [MASK] [MASK] [MASK] [MASK] [MASK] [MASK] [MASK] [MASK] [MASK] [MASK] [MASK] [MASK] [MASK] [MASK] ------> i see . [SEP] bye . [SEP] thanks . [SEP]\n",
      "[MASK] [MASK] [MASK] [MASK] [MASK] [MASK] ------> how old is the next turn with it ? [SEP]\n",
      "[MASK] [MASK] [MASK] [MASK] [MASK] [MASK] [MASK] [MASK] [MASK] [MASK] [MASK] [MASK] [MASK] [MASK] [MASK] [MASK] ------> i ' m not feeling a lot in that movie\n",
      "[MASK] [MASK] [MASK] [MASK] [MASK] [MASK] [MASK] [MASK] [MASK] [MASK] [MASK] [MASK] [MASK] [MASK] [MASK] [MASK] [MASK] [MASK] [MASK] [MASK] [MASK] [MASK] [MASK] [MASK] [MASK] [MASK] ------> what ’ s it for ? [SEP] i ' m\n",
      "[MASK] [MASK] [MASK] [MASK] [MASK] [MASK] [MASK] [MASK] [MASK] [MASK] [MASK] [MASK] [MASK] [MASK] [MASK] [MASK] [MASK] [MASK] [MASK] [MASK] [MASK] [MASK] [MASK] [MASK] [MASK] [MASK] [MASK] [MASK] [MASK] [MASK] [MASK] [MASK] [MASK] [MASK] [MASK] [MASK] ------> i know what you mean . [SEP] how can you\n"
     ]
    }
   ],
   "source": [
    "pretty_print_completed_dialogues(completed_dialogues_greedy)"
   ]
  },
  {
   "cell_type": "code",
   "execution_count": 13,
   "id": "e1700c55",
   "metadata": {},
   "outputs": [
    {
     "name": "stdout",
     "output_type": "stream",
     "text": [
      "context ----> response\n",
      "[MASK] [MASK] [MASK] [MASK] [MASK] ------> how long have you been a long leader ?\n",
      "[MASK] [MASK] you [MASK] [MASK] [MASK] long [MASK] [MASK] [MASK] [MASK] [MASK] [MASK]der [MASK] ------> how long would you recommend ? [SEP] i ’ d\n",
      "[MASK] [MASK] you [MASK] [MASK] [MASK] [MASK] [MASK] [MASK] [MASK] [MASK] [MASK] [MASK] [MASK] [MASK] [MASK] [MASK] [MASK] [MASK] [MASK] [MASK] [MASK] [MASK] [MASK] [MASK] ------> how can i do that ? [SEP] i ' m\n",
      "[MASK] [MASK] [MASK] [MASK] [MASK] [MASK] [MASK] [MASK] [MASK] [MASK] [MASK] [MASK] [MASK] [MASK] [MASK] [MASK] long [MASK] [MASK] [MASK] [MASK] [MASK] [MASK] [MASK] [MASK] [MASK] [MASK] [MASK] [MASK] [MASK] [MASK] [MASK] [MASK] [MASK] m ------> mm . [SEP] what ? [SEP] it doesn ' t\n",
      "[MASK] [MASK] [MASK] [MASK] [MASK] [MASK] ------> yes , i have an appif porder\n",
      "what [MASK] [MASK] [MASK] [MASK] [MASK] [MASK] [MASK] [MASK] [MASK] [MASK] [MASK] [MASK] [MASK] [MASK]der ------> ! are you kidding ? [SEP] no , not yet\n",
      "[MASK] [MASK] [MASK] [MASK] [MASK] [MASK] [MASK] [MASK] [MASK] [MASK] [MASK] [MASK] [MASK] [MASK] [MASK] [MASK] [MASK] [MASK] [MASK] [MASK] [MASK] [MASK] [MASK] [MASK] [MASK] [MASK] ------> what ? [SEP] the price is very older .\n",
      "[MASK] [MASK] [MASK] [MASK] [MASK] [MASK] [MASK] [MASK] [MASK] [MASK] [MASK] [MASK] [MASK] [MASK] [MASK] [MASK] [MASK] [MASK] [MASK] [MASK] [MASK] [MASK] [MASK] [MASK] [MASK] [MASK] [MASK] [MASK] [MASK] [MASK] price [MASK] [MASK] [MASK] [MASK] [MASK] ------> that sounds great ! how can i pay the rate\n",
      "[MASK] [MASK] [MASK] [MASK] [MASK] ------> i ' m from onepee right now .\n",
      "[MASK] [MASK] [MASK] [MASK] [MASK] i [MASK] [MASK] [MASK] [MASK] [MASK] [MASK] [MASK] [MASK] . ------> what do you need in ? [SEP] fine . [SEP]\n",
      "[MASK] [MASK] [MASK] [MASK] [MASK] [MASK] [MASK] m [MASK] one [MASK] [MASK] [MASK] [MASK] [MASK] [MASK] do [MASK] [MASK] [MASK] [MASK] [MASK] [MASK] [MASK] [MASK] ------> yes , i do . [SEP] what happened ? [SEP]\n",
      "[MASK] [MASK] [MASK] [MASK] [MASK] [MASK] [MASK] [MASK] [MASK] [MASK] [MASK] [MASK] [MASK] now [MASK] [MASK] [MASK] [MASK] [MASK] [MASK] [MASK] [MASK] [MASK] [MASK] [MASK] [MASK] [MASK] [MASK] [MASK] [MASK] [MASK] [MASK] happened [MASK] [MASK] ------> i ’ m going in the same way . [SEP]\n",
      "would [MASK] [MASK] [MASK] [MASK] [MASK] ------> why are you interested in the job ? [SEP] i\n",
      "would [MASK] [MASK] [MASK] [MASK] [MASK] [MASK] [MASK] [MASK] [MASK] [MASK] [MASK] [MASK] [MASK] [SEP] i ------> ’ ve just started a problem with my vol\n",
      "[MASK] [MASK] [MASK] [MASK] [MASK] [MASK] [MASK] [MASK] [MASK] [MASK] [MASK] [MASK] [MASK] [MASK] [MASK] i [MASK] ve [MASK] [MASK] [MASK] [MASK] [MASK] [MASK] [MASK] [MASK] ------> i think that it is about seven olymp\n",
      "[MASK] [MASK] [MASK] [MASK] [MASK] [MASK] [MASK] are [MASK] [MASK] [MASK] [MASK] [MASK] [MASK] [MASK] [MASK] [MASK] [MASK] just [MASK] [MASK] [MASK] [MASK] [MASK] [MASK] [MASK] [MASK] [MASK] [MASK] [MASK] [MASK] [MASK] [MASK] [MASK] [MASK] [MASK] ------> i think so . [SEP] that sounds like a little\n"
     ]
    }
   ],
   "source": [
    "pretty_print_completed_dialogues(completed_dialogues_chance)"
   ]
  },
  {
   "cell_type": "code",
   "execution_count": null,
   "id": "406c2543",
   "metadata": {},
   "outputs": [],
   "source": []
  }
 ],
 "metadata": {
  "kernelspec": {
   "display_name": "Python 3",
   "language": "python",
   "name": "python3"
  },
  "language_info": {
   "codemirror_mode": {
    "name": "ipython",
    "version": 3
   },
   "file_extension": ".py",
   "mimetype": "text/x-python",
   "name": "python",
   "nbconvert_exporter": "python",
   "pygments_lexer": "ipython3",
   "version": "3.6.13"
  }
 },
 "nbformat": 4,
 "nbformat_minor": 5
}
