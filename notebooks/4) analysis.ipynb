{
 "cells": [
  {
   "cell_type": "markdown",
   "id": "daaf11d6",
   "metadata": {},
   "source": [
    "# Analysis\n",
    "\n",
    "In this notebook we will analyse the models that we created.\n",
    "\n",
    "The analysis consists of:\n",
    "\n",
    "1) comparing the perplexity and the accuracy between the rationalized and non-rationalized model \n",
    "\n",
    "2) Checking the change in perplexity when removing even more from the rational\n",
    "\n",
    "3) Checking the distribution of rationals\n",
    "\n",
    "4) Qualitative analysis of the some examples"
   ]
  },
  {
   "cell_type": "markdown",
   "id": "15d0d1e0",
   "metadata": {},
   "source": [
    "## Setup"
   ]
  },
  {
   "cell_type": "code",
   "execution_count": 1,
   "id": "9059e0c8",
   "metadata": {},
   "outputs": [],
   "source": [
    "#First we fix the relative imports\n",
    "import os\n",
    "import sys\n",
    "# M\n",
    "# module_path = os.path.abspath(os.path.join('..'))\n",
    "# if module_path not in sys.path:\n",
    "#     sys.path.append(module_path)\n",
    "    \n",
    "#Make sure we are in the top folder. \n",
    "os.chdir(os.path.join('..'))"
   ]
  },
  {
   "cell_type": "code",
   "execution_count": 2,
   "id": "55ebc5b4",
   "metadata": {},
   "outputs": [
    {
     "name": "stderr",
     "output_type": "stream",
     "text": [
      "C:\\Users\\gerso\\projects\\rational-dialog-model\\utils\\analysis.py:22: YAMLLoadWarning: calling yaml.load() without Loader=... is deprecated, as the default Loader is unsafe. Please read https://msg.pyyaml.org/load for full details.\n",
      "  config = yaml.load(f)\n"
     ]
    },
    {
     "name": "stdout",
     "output_type": "stream",
     "text": [
      "./daily_dialog/tokenizer.json\n"
     ]
    },
    {
     "name": "stderr",
     "output_type": "stream",
     "text": [
      "Using custom data configuration default\n",
      "Reusing dataset daily_dialog (C:\\Users\\gerso\\.cache\\huggingface\\datasets\\daily_dialog\\default\\1.0.0\\c03444008e9508b8b76f1f6793742d37d5e5f83364f8d573c2747bff435ea55c)\n",
      "Using custom data configuration default\n",
      "Reusing dataset daily_dialog (C:\\Users\\gerso\\.cache\\huggingface\\datasets\\daily_dialog\\default\\1.0.0\\c03444008e9508b8b76f1f6793742d37d5e5f83364f8d573c2747bff435ea55c)\n",
      "GPU available: True, used: True\n",
      "TPU available: False, using: 0 TPU cores\n"
     ]
    },
    {
     "name": "stdout",
     "output_type": "stream",
     "text": [
      "load pretrained_model:  ./models/small_lm_test.pt\n",
      "load pretrained_model:  ./models/small_lm_test_rationalized.pt\n",
      "2\n"
     ]
    }
   ],
   "source": [
    "### We load the models based on the configs for analysis. \n",
    "from utils.analysis import parse_config_for_analysis\n",
    "config_path = 'configs/simple_RE_config.yml'\n",
    "\n",
    "loaded_info = parse_config_for_analysis(config_path)\n"
   ]
  },
  {
   "cell_type": "markdown",
   "id": "ac4d7a7e",
   "metadata": {},
   "source": [
    "## Perplexity and Accuracy"
   ]
  },
  {
   "cell_type": "code",
   "execution_count": 3,
   "id": "0ca52097",
   "metadata": {},
   "outputs": [],
   "source": [
    "lm_RE = loaded_info[\"lightning_language_model_RE\"].to(\"cpu\")\n",
    "lm = loaded_info[\"lightning_language_model_no_RE\"].to(\"cpu\")\n",
    "tokenizer = loaded_info[\"tokenizer\"]\n",
    "dataloader_test = loaded_info[\"dataloader_test\"]"
   ]
  },
  {
   "cell_type": "code",
   "execution_count": 4,
   "id": "1a827250",
   "metadata": {},
   "outputs": [
    {
     "name": "stderr",
     "output_type": "stream",
     "text": [
      "  0%|                                                                                            | 0/5 [00:00<?, ?it/s]C:\\Users\\gerso\\anaconda3\\envs\\CDM\\lib\\site-packages\\torch\\nn\\_reduction.py:42: UserWarning: size_average and reduce args will be deprecated, please use reduction='none' instead.\n",
      "  warnings.warn(warning.format(ret))\n",
      "100%|████████████████████████████████████████████████████████████████████████████████████| 5/5 [00:00<00:00,  7.40it/s]\n",
      "100%|████████████████████████████████████████████████████████████████████████████████████| 5/5 [00:00<00:00,  7.84it/s]"
     ]
    },
    {
     "name": "stdout",
     "output_type": "stream",
     "text": [
      "{'mean_acc': {'mean': 0.32223308086395264, 'std': 0.0}, 'mean_perplexity': {'mean': 38.91814041137695, 'std': 0.0}, 'mean_mask_percentage': {'mean': 0.5851693153381348, 'std': 0.0}}\n",
      "{'mean_acc': tensor(0.3679), 'mean_perplexity': tensor(28.5715, grad_fn=<AddBackward0>), 'mean_mask_percentage': 0}\n"
     ]
    },
    {
     "name": "stderr",
     "output_type": "stream",
     "text": [
      "\n"
     ]
    }
   ],
   "source": [
    "### First thing we compare the perplexity and accuracy on the testset.\n",
    "from utils.analysis import get_results, get_results_RE\n",
    "\n",
    "\n",
    "lm_RE_result = get_results_RE(lm_RE, dataloader_test, 1)\n",
    "lm_result = get_results(lm, dataloader_test)\n",
    "print(lm_RE_result)\n",
    "print(lm_result)\n"
   ]
  },
  {
   "cell_type": "markdown",
   "id": "929814b6",
   "metadata": {},
   "source": [
    "## Change in perplexity"
   ]
  },
  {
   "cell_type": "code",
   "execution_count": 5,
   "id": "79a3e8cb",
   "metadata": {},
   "outputs": [],
   "source": [
    "### Next we test what happens if we check te change in perplexity of the RE. \n",
    "from utils.analysis import calc_change_in_perplexity_experiment\n",
    "change_in_perplexity = calc_change_in_perplexity_experiment(lm_RE, dataloader_test, n_experiments=10, n_extra_mask=1)"
   ]
  },
  {
   "cell_type": "markdown",
   "id": "404ed439",
   "metadata": {},
   "source": [
    "## Distribution of mask"
   ]
  },
  {
   "cell_type": "code",
   "execution_count": 6,
   "id": "d555980c",
   "metadata": {},
   "outputs": [
    {
     "name": "stdout",
     "output_type": "stream",
     "text": [
      "{'abs_average': tensor(41.6589), 'rel_average': tensor(0.5159), 'abs_pos_count': Counter({0.0: 4893, 14.0: 103, 8.0: 102, 5.0: 99, 7.0: 97, 3.0: 96, 20.0: 95, 21.0: 94, 6.0: 91, 24.0: 90, 13.0: 87, 19.0: 87, 11.0: 86, 15.0: 86, 10.0: 85, 4.0: 85, 12.0: 84, 17.0: 84, 30.0: 83, 23.0: 82, 18.0: 82, 9.0: 80, 45.0: 80, 22.0: 79, 16.0: 75, 36.0: 75, 35.0: 75, 2.0: 73, 26.0: 73, 34.0: 73, 47.0: 72, 40.0: 72, 39.0: 72, 46.0: 72, 42.0: 71, 33.0: 70, 31.0: 69, 28.0: 69, 32.0: 69, 41.0: 67, 38.0: 67, 25.0: 67, 29.0: 67, 1.0: 65, 37.0: 65, 44.0: 64, 27.0: 61, 49.0: 56, 68.0: 55, 48.0: 55, 76.0: 55, 65.0: 54, 64.0: 54, 78.0: 54, 43.0: 53, 69.0: 53, 72.0: 52, 55.0: 52, 70.0: 51, 63.0: 51, 58.0: 51, 75.0: 51, 61.0: 51, 51.0: 51, 56.0: 51, 77.0: 50, 52.0: 49, 73.0: 49, 71.0: 49, 62.0: 48, 66.0: 47, 60.0: 46, 59.0: 45, 53.0: 45, 74.0: 45, 50.0: 44, 67.0: 44, 54.0: 44, 122.0: 38, 85.0: 38, 57.0: 37, 99.0: 37, 90.0: 37, 103.0: 37, 93.0: 35, 115.0: 35, 94.0: 34, 79.0: 34, 116.0: 33, 109.0: 33, 87.0: 33, 84.0: 33, 105.0: 33, 95.0: 33, 86.0: 33, 92.0: 33, 117.0: 32, 112.0: 32, 98.0: 32, 91.0: 32, 107.0: 31, 82.0: 31, 108.0: 30, 104.0: 30, 101.0: 30, 83.0: 30, 89.0: 30, 97.0: 30, 119.0: 29, 96.0: 29, 80.0: 29, 111.0: 29, 121.0: 28, 114.0: 28, 113.0: 28, 110.0: 28, 88.0: 28, 102.0: 28, 118.0: 26, 81.0: 25, 100.0: 24, 120.0: 24, 106.0: 22, 167.0: 17, 142.0: 16, 132.0: 16, 140.0: 15, 138.0: 15, 164.0: 15, 145.0: 15, 126.0: 15, 165.0: 14, 148.0: 14, 139.0: 14, 130.0: 14, 168.0: 14, 131.0: 14, 123.0: 14, 137.0: 14, 160.0: 13, 153.0: 13, 149.0: 13, 128.0: 13, 170.0: 13, 151.0: 13, 127.0: 13, 150.0: 12, 147.0: 12, 141.0: 12, 135.0: 12, 134.0: 12, 159.0: 12, 133.0: 12, 161.0: 12, 125.0: 12, 162.0: 11, 158.0: 11, 156.0: 11, 155.0: 11, 152.0: 11, 146.0: 11, 129.0: 11, 163.0: 11, 143.0: 10, 171.0: 10, 124.0: 10, 166.0: 10, 144.0: 9, 169.0: 9, 154.0: 8, 157.0: 8, 136.0: 6}), 'rel_pos_count': Counter({0.0: 5203, 60.0: 744, 80.0: 742, 50.0: 731, 30.0: 713, 70.0: 712, 20.0: 709, 10.0: 709, 40.0: 704, 90.0: 698, 100.0: 427})}\n"
     ]
    }
   ],
   "source": [
    "from utils.analysis import rational_analysis\n",
    "\n",
    "rational_distributions = rational_analysis(lm_RE, dataloader_test)\n",
    "print(rational_distributions)"
   ]
  },
  {
   "cell_type": "code",
   "execution_count": 7,
   "id": "8c680234",
   "metadata": {},
   "outputs": [
    {
     "data": {
      "text/plain": [
       "<BarContainer object of 11 artists>"
      ]
     },
     "execution_count": 7,
     "metadata": {},
     "output_type": "execute_result"
    },
    {
     "data": {
      "image/png": "[encoded data removed]",
      "text/plain": [
       "<Figure size 432x288 with 1 Axes>"
      ]
     },
     "metadata": {
      "needs_background": "light"
     },
     "output_type": "display_data"
    }
   ],
   "source": [
    "import matplotlib.pyplot as plt\n",
    "relative_counts = rational_distributions[\"rel_pos_count\"]\n",
    "plt.bar(relative_counts.keys(),relative_counts.values())"
   ]
  },
  {
   "cell_type": "code",
   "execution_count": 8,
   "id": "da2f5eea",
   "metadata": {},
   "outputs": [
    {
     "data": {
      "text/plain": [
       "<BarContainer object of 172 artists>"
      ]
     },
     "execution_count": 8,
     "metadata": {},
     "output_type": "execute_result"
    },
    {
     "data": {
      "image/png": "[encoded data removed]",
      "text/plain": [
       "<Figure size 432x288 with 1 Axes>"
      ]
     },
     "metadata": {
      "needs_background": "light"
     },
     "output_type": "display_data"
    }
   ],
   "source": [
    "abs_pos_count = rational_distributions[\"abs_pos_count\"]\n",
    "plt.bar(abs_pos_count.keys(),abs_pos_count.values())"
   ]
  },
  {
   "cell_type": "markdown",
   "id": "8686d5a8",
   "metadata": {},
   "source": [
    "## Analysing some examples"
   ]
  },
  {
   "cell_type": "code",
   "execution_count": 9,
   "id": "da52658a",
   "metadata": {},
   "outputs": [],
   "source": [
    "examples = [\"How are you doing?\", \"What did you do today?\", \"How's work?\", \"Would you like some coffee?\"]"
   ]
  },
  {
   "cell_type": "code",
   "execution_count": 15,
   "id": "328e951a",
   "metadata": {},
   "outputs": [],
   "source": [
    "## First with greedy rationals\n",
    "completed_dialogues_chance = lm_RE.complete_dialogues(examples, total_length=40, greedy_rationals=False)\n",
    "completed_dialogues_greedy = lm_RE.complete_dialogues(examples, total_length=40, greedy_rationals=True)"
   ]
  },
  {
   "cell_type": "code",
   "execution_count": null,
   "id": "55785acf",
   "metadata": {},
   "outputs": [],
   "source": [
    "from utils.analysis import pretty_print_completed_dialogues"
   ]
  },
  {
   "cell_type": "code",
   "execution_count": 17,
   "id": "3fd01286",
   "metadata": {},
   "outputs": [
    {
     "name": "stdout",
     "output_type": "stream",
     "text": [
      "context ----> response\n",
      "[MASK] [MASK] [MASK] [MASK] [MASK] ------> sure , i am going to go to work as\n",
      "[MASK] [MASK] [MASK] [MASK] [MASK] [MASK] [MASK] i [MASK] [MASK] [MASK] [MASK] [MASK] [MASK] [MASK] ------> i ' m going to make a new account .\n",
      "[MASK] [MASK] [MASK] [MASK] [MASK] [MASK] [MASK] i [MASK] [MASK] [MASK] [MASK] [MASK] [MASK] [MASK] [MASK] [MASK] [MASK] [MASK] [MASK] [MASK] [MASK] [MASK] [MASK] . ------> i want to see them . [SEP] you ’ re\n",
      "[MASK] [MASK] [MASK] [MASK] [MASK] [MASK] [MASK] i [MASK] [MASK] [MASK] [MASK] [MASK] [MASK] [MASK] [MASK] [MASK] [MASK] [MASK] [MASK] [MASK] [MASK] [MASK] [MASK] . i [MASK] [MASK] [MASK] [MASK] . [SEP] [MASK] [MASK] [MASK] ------> i ’ ve got some money . [SEP] you are\n",
      "[MASK] [MASK] [MASK] [MASK] [MASK] [MASK] ------> i see . [SEP] what about this one ? [SEP]\n",
      "[MASK] [MASK] [MASK] [MASK] [MASK] [MASK] [MASK] [MASK] . [SEP] [MASK] [MASK] [MASK] [MASK] [MASK] [SEP] ------> yes , we have a good day . [SEP] do\n",
      "[MASK] [MASK] [MASK] [MASK] [MASK] [MASK] [MASK] [MASK] . [SEP] [MASK] [MASK] [MASK] [MASK] [MASK] [SEP] [MASK] [MASK] [MASK] [MASK] [MASK] [MASK] [MASK] . [SEP] [MASK] ------> i see . [SEP] thank you . [SEP] thanks .\n",
      "[MASK] [MASK] [MASK] [MASK] [MASK] [MASK] [MASK] [MASK] . [SEP] [MASK] [MASK] [MASK] [MASK] [MASK] [SEP] [MASK] [MASK] [MASK] [MASK] [MASK] [MASK] [MASK] . [SEP] [MASK] i [MASK] . [SEP] [MASK] [MASK] . [SEP] [MASK] [MASK] ------> what is the best ? [SEP] the price is in\n",
      "[MASK] [MASK] [MASK] [MASK] [MASK] ------> oh , i have a look at the first time\n",
      "[MASK] [MASK] [MASK] [MASK] [MASK] [MASK] [MASK] i [MASK] [MASK] [MASK] [MASK] [MASK] [MASK] [MASK] ------> well , i can ' t decide that . [SEP]\n",
      "[MASK] [MASK] [MASK] [MASK] [MASK] [MASK] [MASK] i [MASK] [MASK] [MASK] [MASK] [MASK] [MASK] [MASK] [MASK] [MASK] i [MASK] [MASK] [MASK] [MASK] [MASK] . [SEP] ------> what ' s the difference ? [SEP] i '\n",
      "[MASK] [MASK] [MASK] [MASK] [MASK] [MASK] [MASK] i [MASK] [MASK] [MASK] [MASK] [MASK] [MASK] [MASK] [MASK] [MASK] i [MASK] [MASK] [MASK] [MASK] [MASK] . [SEP] [MASK] [MASK] [MASK] [MASK] [MASK] [MASK] [MASK] [SEP] i [MASK] ------> [SEP] i will go . [SEP] i know . [SEP]\n",
      "[MASK] [MASK] [MASK] [MASK] [MASK] [MASK] ------> i don ’ t think so . [SEP] you are\n",
      "[MASK] [MASK] [MASK] [MASK] [MASK] [MASK] [MASK] [MASK] [MASK] [MASK] [MASK] [MASK] [MASK] [SEP] [MASK] [MASK] ------> i ’ m so sorry . [SEP] that ' s\n",
      "[MASK] [MASK] [MASK] [MASK] [MASK] [MASK] [MASK] [MASK] [MASK] [MASK] [MASK] [MASK] [MASK] [SEP] [MASK] [MASK] [MASK] [MASK] [MASK] [MASK] [MASK] [MASK] [MASK] [MASK] [MASK] [MASK] ------> you ' ll take you to work now . i\n",
      "[MASK] [MASK] [MASK] [MASK] [MASK] [MASK] [MASK] [MASK] [MASK] [MASK] [MASK] [MASK] [MASK] [SEP] [MASK] [MASK] [MASK] [MASK] [MASK] [MASK] [MASK] [MASK] [MASK] [MASK] [MASK] [MASK] [MASK] [MASK] [MASK] [MASK] [MASK] [MASK] [MASK] [MASK] . i ------> have to make a call . [SEP] thank you .\n"
     ]
    }
   ],
   "source": [
    "pretty_print_completed_dialogues(completed_dialogues_greedy)"
   ]
  },
  {
   "cell_type": "code",
   "execution_count": 18,
   "id": "6ba3d444",
   "metadata": {},
   "outputs": [
    {
     "name": "stdout",
     "output_type": "stream",
     "text": [
      "context ----> response\n",
      "[MASK] [MASK] [MASK] doing [MASK] ------> you see ! [SEP] i ' m sorry , sir\n",
      "[MASK] [MASK] you [MASK] ? [MASK] see [MASK] [MASK] i [MASK] [MASK] [MASK] , [MASK] ------> ok . what do you mean ? [SEP] i think\n",
      "how are you [MASK] [MASK] you see [MASK] [SEP] i [MASK] [MASK] [MASK] [MASK] sir ok . [MASK] do [MASK] [MASK] [MASK] [MASK] [MASK] [MASK] ------> thanks . [SEP] what ' s up ? [SEP] i\n",
      "how are [MASK] [MASK] ? you [MASK] [MASK] [SEP] [MASK] [MASK] m sorry [MASK] [MASK] [MASK] . [MASK] [MASK] [MASK] [MASK] [MASK] [SEP] [MASK] think thanks . [SEP] what ' [MASK] up [MASK] [MASK] i ------> ' m going to be my friend and my parents\n",
      "[MASK] [MASK] [MASK] do today [MASK] ------> i am really excited about your new company right away\n",
      "[MASK] [MASK] you [MASK] today ? [MASK] [MASK] [MASK] [MASK] about [MASK] new [MASK] right [MASK] ------> how about a friend , too ? [SEP] i ’\n",
      "[MASK] did [MASK] [MASK] today ? i am [MASK] [MASK] about [MASK] [MASK] [MASK] [MASK] [MASK] how about a friend [MASK] too [MASK] [MASK] [MASK] ’ ------> s all that ? [SEP] nom ! it '\n",
      "[MASK] did [MASK] do today [MASK] [MASK] [MASK] [MASK] [MASK] [MASK] [MASK] new [MASK] [MASK] away [MASK] [MASK] [MASK] [MASK] [MASK] [MASK] ? [MASK] i ’ [MASK] [MASK] [MASK] [MASK] [MASK] no [MASK] ! it ' ------> s not much as it is . [SEP] i '\n",
      "how ' s [MASK] ? ------> [SEP] it ’ s fine . [SEP] thanks . [SEP]\n",
      "[MASK] ' [MASK] [MASK] [MASK] [SEP] [MASK] [MASK] [MASK] fine . [MASK] thanks . [MASK] ------> good idea . [SEP] thank you . [SEP] ok .\n",
      "[MASK] [MASK] [MASK] [MASK] [MASK] [SEP] [MASK] [MASK] [MASK] [MASK] . [SEP] [MASK] [MASK] [MASK] [MASK] idea [MASK] [MASK] [MASK] [MASK] . [MASK] [MASK] . ------> you see . [SEP] ok . [SEP] it ’ s\n",
      "how [MASK] [MASK] [MASK] [MASK] [MASK] [MASK] [MASK] [MASK] [MASK] . [MASK] [MASK] [MASK] [MASK] [MASK] [MASK] [MASK] [MASK] [MASK] you [MASK] [SEP] [MASK] . you see [MASK] [MASK] [MASK] . [SEP] [MASK] [MASK] s ------> ich ? [SEP] it ' s too . [SEP] you\n",
      "would [MASK] [MASK] [MASK] coffee [MASK] ------> what would you like for dinner ? [SEP] i ’\n",
      "[MASK] [MASK] [MASK] [MASK] [MASK] ? what [MASK] you [MASK] [MASK] [MASK] ? [MASK] [MASK] [MASK] ------> i don ' t know that . [SEP] well ,\n",
      "would [MASK] like some coffee [MASK] [MASK] would [MASK] like [MASK] [MASK] ? [SEP] [MASK] ’ [MASK] [MASK] [MASK] [MASK] [MASK] that [MASK] [MASK] [MASK] [MASK] ------> how many of the costs do you want ?\n",
      "would you [MASK] some [MASK] [MASK] [MASK] would you like [MASK] [MASK] ? [SEP] i [MASK] i don [MASK] t know [MASK] . [SEP] [MASK] , [MASK] [MASK] of the [MASK] [MASK] [MASK] [MASK] want ? ------> [SEP] no . [SEP] do you want me to make\n"
     ]
    }
   ],
   "source": [
    "pretty_print_completed_dialogues(completed_dialogues_chance)"
   ]
  },
  {
   "cell_type": "code",
   "execution_count": null,
   "id": "bde87626",
   "metadata": {},
   "outputs": [],
   "source": []
  }
 ],
 "metadata": {
  "kernelspec": {
   "display_name": "Python 3",
   "language": "python",
   "name": "python3"
  },
  "language_info": {
   "codemirror_mode": {
    "name": "ipython",
    "version": 3
   },
   "file_extension": ".py",
   "mimetype": "text/x-python",
   "name": "python",
   "nbconvert_exporter": "python",
   "pygments_lexer": "ipython3",
   "version": "3.6.13"
  }
 },
 "nbformat": 4,
 "nbformat_minor": 5
}
