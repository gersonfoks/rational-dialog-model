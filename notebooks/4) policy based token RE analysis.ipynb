{
 "cells": [
  {
   "cell_type": "markdown",
   "id": "a5904cd4",
   "metadata": {},
   "source": [
    "# Analysis\n",
    "\n",
    "In this notebook we will analyse the models that we created.\n",
    "\n",
    "The analysis consists of:\n",
    "\n",
    "1) comparing the perplexity and the accuracy between the rationalized and non-rationalized model \n",
    "\n",
    "2) Checking the change in perplexity when removing even more from the rational\n",
    "\n",
    "3) Checking the distribution of rationals\n",
    "\n",
    "4) Qualitative analysis of the some examples"
   ]
  },
  {
   "cell_type": "markdown",
   "id": "263adeb9",
   "metadata": {},
   "source": [
    "## Setup"
   ]
  },
  {
   "cell_type": "code",
   "execution_count": 1,
   "id": "bcbdbf72",
   "metadata": {},
   "outputs": [],
   "source": [
    "#First we fix the relative imports\n",
    "import os\n",
    "import sys\n",
    "# M\n",
    "# module_path = os.path.abspath(os.path.join('..'))\n",
    "# if module_path not in sys.path:\n",
    "#     sys.path.append(module_path)\n",
    "    \n",
    "#Make sure we are in the top folder. \n",
    "os.chdir(os.path.join('..'))"
   ]
  },
  {
   "cell_type": "code",
   "execution_count": 2,
   "id": "b583e598",
   "metadata": {},
   "outputs": [
    {
     "name": "stderr",
     "output_type": "stream",
     "text": [
      "C:\\Users\\gerso\\projects\\rational-dialog-model\\utils\\analysis.py:26: YAMLLoadWarning: calling yaml.load() without Loader=... is deprecated, as the default Loader is unsafe. Please read https://msg.pyyaml.org/load for full details.\n",
      "  config = yaml.load(f)\n"
     ]
    },
    {
     "name": "stdout",
     "output_type": "stream",
     "text": [
      "./daily_dialog/tokenizer.json\n",
      "200\n"
     ]
    },
    {
     "name": "stderr",
     "output_type": "stream",
     "text": [
      "Using custom data configuration default\n",
      "Reusing dataset daily_dialog (C:\\Users\\gerso\\.cache\\huggingface\\datasets\\daily_dialog\\default\\1.0.0\\c03444008e9508b8b76f1f6793742d37d5e5f83364f8d573c2747bff435ea55c)\n",
      "GPU available: True, used: True\n",
      "TPU available: False, using: 0 TPU cores\n"
     ]
    },
    {
     "name": "stdout",
     "output_type": "stream",
     "text": [
      "load pretrained_model:  ./models/small_lm.pt\n",
      "load pretrained_model:  ./models/small_lm_token_random_10_rationalized.pt\n",
      "2\n"
     ]
    }
   ],
   "source": [
    "### We load the models based on the configs for analysis. \n",
    "from utils.analysis import parse_config_for_analysis\n",
    "\n",
    "name = \"Random 10\"\n",
    "\n",
    "config_path = 'configs/random_10_RE_config.yml'\n",
    "\n",
    "loaded_info = parse_config_for_analysis(config_path)\n"
   ]
  },
  {
   "cell_type": "markdown",
   "id": "4003d667",
   "metadata": {},
   "source": [
    "## Perplexity and Accuracy"
   ]
  },
  {
   "cell_type": "code",
   "execution_count": 3,
   "id": "f347d7ab",
   "metadata": {},
   "outputs": [],
   "source": [
    "lm_RE = loaded_info[\"lightning_language_model_RE\"].to(\"cuda\")\n",
    "lm = loaded_info[\"lightning_language_model_no_RE\"].to(\"cuda\")\n",
    "tokenizer = loaded_info[\"tokenizer\"]\n",
    "dataloader_test = loaded_info[\"dataloader_test\"]\n",
    "\n"
   ]
  },
  {
   "cell_type": "code",
   "execution_count": 4,
   "id": "53bfdb09",
   "metadata": {},
   "outputs": [
    {
     "name": "stderr",
     "output_type": "stream",
     "text": [
      "  0%|                                                                                                                                                                                                               | 0/184 [00:00<?, ?it/s]C:\\Users\\gerso\\anaconda3\\envs\\CDM\\lib\\site-packages\\torch\\nn\\_reduction.py:42: UserWarning: size_average and reduce args will be deprecated, please use reduction='none' instead.\n",
      "  warnings.warn(warning.format(ret))\n",
      "100%|█████████████████████████████████████████████████████████████████████████████████████████████████████████████████████████████████████████████████████████████████████████████████████████████████████| 184/184 [00:02<00:00, 88.29it/s]\n",
      "100%|████████████████████████████████████████████████████████████████████████████████████████████████████████████████████████████████████████████████████████████████████████████████████████████████████| 184/184 [00:01<00:00, 107.43it/s]"
     ]
    },
    {
     "name": "stdout",
     "output_type": "stream",
     "text": [
      "{'mean_acc': {'mean': 0.3648040992739738, 'std': 0.0}, 'mean_perplexity': {'mean': 31.23437104897081, 'std': 0.0}, 'mean_mask_percentage': {'mean': 0.09915131812825172, 'std': 0.0}}\n",
      "{'mean_acc': 0.38537945775372195, 'mean_perplexity': 25.526450388929813, 'mean_mask_percentage': 0}\n"
     ]
    },
    {
     "name": "stderr",
     "output_type": "stream",
     "text": [
      "\n"
     ]
    }
   ],
   "source": [
    "### First thing we compare the perplexity and accuracy on the testset.\n",
    "from utils.analysis import get_results, get_results_RE\n",
    "\n",
    "\n",
    "lm_RE_result = get_results_RE(lm_RE, dataloader_test, 1)\n",
    "lm_result = get_results(lm, dataloader_test)\n",
    "print(lm_RE_result)\n",
    "print(lm_result)\n"
   ]
  },
  {
   "cell_type": "markdown",
   "id": "04f45998",
   "metadata": {},
   "source": [
    "## Change in perplexity"
   ]
  },
  {
   "cell_type": "code",
   "execution_count": 5,
   "id": "c532a957",
   "metadata": {},
   "outputs": [],
   "source": [
    "### Next we test what happens if we check te change in perplexity of the RE. \n",
    "# from utils.analysis import calc_change_in_perplexity_experiment\n",
    "# change_in_perplexity = calc_change_in_perplexity_experiment(lm_RE, dataloader_test, n_experiments=10, n_extra_mask=2)\n",
    "# change_in_perplexity"
   ]
  },
  {
   "cell_type": "markdown",
   "id": "87500b1b",
   "metadata": {},
   "source": [
    "## Distribution of mask"
   ]
  },
  {
   "cell_type": "code",
   "execution_count": 6,
   "id": "c9d69192",
   "metadata": {},
   "outputs": [
    {
     "name": "stdout",
     "output_type": "stream",
     "text": [
      "{'abs_average': 0.0, 'rel_average': 0.0, 'abs_pos_count': Counter({5.0: 653, 2.0: 633, 3.0: 601, 7.0: 600, 10.0: 569, 1.0: 567, 4.0: 562, 9.0: 548, 8.0: 546, 11.0: 543, 19.0: 540, 12.0: 538, 6.0: 536, 13.0: 534, 18.0: 523, 14.0: 520, 15.0: 520, 16.0: 508, 21.0: 507, 24.0: 501, 20.0: 499, 17.0: 485, 22.0: 479, 26.0: 461, 25.0: 458, 23.0: 454, 28.0: 447, 27.0: 437, 30.0: 434, 29.0: 427, 35.0: 420, 31.0: 419, 32.0: 411, 33.0: 397, 42.0: 391, 37.0: 388, 36.0: 382, 34.0: 379, 39.0: 374, 38.0: 373, 40.0: 360, 45.0: 359, 47.0: 355, 41.0: 353, 43.0: 346, 46.0: 345, 48.0: 328, 44.0: 326, 57.0: 326, 49.0: 325, 50.0: 320, 52.0: 314, 55.0: 308, 51.0: 305, 60.0: 305, 58.0: 300, 54.0: 299, 59.0: 293, 64.0: 289, 63.0: 286, 61.0: 284, 56.0: 274, 65.0: 273, 62.0: 265, 53.0: 254, 66.0: 253, 71.0: 251, 68.0: 247, 73.0: 243, 74.0: 243, 67.0: 241, 70.0: 234, 76.0: 220, 72.0: 217, 77.0: 217, 85.0: 214, 75.0: 211, 69.0: 210, 79.0: 208, 81.0: 205, 80.0: 203, 78.0: 202, 84.0: 200, 83.0: 196, 87.0: 195, 86.0: 192, 90.0: 184, 91.0: 180, 89.0: 178, 94.0: 177, 82.0: 175, 88.0: 169, 93.0: 166, 96.0: 159, 92.0: 155, 101.0: 154, 97.0: 152, 100.0: 144, 95.0: 142, 102.0: 142, 106.0: 126, 99.0: 125, 103.0: 122, 107.0: 121, 108.0: 117, 98.0: 116, 104.0: 113, 111.0: 113, 116.0: 112, 110.0: 111, 112.0: 110, 115.0: 108, 109.0: 107, 105.0: 106, 113.0: 98, 120.0: 92, 126.0: 90, 117.0: 89, 119.0: 89, 121.0: 89, 118.0: 86, 114.0: 85, 125.0: 85, 124.0: 82, 123.0: 81, 122.0: 80, 130.0: 73, 136.0: 70, 128.0: 69, 127.0: 68, 135.0: 65, 131.0: 64, 132.0: 63, 129.0: 62, 133.0: 61, 137.0: 57, 134.0: 53, 141.0: 51, 139.0: 49, 142.0: 48, 138.0: 42, 140.0: 40, 144.0: 38, 149.0: 37, 145.0: 35, 147.0: 35, 152.0: 35, 143.0: 33, 151.0: 33, 146.0: 32, 156.0: 30, 148.0: 29, 163.0: 28, 160.0: 27, 155.0: 26, 150.0: 25, 157.0: 25, 158.0: 25, 154.0: 24, 161.0: 22, 168.0: 21, 164.0: 20, 159.0: 19, 169.0: 19, 153.0: 18, 162.0: 17, 165.0: 15, 167.0: 13, 166.0: 13, 175.0: 12, 172.0: 12, 170.0: 10, 174.0: 10, 177.0: 9, 171.0: 7, 179.0: 7, 176.0: 6, 173.0: 5, 181.0: 5, 184.0: 5, 182.0: 4, 180.0: 4, 185.0: 4, 183.0: 2, 189.0: 2, 178.0: 1, 187.0: 1, 186.0: 1, 188.0: 1, 192.0: 1, 190.0: 1, 194.0: 1}), 'rel_pos_count': Counter({50.0: 4003, 60.0: 3949, 80.0: 3926, 40.0: 3883, 20.0: 3863, 90.0: 3839, 10.0: 3829, 70.0: 3712, 30.0: 3601, 100.0: 2267, 0.0: 1756})}\n",
      "    percentages  Random 50  Policy token    Gumbel      Kuma  Random 25  \\\n",
      "0             0   0.042572      0.042394  0.308248  0.133743   0.042340   \n",
      "1            10   0.100014      0.100498  0.212583  0.288562   0.097954   \n",
      "2            20   0.101309      0.104503  0.080472  0.178922   0.102994   \n",
      "3            30   0.098195      0.098656  0.034567  0.094549   0.096508   \n",
      "4            40   0.101381      0.102879  0.021705  0.064816   0.101146   \n",
      "5            50   0.099264      0.101125  0.015971  0.043323   0.099927   \n",
      "6            60   0.100009      0.101597  0.012440  0.033283   0.101621   \n",
      "7            70   0.097445      0.097965  0.012699  0.023348   0.097613   \n",
      "8            80   0.102173      0.101892  0.019308  0.021798   0.102964   \n",
      "9            90   0.099922      0.098183  0.045711  0.027541   0.099482   \n",
      "10          100   0.057715      0.050308  0.236296  0.090115   0.057452   \n",
      "\n",
      "    Random 10  \n",
      "0    0.045459  \n",
      "1    0.099125  \n",
      "2    0.100005  \n",
      "3    0.093223  \n",
      "4    0.100523  \n",
      "5    0.103629  \n",
      "6    0.102232  \n",
      "7    0.096096  \n",
      "8    0.101636  \n",
      "9    0.099384  \n",
      "10   0.058688  \n"
     ]
    },
    {
     "data": {
      "text/html": [
       "<div>\n",
       "<style scoped>\n",
       "    .dataframe tbody tr th:only-of-type {\n",
       "        vertical-align: middle;\n",
       "    }\n",
       "\n",
       "    .dataframe tbody tr th {\n",
       "        vertical-align: top;\n",
       "    }\n",
       "\n",
       "    .dataframe thead th {\n",
       "        text-align: right;\n",
       "    }\n",
       "</style>\n",
       "<table border=\"1\" class=\"dataframe\">\n",
       "  <thead>\n",
       "    <tr style=\"text-align: right;\">\n",
       "      <th></th>\n",
       "      <th>percentages</th>\n",
       "      <th>Random 50</th>\n",
       "      <th>Policy token</th>\n",
       "      <th>Gumbel</th>\n",
       "      <th>Kuma</th>\n",
       "      <th>Random 25</th>\n",
       "      <th>Random 10</th>\n",
       "    </tr>\n",
       "  </thead>\n",
       "  <tbody>\n",
       "    <tr>\n",
       "      <th>0</th>\n",
       "      <td>0</td>\n",
       "      <td>0.042572</td>\n",
       "      <td>0.042394</td>\n",
       "      <td>0.308248</td>\n",
       "      <td>0.133743</td>\n",
       "      <td>0.042340</td>\n",
       "      <td>0.045459</td>\n",
       "    </tr>\n",
       "    <tr>\n",
       "      <th>1</th>\n",
       "      <td>10</td>\n",
       "      <td>0.100014</td>\n",
       "      <td>0.100498</td>\n",
       "      <td>0.212583</td>\n",
       "      <td>0.288562</td>\n",
       "      <td>0.097954</td>\n",
       "      <td>0.099125</td>\n",
       "    </tr>\n",
       "    <tr>\n",
       "      <th>2</th>\n",
       "      <td>20</td>\n",
       "      <td>0.101309</td>\n",
       "      <td>0.104503</td>\n",
       "      <td>0.080472</td>\n",
       "      <td>0.178922</td>\n",
       "      <td>0.102994</td>\n",
       "      <td>0.100005</td>\n",
       "    </tr>\n",
       "    <tr>\n",
       "      <th>3</th>\n",
       "      <td>30</td>\n",
       "      <td>0.098195</td>\n",
       "      <td>0.098656</td>\n",
       "      <td>0.034567</td>\n",
       "      <td>0.094549</td>\n",
       "      <td>0.096508</td>\n",
       "      <td>0.093223</td>\n",
       "    </tr>\n",
       "    <tr>\n",
       "      <th>4</th>\n",
       "      <td>40</td>\n",
       "      <td>0.101381</td>\n",
       "      <td>0.102879</td>\n",
       "      <td>0.021705</td>\n",
       "      <td>0.064816</td>\n",
       "      <td>0.101146</td>\n",
       "      <td>0.100523</td>\n",
       "    </tr>\n",
       "    <tr>\n",
       "      <th>5</th>\n",
       "      <td>50</td>\n",
       "      <td>0.099264</td>\n",
       "      <td>0.101125</td>\n",
       "      <td>0.015971</td>\n",
       "      <td>0.043323</td>\n",
       "      <td>0.099927</td>\n",
       "      <td>0.103629</td>\n",
       "    </tr>\n",
       "    <tr>\n",
       "      <th>6</th>\n",
       "      <td>60</td>\n",
       "      <td>0.100009</td>\n",
       "      <td>0.101597</td>\n",
       "      <td>0.012440</td>\n",
       "      <td>0.033283</td>\n",
       "      <td>0.101621</td>\n",
       "      <td>0.102232</td>\n",
       "    </tr>\n",
       "    <tr>\n",
       "      <th>7</th>\n",
       "      <td>70</td>\n",
       "      <td>0.097445</td>\n",
       "      <td>0.097965</td>\n",
       "      <td>0.012699</td>\n",
       "      <td>0.023348</td>\n",
       "      <td>0.097613</td>\n",
       "      <td>0.096096</td>\n",
       "    </tr>\n",
       "    <tr>\n",
       "      <th>8</th>\n",
       "      <td>80</td>\n",
       "      <td>0.102173</td>\n",
       "      <td>0.101892</td>\n",
       "      <td>0.019308</td>\n",
       "      <td>0.021798</td>\n",
       "      <td>0.102964</td>\n",
       "      <td>0.101636</td>\n",
       "    </tr>\n",
       "    <tr>\n",
       "      <th>9</th>\n",
       "      <td>90</td>\n",
       "      <td>0.099922</td>\n",
       "      <td>0.098183</td>\n",
       "      <td>0.045711</td>\n",
       "      <td>0.027541</td>\n",
       "      <td>0.099482</td>\n",
       "      <td>0.099384</td>\n",
       "    </tr>\n",
       "    <tr>\n",
       "      <th>10</th>\n",
       "      <td>100</td>\n",
       "      <td>0.057715</td>\n",
       "      <td>0.050308</td>\n",
       "      <td>0.236296</td>\n",
       "      <td>0.090115</td>\n",
       "      <td>0.057452</td>\n",
       "      <td>0.058688</td>\n",
       "    </tr>\n",
       "  </tbody>\n",
       "</table>\n",
       "</div>"
      ],
      "text/plain": [
       "    percentages  Random 50  Policy token    Gumbel      Kuma  Random 25  \\\n",
       "0             0   0.042572      0.042394  0.308248  0.133743   0.042340   \n",
       "1            10   0.100014      0.100498  0.212583  0.288562   0.097954   \n",
       "2            20   0.101309      0.104503  0.080472  0.178922   0.102994   \n",
       "3            30   0.098195      0.098656  0.034567  0.094549   0.096508   \n",
       "4            40   0.101381      0.102879  0.021705  0.064816   0.101146   \n",
       "5            50   0.099264      0.101125  0.015971  0.043323   0.099927   \n",
       "6            60   0.100009      0.101597  0.012440  0.033283   0.101621   \n",
       "7            70   0.097445      0.097965  0.012699  0.023348   0.097613   \n",
       "8            80   0.102173      0.101892  0.019308  0.021798   0.102964   \n",
       "9            90   0.099922      0.098183  0.045711  0.027541   0.099482   \n",
       "10          100   0.057715      0.050308  0.236296  0.090115   0.057452   \n",
       "\n",
       "    Random 10  \n",
       "0    0.045459  \n",
       "1    0.099125  \n",
       "2    0.100005  \n",
       "3    0.093223  \n",
       "4    0.100523  \n",
       "5    0.103629  \n",
       "6    0.102232  \n",
       "7    0.096096  \n",
       "8    0.101636  \n",
       "9    0.099384  \n",
       "10   0.058688  "
      ]
     },
     "execution_count": 6,
     "metadata": {},
     "output_type": "execute_result"
    }
   ],
   "source": [
    "from utils.analysis import rational_analysis, prepare_rel_pos_count, add_distribution_to_file\n",
    "\n",
    "rational_distributions = rational_analysis(lm_RE, dataloader_test, greedy=False)\n",
    "print(rational_distributions)\n",
    "\n",
    "rel_pos_count = prepare_rel_pos_count(rational_distributions[\"rel_pos_count\"])\n",
    "add_distribution_to_file(rel_pos_count, name, file=\"pos_counts.txt\")"
   ]
  },
  {
   "cell_type": "code",
   "execution_count": 7,
   "id": "801b15b1",
   "metadata": {},
   "outputs": [
    {
     "data": {
      "text/plain": [
       "[<matplotlib.lines.Line2D at 0x211b08179e8>]"
      ]
     },
     "execution_count": 7,
     "metadata": {},
     "output_type": "execute_result"
    },
    {
     "data": {
      "image/png": "[encoded data removed]",
      "text/plain": [
       "<Figure size 432x288 with 1 Axes>"
      ]
     },
     "metadata": {
      "needs_background": "light"
     },
     "output_type": "display_data"
    }
   ],
   "source": [
    "import matplotlib.pyplot as plt\n",
    "relative_counts = rational_distributions[\"rel_pos_count\"]\n",
    "total = sum(relative_counts.values())\n",
    "X = [int(k) for k in relative_counts.keys()] \n",
    "Y = [r/total for r in relative_counts.values()]\n",
    "\n",
    "pairs = sorted([(x,y) for x,y in zip(X, Y)], key=lambda p: p[0])\n",
    "plt.xlabel\n",
    "X_sorted = [p[0] for p in pairs]\n",
    "Y_sorted = [p[1] for p in pairs]\n",
    "plt.xlabel(\"Relative Distance\")\n",
    "plt.ylabel(\"Percentage\")\n",
    "plt.plot(X_sorted, Y_sorted, \"\")\n"
   ]
  },
  {
   "cell_type": "code",
   "execution_count": 8,
   "id": "2d3bf898",
   "metadata": {},
   "outputs": [
    {
     "data": {
      "text/plain": [
       "<BarContainer object of 11 artists>"
      ]
     },
     "execution_count": 8,
     "metadata": {},
     "output_type": "execute_result"
    },
    {
     "data": {
      "image/png": "[encoded data removed]",
      "text/plain": [
       "<Figure size 432x288 with 1 Axes>"
      ]
     },
     "metadata": {
      "needs_background": "light"
     },
     "output_type": "display_data"
    }
   ],
   "source": [
    "plt.xlabel(\"Relative Distance\")\n",
    "plt.ylabel(\"Percentage\")\n",
    "plt.bar(X, Y)"
   ]
  },
  {
   "cell_type": "code",
   "execution_count": 9,
   "id": "d5c7fe35",
   "metadata": {},
   "outputs": [
    {
     "data": {
      "text/plain": [
       "<BarContainer object of 192 artists>"
      ]
     },
     "execution_count": 9,
     "metadata": {},
     "output_type": "execute_result"
    },
    {
     "data": {
      "image/png": "[encoded data removed]",
      "text/plain": [
       "<Figure size 432x288 with 1 Axes>"
      ]
     },
     "metadata": {
      "needs_background": "light"
     },
     "output_type": "display_data"
    }
   ],
   "source": [
    "abs_pos_count = rational_distributions[\"abs_pos_count\"]\n",
    "plt.bar(abs_pos_count.keys(),abs_pos_count.values())"
   ]
  },
  {
   "cell_type": "markdown",
   "id": "66f07bbd",
   "metadata": {},
   "source": [
    "## Analysing some examples"
   ]
  },
  {
   "cell_type": "code",
   "execution_count": 10,
   "id": "9c94f1d8",
   "metadata": {},
   "outputs": [],
   "source": [
    "examples = [\"How are you doing? [SEP]\", \"What did you do today? [SEP]\", \"How's work? [SEP]\", \"Would you like some coffee? [SEP]\"]"
   ]
  },
  {
   "cell_type": "code",
   "execution_count": 11,
   "id": "ac0492d1",
   "metadata": {},
   "outputs": [],
   "source": [
    "## First with greedy rationals\n",
    "completed_dialogues_chance = lm_RE.complete_dialogues(examples, total_length=40, greedy_rationals=False)\n",
    "completed_dialogues_greedy = lm_RE.complete_dialogues(examples, total_length=40, greedy_rationals=True)"
   ]
  },
  {
   "cell_type": "code",
   "execution_count": 12,
   "id": "6b711811",
   "metadata": {},
   "outputs": [],
   "source": [
    "from utils.analysis import pretty_print_completed_dialogues"
   ]
  },
  {
   "cell_type": "code",
   "execution_count": 13,
   "id": "3741d809",
   "metadata": {},
   "outputs": [
    {
     "name": "stdout",
     "output_type": "stream",
     "text": [
      "context ----> response\n",
      "[MASK] [MASK] [MASK] [MASK] [MASK] [MASK] ------> what kind of things are you interested in ? [SEP]\n",
      "[MASK] [MASK] [MASK] [MASK] [MASK] [MASK] [MASK] [MASK] [MASK] [MASK] [MASK] [MASK] [MASK] [MASK] [MASK] [MASK] ------> yes , i ' ve got to see you again . [SEP]\n",
      "[MASK] are [MASK] [MASK] [MASK] [MASK] [MASK] [MASK] [MASK] [MASK] [MASK] [MASK] [MASK] in [MASK] [MASK] [MASK] [MASK] [MASK] [MASK] [MASK] got [MASK] [MASK] [MASK] [MASK] [MASK] [MASK] ------> i have been working in a company for a few years . [SEP]\n",
      "what [MASK] [MASK] [MASK] today [MASK] [MASK] ------> why not ? [SEP]\n",
      "[MASK] [MASK] [MASK] [MASK] [MASK] [MASK] [MASK] [MASK] not [MASK] [MASK] ------> yes , i ’ d like to take a cup of coffee . [SEP]\n",
      "[MASK] [MASK] [MASK] [MASK] [MASK] ? [MASK] [MASK] [MASK] ? [MASK] yes [MASK] i [MASK] [MASK] [MASK] [MASK] [MASK] a [MASK] [MASK] [MASK] [MASK] [MASK] ------> no , i ' ll make a ticket . [SEP]\n",
      "[MASK] [MASK] you [MASK] [MASK] [MASK] [MASK] [MASK] [MASK] [MASK] [MASK] [MASK] , [MASK] [MASK] [MASK] [MASK] [MASK] [MASK] [MASK] [MASK] [MASK] [MASK] [MASK] [MASK] [MASK] [MASK] [MASK] ' [MASK] [MASK] [MASK] [MASK] [MASK] [MASK] ------> yes , but how did it take to a party ? [SEP]\n",
      "[MASK] [MASK] [MASK] [MASK] [MASK] [MASK] ------> how much is it ? [SEP]\n",
      "[MASK] [MASK] [MASK] [MASK] [MASK] [MASK] [MASK] [MASK] [MASK] [MASK] ? [MASK] ------> oh . what ' s your favorite one ? [SEP]\n",
      "[MASK] [MASK] [MASK] work [MASK] [MASK] [MASK] [MASK] [MASK] [MASK] [MASK] [MASK] [MASK] [MASK] [MASK] [MASK] [MASK] [MASK] favorite [MASK] [MASK] [MASK] ------> you ’ re welcome . [SEP]\n",
      "[MASK] [MASK] [MASK] [MASK] [MASK] [MASK] [MASK] [MASK] [MASK] [MASK] [MASK] [MASK] [MASK] [MASK] [MASK] [MASK] [MASK] [MASK] [MASK] [MASK] [MASK] [SEP] [MASK] [MASK] [MASK] [MASK] [MASK] [MASK] ------> what ? i can ' t believe you could have some more than the same . [SEP]\n",
      "would [MASK] [MASK] [MASK] [MASK] [MASK] [MASK] ------> what ? [SEP]\n",
      "[MASK] [MASK] [MASK] [MASK] [MASK] ? [MASK] [MASK] [MASK] [MASK] ------> what about that in this year ? [SEP]\n",
      "[MASK] [MASK] [MASK] [MASK] [MASK] [MASK] [MASK] [MASK] [MASK] [SEP] [MASK] [MASK] [MASK] [MASK] [MASK] [MASK] [MASK] [MASK] ------> you ’ re welcome ! [SEP]\n",
      "[MASK] [MASK] [MASK] [MASK] [MASK] [MASK] [MASK] [MASK] [MASK] [MASK] [MASK] about [MASK] [MASK] [MASK] [MASK] [MASK] [MASK] [MASK] ’ [MASK] [MASK] [MASK] [MASK] ------> you ’ re right . [SEP]\n",
      "would [MASK] [MASK] [MASK] [MASK] [MASK] [MASK] [MASK] [MASK] [MASK] [MASK] [MASK] [MASK] [MASK] [MASK] [MASK] [MASK] [MASK] [MASK] [MASK] [MASK] [MASK] ! [MASK] [MASK] ’ [MASK] [MASK] [MASK] [MASK] ------> what ? [SEP]\n",
      "would [MASK] [MASK] [MASK] [MASK] [MASK] [MASK] [MASK] [MASK] [MASK] [MASK] [MASK] [MASK] [MASK] [MASK] year [MASK] [MASK] [MASK] [MASK] [MASK] [MASK] [MASK] [MASK] [MASK] [MASK] [MASK] [MASK] [MASK] [MASK] [MASK] [MASK] [MASK] ------> that will be perfect . [SEP]\n",
      "[MASK] [MASK] [MASK] [MASK] [MASK] [MASK] [SEP] [MASK] [MASK] [MASK] [MASK] [MASK] [MASK] [MASK] [MASK] [MASK] [MASK] [MASK] [MASK] [MASK] [MASK] welcome [MASK] [MASK] [MASK] [MASK] [MASK] [MASK] . [MASK] [MASK] [MASK] [SEP] [MASK] [MASK] [MASK] [MASK] [MASK] [MASK] ------> no , it ' s too long , i ' m afraid i want . [SEP]\n"
     ]
    }
   ],
   "source": [
    "pretty_print_completed_dialogues(completed_dialogues_greedy)"
   ]
  },
  {
   "cell_type": "code",
   "execution_count": 14,
   "id": "e1700c55",
   "metadata": {},
   "outputs": [
    {
     "name": "stdout",
     "output_type": "stream",
     "text": [
      "context ----> response\n",
      "[MASK] [MASK] [MASK] [MASK] [MASK] [MASK] ------> what did you do ? [SEP]\n",
      "[MASK] [MASK] [MASK] doing [MASK] [MASK] [MASK] [MASK] [MASK] [MASK] [MASK] [MASK] ------> oh , it ' s very good ! [SEP]\n",
      "[MASK] [MASK] [MASK] [MASK] [MASK] [MASK] [MASK] [MASK] you [MASK] [MASK] [MASK] [MASK] [MASK] [MASK] [MASK] [MASK] [MASK] [MASK] [MASK] [MASK] ------> i think it would be better . [SEP]\n",
      "[MASK] [MASK] [MASK] [MASK] [MASK] [MASK] [MASK] [MASK] [MASK] [MASK] [MASK] [SEP] [MASK] , [MASK] [MASK] [MASK] very [MASK] [MASK] [MASK] [MASK] [MASK] [MASK] [MASK] [MASK] better [MASK] [MASK] ------> you mean you like it ? i don ' t know . [SEP]\n",
      "[MASK] [MASK] [MASK] [MASK] [MASK] [MASK] [MASK] ------> no , you ' re right . what ' s up ? [SEP]\n",
      "[MASK] did [MASK] [MASK] [MASK] [MASK] [SEP] [MASK] [MASK] [MASK] [MASK] [MASK] [MASK] [MASK] [MASK] [MASK] [MASK] [MASK] [MASK] [MASK] ------> why don ' t you take your work ? i ' ve been busy at night ! [SEP]\n",
      "[MASK] [MASK] [MASK] [MASK] [MASK] [MASK] [MASK] [MASK] [MASK] [MASK] [MASK] [MASK] [MASK] [MASK] [MASK] ' [MASK] [MASK] [MASK] [MASK] [MASK] [MASK] [MASK] t [MASK] [MASK] your [MASK] ? [MASK] [MASK] [MASK] [MASK] [MASK] [MASK] night [MASK] [MASK] ------> i ’ d love to . [SEP]\n",
      "[MASK] [MASK] s [MASK] [MASK] [MASK] ------> no , i can tell you what to wear . [SEP]\n",
      "[MASK] [MASK] [MASK] [MASK] [MASK] [MASK] [MASK] , [MASK] [MASK] [MASK] [MASK] [MASK] [MASK] [MASK] [MASK] [MASK] ------> that ' s good . i ' ll just go and get some sleep . [SEP]\n",
      "[MASK] [MASK] [MASK] work [MASK] [SEP] [MASK] , [MASK] [MASK] [MASK] [MASK] [MASK] [MASK] [MASK] [MASK] [MASK] [MASK] [MASK] s [MASK] [MASK] [MASK] [MASK] [MASK] [MASK] go [MASK] [MASK] [MASK] [MASK] [MASK] [MASK] ------> how do i do that ? [SEP]\n",
      "[MASK] [MASK] [MASK] some [MASK] ? [MASK] ------> sure . i ' ll get my best to do that ! [SEP]\n",
      "[MASK] [MASK] [MASK] [MASK] [MASK] [MASK] [MASK] [MASK] [MASK] [MASK] ' [MASK] [MASK] [MASK] [MASK] [MASK] [MASK] [MASK] [MASK] [MASK] ------> yes , i like ##d . [SEP]\n",
      "would [MASK] [MASK] [MASK] [MASK] ? [MASK] [MASK] . [MASK] [MASK] [MASK] get [MASK] [MASK] [MASK] [MASK] [MASK] ! [MASK] [MASK] [MASK] [MASK] [MASK] [MASK] [MASK] [MASK] ------> why not ? do you like it ? [SEP]\n",
      "[MASK] [MASK] [MASK] [MASK] [MASK] [MASK] [MASK] [MASK] . [MASK] [MASK] [MASK] [MASK] my [MASK] [MASK] [MASK] [MASK] [MASK] [MASK] [MASK] [MASK] i [MASK] [MASK] [MASK] [MASK] [MASK] [MASK] [MASK] [MASK] [MASK] [MASK] [MASK] [MASK] [MASK] ------> what do you mean ? [SEP]\n"
     ]
    }
   ],
   "source": [
    "pretty_print_completed_dialogues(completed_dialogues_chance)"
   ]
  },
  {
   "cell_type": "code",
   "execution_count": 15,
   "id": "406c2543",
   "metadata": {},
   "outputs": [
    {
     "data": {
      "text/plain": [
       "{'completed_dialogue': \"how are you doing ? [SEP] what did you do ? [SEP] oh , it ' s very good ! [SEP] i think it would be better . [SEP] you mean you like it ? i don ' t know . [SEP]\",\n",
       " 'rationals': [tensor([False, False, False, False, False, False], device='cuda:0'),\n",
       "  tensor([False, False, False,  True, False, False, False, False, False, False,\n",
       "          False, False], device='cuda:0'),\n",
       "  tensor([False, False, False, False, False, False, False, False,  True, False,\n",
       "          False, False, False, False, False, False, False, False, False, False,\n",
       "          False], device='cuda:0'),\n",
       "  tensor([False, False, False, False, False, False, False, False, False, False,\n",
       "          False,  True, False,  True, False, False, False,  True, False, False,\n",
       "          False, False, False, False, False, False,  True, False, False],\n",
       "         device='cuda:0')],\n",
       " 'rationalized_input': ['[MASK] [MASK] [MASK] [MASK] [MASK] [MASK]',\n",
       "  '[MASK] [MASK] [MASK] doing [MASK] [MASK] [MASK] [MASK] [MASK] [MASK] [MASK] [MASK]',\n",
       "  '[MASK] [MASK] [MASK] [MASK] [MASK] [MASK] [MASK] [MASK] you [MASK] [MASK] [MASK] [MASK] [MASK] [MASK] [MASK] [MASK] [MASK] [MASK] [MASK] [MASK]',\n",
       "  '[MASK] [MASK] [MASK] [MASK] [MASK] [MASK] [MASK] [MASK] [MASK] [MASK] [MASK] [SEP] [MASK] , [MASK] [MASK] [MASK] very [MASK] [MASK] [MASK] [MASK] [MASK] [MASK] [MASK] [MASK] better [MASK] [MASK]'],\n",
       " 'response': ['what did you do ? [SEP]',\n",
       "  \"oh , it ' s very good ! [SEP]\",\n",
       "  'i think it would be better . [SEP]',\n",
       "  \"you mean you like it ? i don ' t know . [SEP]\"]}"
      ]
     },
     "execution_count": 15,
     "metadata": {},
     "output_type": "execute_result"
    }
   ],
   "source": [
    "completed_dialogues_chance[0]"
   ]
  },
  {
   "cell_type": "code",
   "execution_count": null,
   "id": "40ead8b3",
   "metadata": {},
   "outputs": [],
   "source": []
  }
 ],
 "metadata": {
  "kernelspec": {
   "display_name": "Python 3",
   "language": "python",
   "name": "python3"
  },
  "language_info": {
   "codemirror_mode": {
    "name": "ipython",
    "version": 3
   },
   "file_extension": ".py",
   "mimetype": "text/x-python",
   "name": "python",
   "nbconvert_exporter": "python",
   "pygments_lexer": "ipython3",
   "version": "3.6.13"
  }
 },
 "nbformat": 4,
 "nbformat_minor": 5
}
