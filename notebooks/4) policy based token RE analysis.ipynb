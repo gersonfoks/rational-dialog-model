{
 "cells": [
  {
   "cell_type": "markdown",
   "id": "a5904cd4",
   "metadata": {},
   "source": [
    "# Analysis\n",
    "\n",
    "In this notebook we will analyse the models that we created.\n",
    "\n",
    "The analysis consists of:\n",
    "\n",
    "1) comparing the perplexity and the accuracy between the rationalized and non-rationalized model \n",
    "\n",
    "2) Checking the change in perplexity when removing even more from the rational\n",
    "\n",
    "3) Checking the distribution of rationals\n",
    "\n",
    "4) Qualitative analysis of the some examples"
   ]
  },
  {
   "cell_type": "markdown",
   "id": "263adeb9",
   "metadata": {},
   "source": [
    "## Setup"
   ]
  },
  {
   "cell_type": "code",
   "execution_count": 1,
   "id": "bcbdbf72",
   "metadata": {},
   "outputs": [],
   "source": [
    "#First we fix the relative imports\n",
    "import os\n",
    "import sys\n",
    "# M\n",
    "# module_path = os.path.abspath(os.path.join('..'))\n",
    "# if module_path not in sys.path:\n",
    "#     sys.path.append(module_path)\n",
    "    \n",
    "#Make sure we are in the top folder. \n",
    "os.chdir(os.path.join('..'))"
   ]
  },
  {
   "cell_type": "code",
   "execution_count": 2,
   "id": "b583e598",
   "metadata": {},
   "outputs": [
    {
     "name": "stderr",
     "output_type": "stream",
     "text": [
      "C:\\Users\\gerso\\projects\\rational-dialog-model\\utils\\analysis.py:26: YAMLLoadWarning: calling yaml.load() without Loader=... is deprecated, as the default Loader is unsafe. Please read https://msg.pyyaml.org/load for full details.\n",
      "  config = yaml.load(f)\n"
     ]
    },
    {
     "name": "stdout",
     "output_type": "stream",
     "text": [
      "./daily_dialog/tokenizer.json\n",
      "200\n"
     ]
    },
    {
     "name": "stderr",
     "output_type": "stream",
     "text": [
      "Using custom data configuration default\n",
      "Reusing dataset daily_dialog (C:\\Users\\gerso\\.cache\\huggingface\\datasets\\daily_dialog\\default\\1.0.0\\c03444008e9508b8b76f1f6793742d37d5e5f83364f8d573c2747bff435ea55c)\n",
      "GPU available: True, used: True\n",
      "TPU available: False, using: 0 TPU cores\n"
     ]
    },
    {
     "name": "stdout",
     "output_type": "stream",
     "text": [
      "load pretrained_model:  ./models/small_lm.pt\n",
      "load pretrained_model:  ./models/small_lm_token_random_10_rationalized.pt\n",
      "2\n"
     ]
    }
   ],
   "source": [
    "### We load the models based on the configs for analysis. \n",
    "from utils.analysis import parse_config_for_analysis\n",
    "\n",
    "name = \"Random 10\"\n",
    "\n",
    "config_path = 'configs/random_10_RE_config.yml'\n",
    "\n",
    "loaded_info = parse_config_for_analysis(config_path)\n"
   ]
  },
  {
   "cell_type": "markdown",
   "id": "4003d667",
   "metadata": {},
   "source": [
    "## Perplexity and Accuracy"
   ]
  },
  {
   "cell_type": "code",
   "execution_count": 3,
   "id": "f347d7ab",
   "metadata": {},
   "outputs": [],
   "source": [
    "lm_RE = loaded_info[\"lightning_language_model_RE\"].to(\"cuda\")\n",
    "lm = loaded_info[\"lightning_language_model_no_RE\"].to(\"cuda\")\n",
    "tokenizer = loaded_info[\"tokenizer\"]\n",
    "dataloader_test = loaded_info[\"dataloader_test\"]\n",
    "\n"
   ]
  },
  {
   "cell_type": "code",
   "execution_count": 4,
   "id": "53bfdb09",
   "metadata": {},
   "outputs": [
    {
     "name": "stderr",
     "output_type": "stream",
     "text": [
      "  0%|                                                                                                                                                                                                               | 0/184 [00:00<?, ?it/s]C:\\Users\\gerso\\anaconda3\\envs\\CDM\\lib\\site-packages\\torch\\nn\\_reduction.py:42: UserWarning: size_average and reduce args will be deprecated, please use reduction='none' instead.\n",
      "  warnings.warn(warning.format(ret))\n",
      "100%|████████████████████████████████████████████████████████████████████████████████████████████████████████████████████████████████████████████████████████████████████████████████████████████████████| 184/184 [00:01<00:00, 133.92it/s]\n",
      "100%|████████████████████████████████████████████████████████████████████████████████████████████████████████████████████████████████████████████████████████████████████████████████████████████████████| 184/184 [00:01<00:00, 172.33it/s]"
     ]
    },
    {
     "name": "stdout",
     "output_type": "stream",
     "text": [
      "{'mean_acc': {'mean': 0.3646211108640394, 'std': 0.0}, 'mean_perplexity': {'mean': 31.209163190557327, 'std': 0.0}, 'mean_mask_percentage': {'mean': 0.10005078404898377, 'std': 0.0}}\n",
      "{'mean_acc': 0.38537945775372195, 'mean_perplexity': 25.526450388929813, 'mean_mask_percentage': 0}\n"
     ]
    },
    {
     "name": "stderr",
     "output_type": "stream",
     "text": [
      "\n"
     ]
    }
   ],
   "source": [
    "### First thing we compare the perplexity and accuracy on the testset.\n",
    "from utils.analysis import get_results, get_results_RE\n",
    "\n",
    "\n",
    "lm_RE_result = get_results_RE(lm_RE, dataloader_test, 1)\n",
    "lm_result = get_results(lm, dataloader_test)\n",
    "print(lm_RE_result)\n",
    "print(lm_result)\n"
   ]
  },
  {
   "cell_type": "markdown",
   "id": "04f45998",
   "metadata": {},
   "source": [
    "## Change in perplexity"
   ]
  },
  {
   "cell_type": "code",
   "execution_count": 5,
   "id": "c532a957",
   "metadata": {},
   "outputs": [],
   "source": [
    "### Next we test what happens if we check te change in perplexity of the RE. \n",
    "# from utils.analysis import calc_change_in_perplexity_experiment\n",
    "# change_in_perplexity = calc_change_in_perplexity_experiment(lm_RE, dataloader_test, n_experiments=10, n_extra_mask=2)\n",
    "# change_in_perplexity"
   ]
  },
  {
   "cell_type": "markdown",
   "id": "87500b1b",
   "metadata": {},
   "source": [
    "## Distribution of mask"
   ]
  },
  {
   "cell_type": "code",
   "execution_count": 6,
   "id": "c9d69192",
   "metadata": {},
   "outputs": [
    {
     "name": "stdout",
     "output_type": "stream",
     "text": [
      "{'abs_average': 0.0, 'rel_average': 0.0, 'abs_pos_count': Counter({2.0: 592, 14.0: 590, 1.0: 588, 3.0: 585, 9.0: 575, 13.0: 574, 4.0: 573, 5.0: 571, 8.0: 560, 10.0: 555, 6.0: 551, 7.0: 551, 11.0: 548, 12.0: 524, 16.0: 522, 19.0: 518, 15.0: 498, 20.0: 490, 18.0: 487, 23.0: 483, 17.0: 476, 21.0: 474, 25.0: 464, 22.0: 461, 29.0: 461, 27.0: 450, 31.0: 450, 26.0: 429, 24.0: 427, 36.0: 424, 28.0: 423, 30.0: 418, 34.0: 417, 35.0: 410, 32.0: 404, 39.0: 403, 38.0: 395, 43.0: 393, 42.0: 390, 37.0: 380, 45.0: 376, 33.0: 373, 40.0: 364, 41.0: 364, 44.0: 358, 48.0: 331, 46.0: 322, 47.0: 322, 52.0: 322, 54.0: 317, 56.0: 316, 51.0: 310, 49.0: 308, 55.0: 308, 53.0: 306, 62.0: 306, 57.0: 303, 59.0: 301, 50.0: 300, 61.0: 290, 58.0: 288, 60.0: 285, 63.0: 274, 66.0: 272, 69.0: 260, 64.0: 258, 65.0: 257, 67.0: 255, 68.0: 246, 70.0: 241, 74.0: 238, 71.0: 236, 76.0: 230, 75.0: 228, 78.0: 219, 73.0: 218, 84.0: 206, 77.0: 205, 72.0: 201, 83.0: 195, 80.0: 189, 86.0: 188, 82.0: 185, 79.0: 184, 81.0: 183, 88.0: 177, 87.0: 176, 85.0: 170, 96.0: 164, 100.0: 161, 90.0: 160, 91.0: 160, 89.0: 156, 93.0: 155, 92.0: 153, 94.0: 152, 95.0: 149, 97.0: 147, 101.0: 142, 102.0: 139, 103.0: 135, 107.0: 135, 98.0: 129, 99.0: 123, 110.0: 122, 108.0: 121, 105.0: 120, 118.0: 120, 106.0: 118, 104.0: 114, 113.0: 105, 112.0: 104, 111.0: 101, 109.0: 99, 116.0: 98, 114.0: 97, 117.0: 97, 120.0: 97, 115.0: 95, 121.0: 90, 124.0: 90, 119.0: 86, 123.0: 82, 126.0: 79, 122.0: 77, 129.0: 75, 125.0: 71, 127.0: 70, 131.0: 69, 138.0: 69, 128.0: 68, 130.0: 63, 135.0: 61, 133.0: 60, 137.0: 58, 132.0: 56, 136.0: 56, 134.0: 54, 139.0: 51, 140.0: 51, 141.0: 49, 142.0: 46, 144.0: 45, 145.0: 40, 153.0: 39, 143.0: 38, 147.0: 37, 149.0: 37, 148.0: 36, 152.0: 34, 155.0: 34, 150.0: 33, 146.0: 32, 158.0: 31, 151.0: 30, 156.0: 30, 154.0: 29, 159.0: 28, 166.0: 22, 157.0: 20, 161.0: 20, 160.0: 18, 162.0: 17, 164.0: 17, 170.0: 16, 165.0: 14, 163.0: 14, 167.0: 14, 168.0: 13, 169.0: 12, 171.0: 10, 173.0: 10, 177.0: 9, 172.0: 7, 176.0: 7, 175.0: 7, 174.0: 6, 180.0: 6, 178.0: 5, 179.0: 5, 182.0: 5, 183.0: 4, 181.0: 3, 184.0: 3, 185.0: 3, 186.0: 3, 188.0: 3, 187.0: 1, 190.0: 1, 189.0: 1, 191.0: 1, 193.0: 1}), 'rel_pos_count': Counter({20.0: 3969, 60.0: 3944, 80.0: 3931, 90.0: 3887, 70.0: 3865, 40.0: 3835, 50.0: 3828, 10.0: 3761, 30.0: 3739, 100.0: 2241, 0.0: 1595})}\n",
      "    percentages  Random 50  Policy token    Gumbel      Kuma  Random 25  \\\n",
      "0             0   0.042572      0.042394  0.308248  0.133743   0.043254   \n",
      "1            10   0.100014      0.100498  0.212583  0.288562   0.099790   \n",
      "2            20   0.101309      0.104503  0.080472  0.178922   0.102238   \n",
      "3            30   0.098195      0.098656  0.034567  0.094549   0.098541   \n",
      "4            40   0.101381      0.102879  0.021705  0.064816   0.099501   \n",
      "5            50   0.099264      0.101125  0.015971  0.043323   0.100141   \n",
      "6            60   0.100009      0.101597  0.012440  0.033283   0.100338   \n",
      "7            70   0.097445      0.097965  0.012699  0.023348   0.098097   \n",
      "8            80   0.102173      0.101892  0.019308  0.021798   0.101050   \n",
      "9            90   0.099922      0.098183  0.045711  0.027541   0.100193   \n",
      "10          100   0.057715      0.050308  0.236296  0.090115   0.056856   \n",
      "\n",
      "    Random 10  \n",
      "0    0.041327  \n",
      "1    0.097448  \n",
      "2    0.102837  \n",
      "3    0.096878  \n",
      "4    0.099365  \n",
      "5    0.099184  \n",
      "6    0.102189  \n",
      "7    0.100143  \n",
      "8    0.101853  \n",
      "9    0.100713  \n",
      "10   0.058065  \n"
     ]
    },
    {
     "data": {
      "text/html": [
       "<div>\n",
       "<style scoped>\n",
       "    .dataframe tbody tr th:only-of-type {\n",
       "        vertical-align: middle;\n",
       "    }\n",
       "\n",
       "    .dataframe tbody tr th {\n",
       "        vertical-align: top;\n",
       "    }\n",
       "\n",
       "    .dataframe thead th {\n",
       "        text-align: right;\n",
       "    }\n",
       "</style>\n",
       "<table border=\"1\" class=\"dataframe\">\n",
       "  <thead>\n",
       "    <tr style=\"text-align: right;\">\n",
       "      <th></th>\n",
       "      <th>percentages</th>\n",
       "      <th>Random 50</th>\n",
       "      <th>Policy token</th>\n",
       "      <th>Gumbel</th>\n",
       "      <th>Kuma</th>\n",
       "      <th>Random 25</th>\n",
       "      <th>Random 10</th>\n",
       "    </tr>\n",
       "  </thead>\n",
       "  <tbody>\n",
       "    <tr>\n",
       "      <th>0</th>\n",
       "      <td>0</td>\n",
       "      <td>0.042572</td>\n",
       "      <td>0.042394</td>\n",
       "      <td>0.308248</td>\n",
       "      <td>0.133743</td>\n",
       "      <td>0.043254</td>\n",
       "      <td>0.041327</td>\n",
       "    </tr>\n",
       "    <tr>\n",
       "      <th>1</th>\n",
       "      <td>10</td>\n",
       "      <td>0.100014</td>\n",
       "      <td>0.100498</td>\n",
       "      <td>0.212583</td>\n",
       "      <td>0.288562</td>\n",
       "      <td>0.099790</td>\n",
       "      <td>0.097448</td>\n",
       "    </tr>\n",
       "    <tr>\n",
       "      <th>2</th>\n",
       "      <td>20</td>\n",
       "      <td>0.101309</td>\n",
       "      <td>0.104503</td>\n",
       "      <td>0.080472</td>\n",
       "      <td>0.178922</td>\n",
       "      <td>0.102238</td>\n",
       "      <td>0.102837</td>\n",
       "    </tr>\n",
       "    <tr>\n",
       "      <th>3</th>\n",
       "      <td>30</td>\n",
       "      <td>0.098195</td>\n",
       "      <td>0.098656</td>\n",
       "      <td>0.034567</td>\n",
       "      <td>0.094549</td>\n",
       "      <td>0.098541</td>\n",
       "      <td>0.096878</td>\n",
       "    </tr>\n",
       "    <tr>\n",
       "      <th>4</th>\n",
       "      <td>40</td>\n",
       "      <td>0.101381</td>\n",
       "      <td>0.102879</td>\n",
       "      <td>0.021705</td>\n",
       "      <td>0.064816</td>\n",
       "      <td>0.099501</td>\n",
       "      <td>0.099365</td>\n",
       "    </tr>\n",
       "    <tr>\n",
       "      <th>5</th>\n",
       "      <td>50</td>\n",
       "      <td>0.099264</td>\n",
       "      <td>0.101125</td>\n",
       "      <td>0.015971</td>\n",
       "      <td>0.043323</td>\n",
       "      <td>0.100141</td>\n",
       "      <td>0.099184</td>\n",
       "    </tr>\n",
       "    <tr>\n",
       "      <th>6</th>\n",
       "      <td>60</td>\n",
       "      <td>0.100009</td>\n",
       "      <td>0.101597</td>\n",
       "      <td>0.012440</td>\n",
       "      <td>0.033283</td>\n",
       "      <td>0.100338</td>\n",
       "      <td>0.102189</td>\n",
       "    </tr>\n",
       "    <tr>\n",
       "      <th>7</th>\n",
       "      <td>70</td>\n",
       "      <td>0.097445</td>\n",
       "      <td>0.097965</td>\n",
       "      <td>0.012699</td>\n",
       "      <td>0.023348</td>\n",
       "      <td>0.098097</td>\n",
       "      <td>0.100143</td>\n",
       "    </tr>\n",
       "    <tr>\n",
       "      <th>8</th>\n",
       "      <td>80</td>\n",
       "      <td>0.102173</td>\n",
       "      <td>0.101892</td>\n",
       "      <td>0.019308</td>\n",
       "      <td>0.021798</td>\n",
       "      <td>0.101050</td>\n",
       "      <td>0.101853</td>\n",
       "    </tr>\n",
       "    <tr>\n",
       "      <th>9</th>\n",
       "      <td>90</td>\n",
       "      <td>0.099922</td>\n",
       "      <td>0.098183</td>\n",
       "      <td>0.045711</td>\n",
       "      <td>0.027541</td>\n",
       "      <td>0.100193</td>\n",
       "      <td>0.100713</td>\n",
       "    </tr>\n",
       "    <tr>\n",
       "      <th>10</th>\n",
       "      <td>100</td>\n",
       "      <td>0.057715</td>\n",
       "      <td>0.050308</td>\n",
       "      <td>0.236296</td>\n",
       "      <td>0.090115</td>\n",
       "      <td>0.056856</td>\n",
       "      <td>0.058065</td>\n",
       "    </tr>\n",
       "  </tbody>\n",
       "</table>\n",
       "</div>"
      ],
      "text/plain": [
       "    percentages  Random 50  Policy token    Gumbel      Kuma  Random 25  \\\n",
       "0             0   0.042572      0.042394  0.308248  0.133743   0.043254   \n",
       "1            10   0.100014      0.100498  0.212583  0.288562   0.099790   \n",
       "2            20   0.101309      0.104503  0.080472  0.178922   0.102238   \n",
       "3            30   0.098195      0.098656  0.034567  0.094549   0.098541   \n",
       "4            40   0.101381      0.102879  0.021705  0.064816   0.099501   \n",
       "5            50   0.099264      0.101125  0.015971  0.043323   0.100141   \n",
       "6            60   0.100009      0.101597  0.012440  0.033283   0.100338   \n",
       "7            70   0.097445      0.097965  0.012699  0.023348   0.098097   \n",
       "8            80   0.102173      0.101892  0.019308  0.021798   0.101050   \n",
       "9            90   0.099922      0.098183  0.045711  0.027541   0.100193   \n",
       "10          100   0.057715      0.050308  0.236296  0.090115   0.056856   \n",
       "\n",
       "    Random 10  \n",
       "0    0.041327  \n",
       "1    0.097448  \n",
       "2    0.102837  \n",
       "3    0.096878  \n",
       "4    0.099365  \n",
       "5    0.099184  \n",
       "6    0.102189  \n",
       "7    0.100143  \n",
       "8    0.101853  \n",
       "9    0.100713  \n",
       "10   0.058065  "
      ]
     },
     "execution_count": 6,
     "metadata": {},
     "output_type": "execute_result"
    }
   ],
   "source": [
    "from utils.analysis import rational_analysis, prepare_rel_pos_count, add_distribution_to_file\n",
    "\n",
    "rational_distributions = rational_analysis(lm_RE, dataloader_test, greedy=False)\n",
    "print(rational_distributions)\n",
    "\n",
    "rel_pos_count = prepare_rel_pos_count(rational_distributions[\"rel_pos_count\"])\n",
    "add_distribution_to_file(rel_pos_count, name, file=\"pos_counts.txt\")"
   ]
  },
  {
   "cell_type": "code",
   "execution_count": 7,
   "id": "801b15b1",
   "metadata": {},
   "outputs": [
    {
     "data": {
      "text/plain": [
       "[<matplotlib.lines.Line2D at 0x24b01927898>]"
      ]
     },
     "execution_count": 7,
     "metadata": {},
     "output_type": "execute_result"
    },
    {
     "data": {
      "image/png": "[encoded data removed]",
      "text/plain": [
       "<Figure size 432x288 with 1 Axes>"
      ]
     },
     "metadata": {
      "needs_background": "light"
     },
     "output_type": "display_data"
    }
   ],
   "source": [
    "import matplotlib.pyplot as plt\n",
    "relative_counts = rational_distributions[\"rel_pos_count\"]\n",
    "total = sum(relative_counts.values())\n",
    "X = [int(k) for k in relative_counts.keys()] \n",
    "Y = [r/total for r in relative_counts.values()]\n",
    "\n",
    "pairs = sorted([(x,y) for x,y in zip(X, Y)], key=lambda p: p[0])\n",
    "plt.xlabel\n",
    "X_sorted = [p[0] for p in pairs]\n",
    "Y_sorted = [p[1] for p in pairs]\n",
    "plt.xlabel(\"Relative Distance\")\n",
    "plt.ylabel(\"Percentage\")\n",
    "plt.plot(X_sorted, Y_sorted, \"\")\n"
   ]
  },
  {
   "cell_type": "code",
   "execution_count": 8,
   "id": "2d3bf898",
   "metadata": {},
   "outputs": [
    {
     "data": {
      "text/plain": [
       "<BarContainer object of 11 artists>"
      ]
     },
     "execution_count": 8,
     "metadata": {},
     "output_type": "execute_result"
    },
    {
     "data": {
      "image/png": "[encoded data removed]",
      "text/plain": [
       "<Figure size 432x288 with 1 Axes>"
      ]
     },
     "metadata": {
      "needs_background": "light"
     },
     "output_type": "display_data"
    }
   ],
   "source": [
    "plt.xlabel(\"Relative Distance\")\n",
    "plt.ylabel(\"Percentage\")\n",
    "plt.bar(X, Y)"
   ]
  },
  {
   "cell_type": "code",
   "execution_count": 9,
   "id": "d5c7fe35",
   "metadata": {},
   "outputs": [
    {
     "data": {
      "text/plain": [
       "<BarContainer object of 192 artists>"
      ]
     },
     "execution_count": 9,
     "metadata": {},
     "output_type": "execute_result"
    },
    {
     "data": {
      "image/png": "[encoded data removed]",
      "text/plain": [
       "<Figure size 432x288 with 1 Axes>"
      ]
     },
     "metadata": {
      "needs_background": "light"
     },
     "output_type": "display_data"
    }
   ],
   "source": [
    "abs_pos_count = rational_distributions[\"abs_pos_count\"]\n",
    "plt.bar(abs_pos_count.keys(),abs_pos_count.values())"
   ]
  },
  {
   "cell_type": "markdown",
   "id": "66f07bbd",
   "metadata": {},
   "source": [
    "## Analysing some examples"
   ]
  },
  {
   "cell_type": "code",
   "execution_count": 10,
   "id": "9c94f1d8",
   "metadata": {},
   "outputs": [],
   "source": [
    "examples = [\"How are you doing? [SEP]\", \"What did you do today? [SEP]\", \"How's work? [SEP]\", \"Would you like some coffee? [SEP]\"]"
   ]
  },
  {
   "cell_type": "code",
   "execution_count": 11,
   "id": "ac0492d1",
   "metadata": {},
   "outputs": [],
   "source": [
    "## First with greedy rationals\n",
    "completed_dialogues_chance = lm_RE.complete_dialogues(examples, total_length=40, greedy_rationals=False)\n",
    "completed_dialogues_greedy = lm_RE.complete_dialogues(examples, total_length=40, greedy_rationals=True)"
   ]
  },
  {
   "cell_type": "code",
   "execution_count": 12,
   "id": "6b711811",
   "metadata": {},
   "outputs": [],
   "source": [
    "from utils.analysis import pretty_print_completed_dialogues"
   ]
  },
  {
   "cell_type": "code",
   "execution_count": 13,
   "id": "3741d809",
   "metadata": {},
   "outputs": [
    {
     "name": "stdout",
     "output_type": "stream",
     "text": [
      "context ----> response\n",
      "[MASK] [MASK] [MASK] [MASK] [MASK] [MASK] ------> oh , good , thanks . [SEP]\n",
      "[MASK] [MASK] [MASK] [MASK] [MASK] [MASK] [MASK] [MASK] [MASK] [MASK] [MASK] [MASK] [MASK] ------> what is the problem ? [SEP]\n",
      "[MASK] [MASK] [MASK] [MASK] [MASK] [SEP] [MASK] [MASK] [MASK] [MASK] [MASK] [MASK] [MASK] what [MASK] [MASK] [MASK] ? [MASK] ------> yes , please . [SEP]\n",
      "[MASK] [MASK] [MASK] [MASK] [MASK] [MASK] [MASK] [MASK] [MASK] [MASK] [MASK] [MASK] [MASK] [MASK] [MASK] [MASK] [MASK] [MASK] [MASK] [MASK] [MASK] [MASK] . [SEP] ------> i am . [SEP]\n",
      "[MASK] [MASK] [MASK] [MASK] ? [MASK] [MASK] [MASK] [MASK] [MASK] [MASK] [MASK] [MASK] [MASK] [MASK] [MASK] [MASK] [MASK] [MASK] yes [MASK] [MASK] [MASK] [MASK] [MASK] [MASK] [MASK] [MASK] ------> no , i ’ ve got the wrong teacher . [SEP]\n",
      "[MASK] [MASK] [MASK] [MASK] [MASK] [MASK] oh , good [MASK] [MASK] [MASK] [MASK] [MASK] [MASK] the [MASK] [MASK] [MASK] [MASK] [MASK] [MASK] [MASK] [MASK] [MASK] [MASK] [MASK] [MASK] [MASK] [MASK] i [MASK] [MASK] [MASK] [MASK] [MASK] [MASK] [MASK] [MASK] ------> i know . i am sure you ' ve got to find the first time . [SEP]\n",
      "[MASK] [MASK] [MASK] [MASK] [MASK] [MASK] [MASK] ------> yes , i ' ve been feeling well . i ' m really excited to hear that . [SEP]\n",
      "[MASK] [MASK] [MASK] [MASK] [MASK] [MASK] [MASK] [MASK] [MASK] [MASK] [MASK] [MASK] [MASK] [MASK] well [MASK] [MASK] [MASK] [MASK] [MASK] [MASK] [MASK] [MASK] that . [MASK] ------> i see , but i think it ' s not the same , i think . [SEP]\n",
      "[MASK] [MASK] [MASK] [MASK] [MASK] [MASK] ------> good morning . [SEP]\n",
      "[MASK] [MASK] [MASK] [MASK] [MASK] [SEP] [MASK] [MASK] [MASK] [MASK] ------> what kind of job would you like ? [SEP]\n",
      "how [MASK] [MASK] [MASK] [MASK] [MASK] [MASK] [MASK] [MASK] [MASK] [MASK] [MASK] [MASK] [MASK] [MASK] [MASK] [MASK] [MASK] [MASK] ------> i know the job . how about going to work from ? [SEP]\n",
      "[MASK] [MASK] s [MASK] [MASK] [MASK] [MASK] [MASK] [MASK] [MASK] [MASK] [MASK] [MASK] [MASK] [MASK] [MASK] [MASK] ? [MASK] [MASK] [MASK] [MASK] [MASK] [MASK] [MASK] about going [MASK] [MASK] [MASK] [MASK] [MASK] ------> yes . [SEP]\n",
      "[MASK] [MASK] [MASK] [MASK] [MASK] [MASK] [MASK] [MASK] . [MASK] [MASK] [MASK] [MASK] [MASK] [MASK] [MASK] [MASK] [MASK] [MASK] [MASK] [MASK] [MASK] job [MASK] [MASK] [MASK] [MASK] to [MASK] [MASK] [MASK] [MASK] [MASK] [MASK] [MASK] ------> how can i help you ? [SEP]\n",
      "[MASK] you [MASK] [MASK] [MASK] [MASK] [MASK] ------> what do you mean ? [SEP]\n",
      "[MASK] [MASK] [MASK] [MASK] [MASK] [MASK] [MASK] [MASK] [MASK] [MASK] [MASK] [MASK] [MASK] ------> i am not sure what you mean ! [SEP]\n",
      "[MASK] [MASK] like [MASK] [MASK] [MASK] [SEP] [MASK] [MASK] [MASK] [MASK] [MASK] [MASK] [MASK] [MASK] [MASK] [MASK] [MASK] [MASK] [MASK] ! [MASK] ------> i have a nice day . [SEP]\n",
      "[MASK] [MASK] [MASK] [MASK] [MASK] [MASK] [MASK] [MASK] [MASK] [MASK] [MASK] [MASK] [MASK] [MASK] [MASK] [MASK] [MASK] what you [MASK] [MASK] [MASK] [MASK] [MASK] [MASK] [MASK] [MASK] [MASK] [MASK] ------> i ' ve always want to get a good choice . [SEP]\n"
     ]
    }
   ],
   "source": [
    "pretty_print_completed_dialogues(completed_dialogues_greedy)"
   ]
  },
  {
   "cell_type": "code",
   "execution_count": 14,
   "id": "e1700c55",
   "metadata": {},
   "outputs": [
    {
     "name": "stdout",
     "output_type": "stream",
     "text": [
      "context ----> response\n",
      "[MASK] [MASK] [MASK] [MASK] [MASK] [MASK] ------> yes . [SEP]\n",
      "[MASK] [MASK] you [MASK] [MASK] [MASK] yes [MASK] [MASK] ------> what do you like ? [SEP]\n",
      "[MASK] [MASK] [MASK] [MASK] [MASK] [MASK] [MASK] [MASK] [MASK] [MASK] [MASK] you [MASK] [MASK] [MASK] ------> i ' m afraid you are right . [SEP]\n",
      "[MASK] [MASK] [MASK] [MASK] [MASK] [MASK] [MASK] [MASK] [SEP] [MASK] [MASK] [MASK] [MASK] [MASK] [MASK] [MASK] [MASK] [MASK] [MASK] [MASK] [MASK] [MASK] [MASK] [MASK] ------> i am not sure . what did you do ? [SEP]\n",
      "how [MASK] [MASK] [MASK] [MASK] [MASK] [MASK] [MASK] [MASK] [MASK] [MASK] [MASK] [MASK] [MASK] [MASK] [MASK] [MASK] [MASK] [MASK] [MASK] [MASK] [MASK] [MASK] [MASK] i [MASK] [MASK] [MASK] [MASK] [MASK] [MASK] [MASK] [MASK] [MASK] [MASK] ------> how did you know that ? [SEP]\n",
      "[MASK] [MASK] [MASK] [MASK] [MASK] [MASK] [MASK] ------> what ' s your favorite course ? [SEP]\n",
      "what [MASK] [MASK] [MASK] [MASK] [MASK] [MASK] [MASK] [MASK] [MASK] [MASK] [MASK] [MASK] [MASK] [MASK] ------> why do you want that ? [SEP]\n",
      "[MASK] did [MASK] do [MASK] [MASK] [MASK] [MASK] [MASK] [MASK] [MASK] [MASK] course [MASK] [MASK] why do [MASK] [MASK] [MASK] ? [MASK] ------> i ' m really excited . [SEP]\n",
      "[MASK] [MASK] [MASK] [MASK] [MASK] ? [MASK] [MASK] [MASK] [MASK] [MASK] [MASK] [MASK] [MASK] [MASK] [MASK] [MASK] [MASK] [MASK] [MASK] [MASK] [MASK] [MASK] [MASK] [MASK] [MASK] [MASK] [MASK] [MASK] ------> well , we ' ve just got a new house , but i don ' t know . [SEP]\n",
      "[MASK] [MASK] [MASK] [MASK] [MASK] [MASK] ------> yes , it is . [SEP]\n",
      "how [MASK] [MASK] [MASK] [MASK] [MASK] [MASK] [MASK] [MASK] [MASK] [MASK] [MASK] ------> i am going to work hard . [SEP]\n",
      "[MASK] [MASK] [MASK] work [MASK] [MASK] [MASK] [MASK] [MASK] [MASK] . [MASK] [MASK] [MASK] [MASK] [MASK] [MASK] [MASK] [MASK] [MASK] ------> i know . [SEP]\n",
      "[MASK] [MASK] [MASK] [MASK] [MASK] [MASK] [MASK] [MASK] [MASK] [MASK] [MASK] [MASK] [MASK] [MASK] [MASK] [MASK] work [MASK] [MASK] [MASK] [MASK] [MASK] . [MASK] ------> i like it , but i can ' t find it . [SEP]\n",
      "[MASK] [MASK] [MASK] [MASK] [MASK] [MASK] [MASK] [MASK] [MASK] [MASK] [MASK] [MASK] [MASK] [MASK] going [MASK] [MASK] [MASK] [MASK] [MASK] [MASK] [MASK] . [MASK] [MASK] [MASK] [MASK] [MASK] [MASK] [MASK] [MASK] [MASK] t [MASK] [MASK] [MASK] [MASK] ------> i ' ll make sure to go home then . [SEP]\n",
      "[MASK] [MASK] [MASK] [MASK] [MASK] [MASK] [MASK] ------> oh , i don ' t believe i have enough for my mind . [SEP]\n",
      "[MASK] [MASK] like [MASK] [MASK] [MASK] [MASK] [MASK] [MASK] i [MASK] [MASK] [MASK] [MASK] [MASK] [MASK] [MASK] for [MASK] [MASK] . [MASK] ------> what ' s that ? [SEP]\n",
      "[MASK] [MASK] [MASK] [MASK] [MASK] [MASK] [MASK] [MASK] , [MASK] [MASK] [MASK] [MASK] [MASK] [MASK] [MASK] [MASK] [MASK] [MASK] [MASK] [MASK] [SEP] [MASK] [MASK] [MASK] [MASK] [MASK] [MASK] ------> you ' ll have to be back to the same . [SEP]\n"
     ]
    }
   ],
   "source": [
    "pretty_print_completed_dialogues(completed_dialogues_chance)"
   ]
  },
  {
   "cell_type": "code",
   "execution_count": 15,
   "id": "406c2543",
   "metadata": {},
   "outputs": [
    {
     "data": {
      "text/plain": [
       "{'completed_dialogue': \"how are you doing ? [SEP] yes . [SEP] what do you like ? [SEP] i ' m afraid you are right . [SEP] i am not sure . what did you do ? [SEP] how did you know that ? [SEP]\",\n",
       " 'rationals': [tensor([False, False, False, False, False, False], device='cuda:0'),\n",
       "  tensor([False, False,  True, False, False, False,  True, False, False],\n",
       "         device='cuda:0'),\n",
       "  tensor([False, False, False, False, False, False, False, False, False, False,\n",
       "          False,  True, False, False, False], device='cuda:0'),\n",
       "  tensor([False, False, False, False, False, False, False, False,  True, False,\n",
       "          False, False, False, False, False, False, False, False, False, False,\n",
       "          False, False, False, False], device='cuda:0'),\n",
       "  tensor([ True, False, False, False, False, False, False, False, False, False,\n",
       "          False, False, False, False, False, False, False, False, False, False,\n",
       "          False, False, False, False,  True, False, False, False, False, False,\n",
       "          False, False, False, False, False], device='cuda:0')],\n",
       " 'rationalized_input': ['[MASK] [MASK] [MASK] [MASK] [MASK] [MASK]',\n",
       "  '[MASK] [MASK] you [MASK] [MASK] [MASK] yes [MASK] [MASK]',\n",
       "  '[MASK] [MASK] [MASK] [MASK] [MASK] [MASK] [MASK] [MASK] [MASK] [MASK] [MASK] you [MASK] [MASK] [MASK]',\n",
       "  '[MASK] [MASK] [MASK] [MASK] [MASK] [MASK] [MASK] [MASK] [SEP] [MASK] [MASK] [MASK] [MASK] [MASK] [MASK] [MASK] [MASK] [MASK] [MASK] [MASK] [MASK] [MASK] [MASK] [MASK]',\n",
       "  'how [MASK] [MASK] [MASK] [MASK] [MASK] [MASK] [MASK] [MASK] [MASK] [MASK] [MASK] [MASK] [MASK] [MASK] [MASK] [MASK] [MASK] [MASK] [MASK] [MASK] [MASK] [MASK] [MASK] i [MASK] [MASK] [MASK] [MASK] [MASK] [MASK] [MASK] [MASK] [MASK] [MASK]'],\n",
       " 'response': ['yes . [SEP]',\n",
       "  'what do you like ? [SEP]',\n",
       "  \"i ' m afraid you are right . [SEP]\",\n",
       "  'i am not sure . what did you do ? [SEP]',\n",
       "  'how did you know that ? [SEP]']}"
      ]
     },
     "execution_count": 15,
     "metadata": {},
     "output_type": "execute_result"
    }
   ],
   "source": [
    "completed_dialogues_chance[0]"
   ]
  },
  {
   "cell_type": "code",
   "execution_count": null,
   "id": "40ead8b3",
   "metadata": {},
   "outputs": [],
   "source": []
  }
 ],
 "metadata": {
  "kernelspec": {
   "display_name": "Python 3",
   "language": "python",
   "name": "python3"
  },
  "language_info": {
   "codemirror_mode": {
    "name": "ipython",
    "version": 3
   },
   "file_extension": ".py",
   "mimetype": "text/x-python",
   "name": "python",
   "nbconvert_exporter": "python",
   "pygments_lexer": "ipython3",
   "version": "3.6.13"
  }
 },
 "nbformat": 4,
 "nbformat_minor": 5
}
