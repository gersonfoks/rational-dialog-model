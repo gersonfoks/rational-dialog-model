{
 "cells": [
  {
   "cell_type": "markdown",
   "id": "a5904cd4",
   "metadata": {},
   "source": [
    "# Analysis\n",
    "\n",
    "In this notebook we will analyse the models that we created.\n",
    "\n",
    "The analysis consists of:\n",
    "\n",
    "1) comparing the perplexity and the accuracy between the rationalized and non-rationalized model \n",
    "\n",
    "2) Checking the change in perplexity when removing even more from the rational\n",
    "\n",
    "3) Checking the distribution of rationals\n",
    "\n",
    "4) Qualitative analysis of the some examples"
   ]
  },
  {
   "cell_type": "markdown",
   "id": "263adeb9",
   "metadata": {},
   "source": [
    "## Setup"
   ]
  },
  {
   "cell_type": "code",
   "execution_count": 1,
   "id": "bcbdbf72",
   "metadata": {},
   "outputs": [],
   "source": [
    "#First we fix the relative imports\n",
    "import os\n",
    "import sys\n",
    "# M\n",
    "# module_path = os.path.abspath(os.path.join('..'))\n",
    "# if module_path not in sys.path:\n",
    "#     sys.path.append(module_path)\n",
    "    \n",
    "#Make sure we are in the top folder. \n",
    "os.chdir(os.path.join('..'))"
   ]
  },
  {
   "cell_type": "code",
   "execution_count": 2,
   "id": "b583e598",
   "metadata": {},
   "outputs": [
    {
     "name": "stderr",
     "output_type": "stream",
     "text": [
      "/Users/spyros/UvA_AI/rational-dialog-model/utils/analysis.py:24: YAMLLoadWarning: calling yaml.load() without Loader=... is deprecated, as the default Loader is unsafe. Please read https://msg.pyyaml.org/load for full details.\n",
      "  config = yaml.load(f)\n"
     ]
    },
    {
     "name": "stdout",
     "output_type": "stream",
     "text": [
      "0\n"
     ]
    },
    {
     "name": "stderr",
     "output_type": "stream",
     "text": [
      "Using custom data configuration default\n",
      "Reusing dataset daily_dialog (/Users/spyros/.cache/huggingface/datasets/daily_dialog/default/1.0.0/1781b6e74e1ba5c8b5bcbf7c210656d54474ec1a9b3feadc88a4fc229be2145c)\n"
     ]
    },
    {
     "name": "stdout",
     "output_type": "stream",
     "text": [
      "load pretrained_model:  ./finetuning/saved_models/dialoGPT-daily_dialog-small\n",
      "load pretrained_model:  ./final_models/dialoGPT_dailyDialog_finetuned.pt\n"
     ]
    },
    {
     "name": "stderr",
     "output_type": "stream",
     "text": [
      "GPU available: False, used: False\n",
      "TPU available: False, using: 0 TPU cores\n"
     ]
    },
    {
     "name": "stdout",
     "output_type": "stream",
     "text": [
      "pad token id: 50258\n"
     ]
    }
   ],
   "source": [
    "### We load the models based on the configs for analysis. \n",
    "from utils.analysis import parse_config_for_analysis\n",
    "config_path = 'configs/dialoGPT_REINFORCE_dailyDialog.yml'\n",
    "\n",
    "loaded_info = parse_config_for_analysis(config_path)\n"
   ]
  },
  {
   "cell_type": "markdown",
   "id": "4003d667",
   "metadata": {},
   "source": [
    "## Perplexity and Accuracy"
   ]
  },
  {
   "cell_type": "code",
   "execution_count": 3,
   "id": "f347d7ab",
   "metadata": {},
   "outputs": [],
   "source": [
    "\n",
    "lm_RE = loaded_info[\"lightning_language_model_RE\"].to('cpu')#.to(\"cuda\")\n",
    "lm = loaded_info[\"lightning_language_model_no_RE\"].to('cpu')#.to(\"cuda\")\n",
    "tokenizer = loaded_info[\"tokenizer\"]\n",
    "dataloader_test = loaded_info[\"dataloader_test\"]\n",
    "\n"
   ]
  },
  {
   "cell_type": "code",
   "execution_count": 4,
   "id": "53bfdb09",
   "metadata": {},
   "outputs": [
    {
     "name": "stderr",
     "output_type": "stream",
     "text": [
      "  0%|          | 0/66 [00:00<?, ?it/s]/Users/spyros/opt/miniconda3/lib/python3.8/site-packages/torch/nn/_reduction.py:42: UserWarning: size_average and reduce args will be deprecated, please use reduction='none' instead.\n",
      "  warnings.warn(warning.format(ret))\n",
      "100%|██████████| 66/66 [02:38<00:00,  2.40s/it]\n",
      "100%|██████████| 66/66 [02:53<00:00,  2.63s/it]\n"
     ]
    },
    {
     "name": "stdout",
     "output_type": "stream",
     "text": [
      "{'mean_acc': {'mean': 0.2712234820831905, 'std': 0.0}, 'mean_perplexity': {'mean': 112.46318461678241, 'std': 0.0}, 'mean_mask_percentage': {'mean': 0.7229092121124269, 'std': 0.0}}\n",
      "{'mean_acc': 0.2515136631149235, 'mean_perplexity': 158.12114484382397, 'mean_mask_percentage': 0}\n"
     ]
    }
   ],
   "source": [
    "### First thing we compare the perplexity and accuracy on the testset.\n",
    "from utils.analysis import get_results, get_results_RE\n",
    "\n",
    "\n",
    "lm_RE_result = get_results_RE(lm_RE, dataloader_test, 1)\n",
    "lm_result = get_results(lm, dataloader_test)\n",
    "print(lm_RE_result)\n",
    "print(lm_result)\n"
   ]
  },
  {
   "cell_type": "markdown",
   "id": "04f45998",
   "metadata": {},
   "source": [
    "## Change in perplexity"
   ]
  },
  {
   "cell_type": "code",
   "execution_count": null,
   "id": "c532a957",
   "metadata": {},
   "outputs": [],
   "source": [
    "# ### Next we test what happens if we check te change in perplexity of the RE. \n",
    "# from utils.analysis import calc_change_in_perplexity_experiment\n",
    "# change_in_perplexity = calc_change_in_perplexity_experiment(lm_RE, dataloader_test, n_experiments=10, n_extra_mask=2)\n",
    "# change_in_perplexity"
   ]
  },
  {
   "cell_type": "markdown",
   "id": "87500b1b",
   "metadata": {},
   "source": [
    "## Distribution of mask"
   ]
  },
  {
   "cell_type": "code",
   "execution_count": 5,
   "id": "c9d69192",
   "metadata": {},
   "outputs": [
    {
     "name": "stdout",
     "output_type": "stream",
     "text": [
      "{'abs_average': 0.0, 'rel_average': 0.0, 'abs_pos_count': Counter({2.0: 320, 3.0: 263, 5.0: 250, 7.0: 248, 8.0: 242, 4.0: 236, 6.0: 235, 9.0: 232, 10.0: 230, 15.0: 229, 14.0: 226, 13.0: 223, 11.0: 219, 17.0: 218, 12.0: 210, 16.0: 210, 18.0: 208, 19.0: 203, 21.0: 201, 22.0: 201, 27.0: 201, 20.0: 200, 23.0: 193, 24.0: 193, 25.0: 190, 31.0: 188, 30.0: 184, 26.0: 180, 32.0: 180, 28.0: 178, 29.0: 178, 33.0: 178, 34.0: 177, 39.0: 177, 40.0: 174, 35.0: 173, 37.0: 172, 36.0: 167, 43.0: 165, 45.0: 164, 41.0: 163, 42.0: 161, 44.0: 161, 1.0: 159, 38.0: 156, 47.0: 156, 46.0: 155, 50.0: 151, 52.0: 149, 48.0: 146, 49.0: 144, 54.0: 143, 51.0: 142, 56.0: 142, 59.0: 139, 55.0: 136, 57.0: 136, 53.0: 131, 66.0: 130, 58.0: 128, 63.0: 128, 60.0: 125, 61.0: 124, 62.0: 124, 64.0: 121, 65.0: 119, 71.0: 119, 67.0: 117, 73.0: 115, 70.0: 114, 69.0: 113, 74.0: 113, 68.0: 112, 76.0: 112, 72.0: 109, 80.0: 107, 79.0: 106, 75.0: 104, 77.0: 104, 86.0: 104, 85.0: 103, 78.0: 102, 83.0: 101, 88.0: 100, 82.0: 99, 87.0: 93, 90.0: 93, 84.0: 92, 89.0: 92, 81.0: 91, 91.0: 90, 92.0: 89, 97.0: 85, 101.0: 85, 93.0: 84, 94.0: 82, 96.0: 82, 95.0: 78, 102.0: 78, 98.0: 76, 100.0: 76, 107.0: 76, 105.0: 75, 103.0: 74, 113.0: 71, 109.0: 70, 104.0: 68, 99.0: 67, 112.0: 67, 106.0: 66, 110.0: 65, 114.0: 64, 108.0: 63, 117.0: 63, 111.0: 62, 118.0: 62, 115.0: 60, 121.0: 58, 123.0: 58, 116.0: 57, 120.0: 57, 125.0: 57, 128.0: 56, 119.0: 54, 122.0: 54, 133.0: 54, 143.0: 54, 124.0: 53, 127.0: 53, 130.0: 53, 126.0: 52, 132.0: 52, 129.0: 51, 131.0: 51, 136.0: 51, 137.0: 50, 142.0: 50, 134.0: 49, 141.0: 49, 145.0: 48, 144.0: 48, 147.0: 46, 146.0: 45, 135.0: 44, 139.0: 44, 138.0: 44, 140.0: 43, 148.0: 43, 149.0: 40, 152.0: 40, 153.0: 38, 154.0: 35, 157.0: 35, 150.0: 34, 156.0: 34, 151.0: 33, 162.0: 33, 163.0: 33, 155.0: 32, 164.0: 32, 169.0: 32, 167.0: 32, 160.0: 31, 158.0: 30, 183.0: 30, 159.0: 29, 166.0: 29, 161.0: 28, 174.0: 28, 173.0: 28, 176.0: 28, 179.0: 28, 181.0: 28, 168.0: 27, 170.0: 27, 175.0: 27, 187.0: 27, 165.0: 26, 172.0: 26, 182.0: 26, 180.0: 26, 185.0: 26, 171.0: 25, 188.0: 25, 186.0: 24, 184.0: 24, 177.0: 23, 178.0: 22, 189.0: 21, 193.0: 21, 195.0: 21, 197.0: 20, 199.0: 20, 192.0: 19, 190.0: 19, 194.0: 19, 196.0: 19, 206.0: 19, 205.0: 19, 201.0: 19, 208.0: 19, 191.0: 18, 203.0: 18, 202.0: 17, 198.0: 17, 214.0: 17, 217.0: 17, 218.0: 17, 210.0: 16, 204.0: 16, 212.0: 16, 233.0: 16, 200.0: 15, 207.0: 15, 213.0: 15, 216.0: 15, 219.0: 15, 234.0: 15, 223.0: 15, 211.0: 14, 222.0: 14, 238.0: 14, 215.0: 13, 209.0: 13, 235.0: 13, 229.0: 13, 228.0: 13, 241.0: 13, 230.0: 12, 225.0: 12, 224.0: 12, 231.0: 12, 246.0: 12, 245.0: 12, 243.0: 12, 232.0: 11, 226.0: 11, 237.0: 11, 236.0: 11, 220.0: 11, 244.0: 11, 227.0: 10, 221.0: 10, 250.0: 10, 240.0: 10, 249.0: 10, 248.0: 10, 254.0: 10, 252.0: 10, 239.0: 9, 256.0: 9, 259.0: 9, 242.0: 8, 253.0: 8, 260.0: 8, 258.0: 7, 257.0: 7, 255.0: 7, 251.0: 7, 272.0: 7, 269.0: 7, 264.0: 6, 289.0: 6, 283.0: 6, 277.0: 6, 247.0: 5, 261.0: 5, 273.0: 5, 271.0: 5, 270.0: 5, 265.0: 5, 288.0: 5, 280.0: 5, 276.0: 5, 266.0: 5, 287.0: 5, 274.0: 5, 262.0: 4, 263.0: 4, 286.0: 4, 282.0: 4, 268.0: 4, 290.0: 4, 284.0: 4, 301.0: 4, 300.0: 4, 297.0: 4, 296.0: 4, 294.0: 4, 285.0: 3, 279.0: 3, 267.0: 3, 299.0: 3, 295.0: 3, 291.0: 3, 278.0: 3, 307.0: 3, 304.0: 3, 281.0: 2, 293.0: 2, 292.0: 2, 275.0: 2, 308.0: 2, 306.0: 2, 305.0: 2, 303.0: 2, 302.0: 2, 298.0: 2, 312.0: 2, 311.0: 2, 310.0: 1, 335.0: 1, 334.0: 1, 332.0: 1, 331.0: 1, 330.0: 1, 328.0: 1, 327.0: 1, 324.0: 1, 323.0: 1, 322.0: 1, 319.0: 1, 318.0: 1, 317.0: 1, 315.0: 1, 314.0: 1}), 'rel_pos_count': Counter({10.0: 2052, 20.0: 2050, 40.0: 2044, 60.0: 2042, 90.0: 2040, 80.0: 2038, 30.0: 2024, 50.0: 2023, 70.0: 1984, 100.0: 1115, 0.0: 912})}\n"
     ]
    }
   ],
   "source": [
    "from utils.analysis import rational_analysis\n",
    "\n",
    "rational_distributions = rational_analysis(lm_RE, dataloader_test, greedy=False)\n",
    "print(rational_distributions)"
   ]
  },
  {
   "cell_type": "code",
   "execution_count": 6,
   "id": "801b15b1",
   "metadata": {},
   "outputs": [
    {
     "data": {
      "text/plain": [
       "[<matplotlib.lines.Line2D at 0x7fde9370d2b0>]"
      ]
     },
     "execution_count": 6,
     "metadata": {},
     "output_type": "execute_result"
    },
    {
     "data": {
      "image/png": "[encoded data removed]",
      "text/plain": [
       "<Figure size 432x288 with 1 Axes>"
      ]
     },
     "metadata": {
      "needs_background": "light"
     },
     "output_type": "display_data"
    }
   ],
   "source": [
    "import matplotlib.pyplot as plt\n",
    "relative_counts = rational_distributions[\"rel_pos_count\"]\n",
    "total = sum(relative_counts.values())\n",
    "X = [int(k) for k in relative_counts.keys()] \n",
    "Y = [r/total for r in relative_counts.values()]\n",
    "\n",
    "pairs = sorted([(x,y) for x,y in zip(X, Y)], key=lambda p: p[0])\n",
    "plt.xlabel\n",
    "X_sorted = [p[0] for p in pairs]\n",
    "Y_sorted = [p[1] for p in pairs]\n",
    "plt.xlabel(\"Relative Distance\")\n",
    "plt.ylabel(\"Percentage\")\n",
    "plt.plot(X_sorted, Y_sorted, \"\")\n"
   ]
  },
  {
   "cell_type": "code",
   "execution_count": 7,
   "id": "2d3bf898",
   "metadata": {},
   "outputs": [
    {
     "data": {
      "text/plain": [
       "<BarContainer object of 11 artists>"
      ]
     },
     "execution_count": 7,
     "metadata": {},
     "output_type": "execute_result"
    },
    {
     "data": {
      "image/png": "[encoded data removed]",
      "text/plain": [
       "<Figure size 432x288 with 1 Axes>"
      ]
     },
     "metadata": {
      "needs_background": "light"
     },
     "output_type": "display_data"
    }
   ],
   "source": [
    "plt.xlabel(\"Relative Distance\")\n",
    "plt.ylabel(\"Percentage\")\n",
    "plt.bar(X, Y)"
   ]
  },
  {
   "cell_type": "code",
   "execution_count": null,
   "id": "d5c7fe35",
   "metadata": {},
   "outputs": [],
   "source": [
    "abs_pos_count = rational_distributions[\"abs_pos_count\"]\n",
    "plt.bar(abs_pos_count.keys(),abs_pos_count.values())"
   ]
  },
  {
   "cell_type": "markdown",
   "id": "66f07bbd",
   "metadata": {},
   "source": [
    "## Analysing some examples"
   ]
  },
  {
   "cell_type": "code",
   "execution_count": 8,
   "id": "9c94f1d8",
   "metadata": {},
   "outputs": [],
   "source": [
    "examples = [\"How are you doing? [SEP]\", \"What did you do today? [SEP]\", \"How's work? [SEP]\", \"Would you like some coffee? [SEP]\"]"
   ]
  },
  {
   "cell_type": "code",
   "execution_count": 9,
   "id": "ac0492d1",
   "metadata": {},
   "outputs": [],
   "source": [
    "## First with greedy rationals\n",
    "completed_dialogues_chance = lm_RE.complete_dialogues(examples, total_length=40, greedy_rationals=False)\n",
    "completed_dialogues_greedy = lm_RE.complete_dialogues(examples, total_length=40, greedy_rationals=True)"
   ]
  },
  {
   "cell_type": "code",
   "execution_count": 10,
   "id": "6b711811",
   "metadata": {},
   "outputs": [],
   "source": [
    "from utils.analysis import pretty_print_completed_dialogues"
   ]
  },
  {
   "cell_type": "code",
   "execution_count": 11,
   "id": "3741d809",
   "metadata": {},
   "outputs": [
    {
     "name": "stdout",
     "output_type": "stream",
     "text": [
      "context ----> response\n",
      "[MASK] are you doing? [MASK] ------>  I'm very reliable. [SEP]\n",
      "[MASK] are you doing? [SEP] I'm very reliable. [MASK] ------>  Good, thanks. I know. I'm not funny? [SEP]\n",
      "[MASK] are you doing? [SEP] I'm very reliable. [SEP] Good[MASK] thanks. I know. I'm not funny? [MASK] ------>  Well, we are welcome. [SEP]\n",
      "[MASK] are you doing? [SEP] I'm very reliable. [SEP] Good[MASK] thanks. I know. I'm not funny? [MASK] Well[MASK] we are welcome. [MASK] ------>  Yes? [SEP]\n",
      "What did you do today? [MASK] ------>  What are a trick or watch this company usually do that you feel better. I'll take a lot[SEP]\n",
      "What did you do today? [SEP] What are a trick or watch[MASK] company usually do that you[MASK] better. I'll take a lot[MASK] ------>  I'm very troublesome. [SEP]\n",
      "What did you do today? [SEP] What are a trick or watch[MASK] company usually do that you[MASK] better. I'll take a lot[MASK] I'm very troublesome. [MASK] ------>  Well, we have a lot. [SEP]\n",
      "[MASK]'s[MASK]? [MASK] ------>  Yes. But the contract. I'll try to learn how much about next year. [SEP]\n",
      "[MASK]'s[MASK]? [SEP][MASK]. But the contract. I'll try to learn[MASK] much about next year. [MASK] ------>  Alright, we can I ’ t believe this. I'm sure. That's good care of[SEP]\n",
      "Would you like some coffee? [MASK] ------>  You won't know what? [SEP]\n",
      "Would you like some coffee? [SEP] You won[MASK] know what? [MASK] ------>  Alright. [SEP]\n",
      "Would you like some coffee? [SEP] You won[MASK] know what? [SEP] Alright. [MASK] ------>  Thank you can't worry. [SEP]\n",
      "Would you like some coffee? [SEP] You won[MASK] know what? [SEP] Alright. [SEP] Thank you can't worry. [MASK] ------>  I'll go! [SEP]\n",
      "Would you like some coffee? [SEP] You won[MASK] know what? [SEP] Alright. [SEP] Thank you can't worry. [SEP] I'll go! [MASK] ------>  I'm afraid not sure I'll cook things to do you, sir. I see the contract.[SEP]\n"
     ]
    }
   ],
   "source": [
    "pretty_print_completed_dialogues(completed_dialogues_greedy)"
   ]
  },
  {
   "cell_type": "code",
   "execution_count": 12,
   "id": "e1700c55",
   "metadata": {},
   "outputs": [
    {
     "name": "stdout",
     "output_type": "stream",
     "text": [
      "context ----> response\n",
      "[MASK] are[MASK] doing? [SEP] ------>  Alright. [SEP]\n",
      "How are you doing[MASK] [SEP][MASK][MASK] [SEP] ------>  Thank you think it. [SEP]\n",
      "How are you doing[MASK] [MASK] Alright. [SEP] Thank[MASK] think[MASK]. [MASK] ------>  That's the most important. See you. I'm not, and weaknesses? [SEP]\n",
      "How are you[MASK]? [MASK] Alright[MASK] [MASK] Thank you think it. [MASK] That's the most important. See you[MASK] I'm not[MASK] and weaknesses? [MASK] ------>  I'm very troublesome. [SEP]\n",
      "What did you do today[MASK] [SEP] ------>  You'll be very grateful. [SEP]\n",
      "What did you do today? [SEP] You'll[MASK] very grateful. [MASK] ------>  Well, sir. [SEP]\n",
      "What did you do today? [MASK][MASK]'ll be very grateful.[MASK][MASK] Well[MASK] sir. [SEP] ------>  Yes. [SEP]\n",
      "What did you do today? [MASK] You'll[MASK] very grateful[MASK] [SEP] Well[MASK] sir. [MASK] Yes. [MASK] ------>  I will probably because I “ we start working too much.So if I'm sure. [SEP]\n",
      "[MASK]'s work[MASK] [MASK] ------>  Yes. [SEP]\n",
      "[MASK]'s work? [SEP] Yes. [SEP] ------>  What happened to the contract. [SEP]\n",
      "[MASK]'s[MASK][MASK] [SEP] Yes. [MASK] What happened to the[MASK]. [SEP] ------>  Yes, we could have a good. I will be able to ask my advice. [SEP]\n",
      "How[MASK][MASK][MASK] [SEP][MASK]. [MASK][MASK][MASK] to[MASK] contract. [SEP][MASK][MASK] we could have[MASK] good. I will[MASK] able to ask my[MASK][MASK] [MASK] ------>  I can't believe it? [SEP]\n",
      "Would you like some coffee[MASK] [MASK] ------>  Yes. [SEP]\n",
      "Would you like some coffee? [SEP][MASK]. [SEP] ------>  I'll see you. [SEP]\n",
      "Would[MASK] like some coffee? [MASK][MASK]. [SEP][MASK]'ll see[MASK]. [SEP] ------>  That's not sure. [SEP]\n",
      "Would you like some coffee? [SEP] Yes. [SEP][MASK]'ll see[MASK][MASK] [MASK][MASK]'s[MASK][MASK]. [MASK] ------>  Alright, thanks. But it, thanks. That's not, it, sir. I'm sure[SEP]\n"
     ]
    }
   ],
   "source": [
    "pretty_print_completed_dialogues(completed_dialogues_chance)"
   ]
  },
  {
   "cell_type": "code",
   "execution_count": 13,
   "id": "406c2543",
   "metadata": {},
   "outputs": [
    {
     "data": {
      "text/plain": [
       "{'completed_dialogue': \"How are you doing? [SEP] Alright. [SEP] Thank you think it. [SEP] That's the most important. See you. I'm not, and weaknesses? [SEP] I'm very troublesome. [SEP]\",\n",
       " 'rationals': [tensor([False,  True, False,  True,  True,  True,  True]),\n",
       "  tensor([ True,  True,  True,  True, False,  True,  True, False, False,  True,\n",
       "           True]),\n",
       "  tensor([ True,  True,  True,  True, False,  True, False,  True,  True,  True,\n",
       "           True,  True, False,  True, False,  True,  True, False]),\n",
       "  tensor([ True,  True,  True, False,  True,  True, False,  True, False,  True,\n",
       "          False,  True,  True,  True,  True,  True,  True, False,  True,  True,\n",
       "           True,  True,  True,  True,  True,  True, False,  True,  True,  True,\n",
       "          False,  True,  True,  True,  True, False])],\n",
       " 'rationalized_input': ['[MASK] are[MASK] doing? [SEP]',\n",
       "  'How are you doing[MASK] [SEP][MASK][MASK] [SEP]',\n",
       "  'How are you doing[MASK] [MASK] Alright. [SEP] Thank[MASK] think[MASK]. [MASK]',\n",
       "  \"How are you[MASK]? [MASK] Alright[MASK] [MASK] Thank you think it. [MASK] That's the most important. See you[MASK] I'm not[MASK] and weaknesses? [MASK]\"],\n",
       " 'response': [' Alright. [SEP]',\n",
       "  ' Thank you think it. [SEP]',\n",
       "  \" That's the most important. See you. I'm not, and weaknesses? [SEP]\",\n",
       "  \" I'm very troublesome. [SEP]\"]}"
      ]
     },
     "execution_count": 13,
     "metadata": {},
     "output_type": "execute_result"
    }
   ],
   "source": [
    "completed_dialogues_chance[0]"
   ]
  },
  {
   "cell_type": "code",
   "execution_count": null,
   "id": "electoral-updating",
   "metadata": {},
   "outputs": [],
   "source": []
  }
 ],
 "metadata": {
  "kernelspec": {
   "display_name": "Python 3",
   "language": "python",
   "name": "python3"
  },
  "language_info": {
   "codemirror_mode": {
    "name": "ipython",
    "version": 3
   },
   "file_extension": ".py",
   "mimetype": "text/x-python",
   "name": "python",
   "nbconvert_exporter": "python",
   "pygments_lexer": "ipython3",
   "version": "3.8.5"
  }
 },
 "nbformat": 4,
 "nbformat_minor": 5
}
