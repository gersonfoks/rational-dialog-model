{
 "cells": [
  {
   "cell_type": "markdown",
   "id": "a5904cd4",
   "metadata": {},
   "source": [
    "# Analysis\n",
    "\n",
    "In this notebook we will analyse the models that we created.\n",
    "\n",
    "The analysis consists of:\n",
    "\n",
    "1) comparing the perplexity and the accuracy between the rationalized and non-rationalized model \n",
    "\n",
    "2) Checking the change in perplexity when removing even more from the rational\n",
    "\n",
    "3) Checking the distribution of rationals\n",
    "\n",
    "4) Qualitative analysis of the some examples"
   ]
  },
  {
   "cell_type": "markdown",
   "id": "263adeb9",
   "metadata": {},
   "source": [
    "## Setup"
   ]
  },
  {
   "cell_type": "code",
   "execution_count": 1,
   "id": "bcbdbf72",
   "metadata": {},
   "outputs": [],
   "source": [
    "#First we fix the relative imports\n",
    "import os\n",
    "import sys\n",
    "# M\n",
    "# module_path = os.path.abspath(os.path.join('..'))\n",
    "# if module_path not in sys.path:\n",
    "#     sys.path.append(module_path)\n",
    "    \n",
    "#Make sure we are in the top folder. \n",
    "os.chdir(os.path.join('..'))"
   ]
  },
  {
   "cell_type": "code",
   "execution_count": 2,
   "id": "b583e598",
   "metadata": {},
   "outputs": [
    {
     "name": "stderr",
     "output_type": "stream",
     "text": [
      "C:\\Users\\gerso\\projects\\rational-dialog-model\\utils\\analysis.py:24: YAMLLoadWarning: calling yaml.load() without Loader=... is deprecated, as the default Loader is unsafe. Please read https://msg.pyyaml.org/load for full details.\n",
      "  config = yaml.load(f)\n"
     ]
    },
    {
     "name": "stdout",
     "output_type": "stream",
     "text": [
      "./daily_dialog/tokenizer.json\n",
      "200\n"
     ]
    },
    {
     "name": "stderr",
     "output_type": "stream",
     "text": [
      "Using custom data configuration default\n",
      "Reusing dataset daily_dialog (C:\\Users\\gerso\\.cache\\huggingface\\datasets\\daily_dialog\\default\\1.0.0\\c03444008e9508b8b76f1f6793742d37d5e5f83364f8d573c2747bff435ea55c)\n",
      "GPU available: True, used: True\n",
      "TPU available: False, using: 0 TPU cores\n"
     ]
    },
    {
     "name": "stdout",
     "output_type": "stream",
     "text": [
      "load pretrained_model:  ./models/small_lm.pt\n",
      "load pretrained_model:  ./models/small_lm_token_random_50_rationalized.pt\n",
      "2\n"
     ]
    }
   ],
   "source": [
    "### We load the models based on the configs for analysis. \n",
    "from utils.analysis import parse_config_for_analysis\n",
    "config_path = 'configs/random_50_RE_config.yml'\n",
    "\n",
    "loaded_info = parse_config_for_analysis(config_path)\n"
   ]
  },
  {
   "cell_type": "markdown",
   "id": "4003d667",
   "metadata": {},
   "source": [
    "## Perplexity and Accuracy"
   ]
  },
  {
   "cell_type": "code",
   "execution_count": 16,
   "id": "f347d7ab",
   "metadata": {},
   "outputs": [
    {
     "name": "stdout",
     "output_type": "stream",
     "text": [
      "RandomRationalExtractor()\n"
     ]
    }
   ],
   "source": [
    "lm_RE = loaded_info[\"lightning_language_model_RE\"].to(\"cuda\")\n",
    "lm = loaded_info[\"lightning_language_model_no_RE\"].to(\"cuda\")\n",
    "tokenizer = loaded_info[\"tokenizer\"]\n",
    "dataloader_test = loaded_info[\"dataloader_test\"]\n",
    "\n"
   ]
  },
  {
   "cell_type": "code",
   "execution_count": 4,
   "id": "53bfdb09",
   "metadata": {},
   "outputs": [
    {
     "name": "stderr",
     "output_type": "stream",
     "text": [
      "  0%|                                                                                          | 0/184 [00:00<?, ?it/s]C:\\Users\\gerso\\anaconda3\\envs\\CDM\\lib\\site-packages\\torch\\nn\\_reduction.py:42: UserWarning: size_average and reduce args will be deprecated, please use reduction='none' instead.\n",
      "  warnings.warn(warning.format(ret))\n",
      "100%|███████████████████████████████████████████████████████████████████████████████| 184/184 [00:01<00:00, 135.72it/s]\n",
      "100%|███████████████████████████████████████████████████████████████████████████████| 184/184 [00:01<00:00, 170.83it/s]"
     ]
    },
    {
     "name": "stdout",
     "output_type": "stream",
     "text": [
      "{'mean_acc': {'mean': 0.3702232229052311, 'std': 0.0}, 'mean_perplexity': {'mean': 29.412856133800542, 'std': 0.0}, 'mean_mask_percentage': {'mean': 0.4986325600587079, 'std': 0.0}}\n",
      "{'mean_acc': 0.38537945775372195, 'mean_perplexity': 25.526450388929813, 'mean_mask_percentage': 0}\n"
     ]
    },
    {
     "name": "stderr",
     "output_type": "stream",
     "text": [
      "\n"
     ]
    }
   ],
   "source": [
    "### First thing we compare the perplexity and accuracy on the testset.\n",
    "from utils.analysis import get_results, get_results_RE\n",
    "\n",
    "\n",
    "lm_RE_result = get_results_RE(lm_RE, dataloader_test, 1)\n",
    "lm_result = get_results(lm, dataloader_test)\n",
    "print(lm_RE_result)\n",
    "print(lm_result)\n"
   ]
  },
  {
   "cell_type": "markdown",
   "id": "04f45998",
   "metadata": {},
   "source": [
    "## Change in perplexity"
   ]
  },
  {
   "cell_type": "code",
   "execution_count": 5,
   "id": "c532a957",
   "metadata": {},
   "outputs": [],
   "source": [
    "### Next we test what happens if we check te change in perplexity of the RE. \n",
    "# from utils.analysis import calc_change_in_perplexity_experiment\n",
    "# change_in_perplexity = calc_change_in_perplexity_experiment(lm_RE, dataloader_test, n_experiments=10, n_extra_mask=2)\n",
    "# change_in_perplexity"
   ]
  },
  {
   "cell_type": "markdown",
   "id": "87500b1b",
   "metadata": {},
   "source": [
    "## Distribution of mask"
   ]
  },
  {
   "cell_type": "code",
   "execution_count": 6,
   "id": "c9d69192",
   "metadata": {},
   "outputs": [
    {
     "name": "stdout",
     "output_type": "stream",
     "text": [
      "{'abs_average': 0.0, 'rel_average': 0.0, 'abs_pos_count': Counter({2.0: 3040, 1.0: 2988, 3.0: 2965, 6.0: 2957, 7.0: 2953, 4.0: 2950, 8.0: 2908, 5.0: 2892, 9.0: 2859, 10.0: 2829, 11.0: 2783, 13.0: 2759, 12.0: 2699, 14.0: 2698, 16.0: 2640, 19.0: 2595, 15.0: 2591, 17.0: 2531, 18.0: 2528, 20.0: 2465, 23.0: 2408, 21.0: 2406, 24.0: 2356, 25.0: 2340, 26.0: 2322, 22.0: 2319, 28.0: 2236, 27.0: 2230, 29.0: 2202, 30.0: 2177, 32.0: 2110, 31.0: 2095, 33.0: 2076, 35.0: 2058, 34.0: 2023, 38.0: 2005, 39.0: 1974, 36.0: 1966, 37.0: 1962, 41.0: 1878, 40.0: 1857, 43.0: 1804, 42.0: 1801, 44.0: 1782, 47.0: 1761, 45.0: 1760, 46.0: 1747, 48.0: 1676, 51.0: 1635, 49.0: 1630, 50.0: 1603, 52.0: 1582, 53.0: 1559, 54.0: 1537, 55.0: 1502, 56.0: 1498, 59.0: 1459, 57.0: 1457, 58.0: 1422, 60.0: 1406, 61.0: 1397, 62.0: 1375, 63.0: 1364, 64.0: 1319, 65.0: 1284, 66.0: 1279, 67.0: 1252, 68.0: 1224, 70.0: 1193, 69.0: 1173, 72.0: 1155, 73.0: 1150, 71.0: 1141, 76.0: 1129, 74.0: 1109, 75.0: 1088, 78.0: 1059, 77.0: 1050, 79.0: 1038, 81.0: 996, 80.0: 987, 82.0: 973, 83.0: 953, 84.0: 946, 85.0: 919, 86.0: 911, 87.0: 888, 89.0: 867, 88.0: 864, 90.0: 854, 94.0: 818, 91.0: 817, 93.0: 798, 92.0: 796, 96.0: 775, 97.0: 761, 95.0: 752, 100.0: 728, 99.0: 718, 101.0: 717, 98.0: 696, 103.0: 687, 102.0: 658, 107.0: 631, 106.0: 628, 108.0: 624, 105.0: 614, 104.0: 613, 110.0: 582, 109.0: 551, 111.0: 541, 112.0: 539, 114.0: 519, 113.0: 502, 117.0: 496, 115.0: 482, 118.0: 481, 116.0: 475, 120.0: 467, 119.0: 444, 121.0: 441, 122.0: 436, 124.0: 410, 123.0: 407, 125.0: 387, 127.0: 375, 129.0: 356, 126.0: 347, 130.0: 346, 128.0: 339, 131.0: 330, 133.0: 324, 132.0: 318, 136.0: 313, 135.0: 294, 134.0: 291, 137.0: 260, 138.0: 259, 140.0: 253, 139.0: 252, 141.0: 249, 143.0: 234, 142.0: 227, 144.0: 213, 145.0: 208, 146.0: 200, 148.0: 182, 150.0: 181, 151.0: 180, 152.0: 175, 149.0: 173, 147.0: 168, 154.0: 158, 153.0: 154, 155.0: 144, 156.0: 134, 157.0: 127, 158.0: 125, 159.0: 121, 161.0: 118, 163.0: 113, 160.0: 106, 164.0: 99, 162.0: 98, 165.0: 93, 166.0: 77, 168.0: 74, 167.0: 71, 169.0: 66, 170.0: 60, 174.0: 47, 171.0: 45, 172.0: 44, 173.0: 43, 175.0: 37, 176.0: 35, 177.0: 28, 179.0: 25, 180.0: 25, 181.0: 22, 178.0: 20, 182.0: 20, 183.0: 13, 184.0: 13, 185.0: 12, 186.0: 8, 188.0: 8, 187.0: 6, 190.0: 6, 189.0: 4, 191.0: 2, 192.0: 1, 195.0: 1, 193.0: 1}), 'rel_pos_count': Counter({20.0: 19921, 80.0: 19786, 40.0: 19673, 60.0: 19514, 10.0: 19416, 50.0: 19283, 90.0: 19179, 30.0: 19086, 70.0: 19012, 100.0: 11324, 0.0: 8436})}\n"
     ]
    }
   ],
   "source": [
    "from utils.analysis import rational_analysis\n",
    "\n",
    "rational_distributions = rational_analysis(lm_RE, dataloader_test, greedy=False)\n",
    "print(rational_distributions)"
   ]
  },
  {
   "cell_type": "code",
   "execution_count": 7,
   "id": "801b15b1",
   "metadata": {},
   "outputs": [
    {
     "data": {
      "text/plain": [
       "[<matplotlib.lines.Line2D at 0x244ba217ef0>]"
      ]
     },
     "execution_count": 7,
     "metadata": {},
     "output_type": "execute_result"
    },
    {
     "data": {
      "image/png": "[encoded data removed]",
      "text/plain": [
       "<Figure size 432x288 with 1 Axes>"
      ]
     },
     "metadata": {
      "needs_background": "light"
     },
     "output_type": "display_data"
    }
   ],
   "source": [
    "import matplotlib.pyplot as plt\n",
    "relative_counts = rational_distributions[\"rel_pos_count\"]\n",
    "total = sum(relative_counts.values())\n",
    "X = [int(k) for k in relative_counts.keys()] \n",
    "Y = [r/total for r in relative_counts.values()]\n",
    "\n",
    "pairs = sorted([(x,y) for x,y in zip(X, Y)], key=lambda p: p[0])\n",
    "plt.xlabel\n",
    "X_sorted = [p[0] for p in pairs]\n",
    "Y_sorted = [p[1] for p in pairs]\n",
    "plt.xlabel(\"Relative Distance\")\n",
    "plt.ylabel(\"Percentage\")\n",
    "plt.plot(X_sorted, Y_sorted, \"\")\n"
   ]
  },
  {
   "cell_type": "code",
   "execution_count": 8,
   "id": "2d3bf898",
   "metadata": {},
   "outputs": [
    {
     "data": {
      "text/plain": [
       "<BarContainer object of 11 artists>"
      ]
     },
     "execution_count": 8,
     "metadata": {},
     "output_type": "execute_result"
    },
    {
     "data": {
      "image/png": "[encoded data removed]",
      "text/plain": [
       "<Figure size 432x288 with 1 Axes>"
      ]
     },
     "metadata": {
      "needs_background": "light"
     },
     "output_type": "display_data"
    }
   ],
   "source": [
    "plt.xlabel(\"Relative Distance\")\n",
    "plt.ylabel(\"Percentage\")\n",
    "plt.bar(X, Y)"
   ]
  },
  {
   "cell_type": "code",
   "execution_count": 9,
   "id": "d5c7fe35",
   "metadata": {},
   "outputs": [
    {
     "data": {
      "text/plain": [
       "<BarContainer object of 194 artists>"
      ]
     },
     "execution_count": 9,
     "metadata": {},
     "output_type": "execute_result"
    },
    {
     "data": {
      "image/png": "[encoded data removed]",
      "text/plain": [
       "<Figure size 432x288 with 1 Axes>"
      ]
     },
     "metadata": {
      "needs_background": "light"
     },
     "output_type": "display_data"
    }
   ],
   "source": [
    "abs_pos_count = rational_distributions[\"abs_pos_count\"]\n",
    "plt.bar(abs_pos_count.keys(),abs_pos_count.values())"
   ]
  },
  {
   "cell_type": "markdown",
   "id": "66f07bbd",
   "metadata": {},
   "source": [
    "## Analysing some examples"
   ]
  },
  {
   "cell_type": "code",
   "execution_count": 10,
   "id": "9c94f1d8",
   "metadata": {},
   "outputs": [],
   "source": [
    "examples = [\"How are you doing? [SEP]\", \"What did you do today? [SEP]\", \"How's work? [SEP]\", \"Would you like some coffee? [SEP]\"]"
   ]
  },
  {
   "cell_type": "code",
   "execution_count": 11,
   "id": "ac0492d1",
   "metadata": {},
   "outputs": [],
   "source": [
    "## First with greedy rationals\n",
    "completed_dialogues_chance = lm_RE.complete_dialogues(examples, total_length=40, greedy_rationals=False)\n",
    "completed_dialogues_greedy = lm_RE.complete_dialogues(examples, total_length=40, greedy_rationals=True)"
   ]
  },
  {
   "cell_type": "code",
   "execution_count": 12,
   "id": "6b711811",
   "metadata": {},
   "outputs": [],
   "source": [
    "from utils.analysis import pretty_print_completed_dialogues"
   ]
  },
  {
   "cell_type": "code",
   "execution_count": 13,
   "id": "3741d809",
   "metadata": {},
   "outputs": [
    {
     "name": "stdout",
     "output_type": "stream",
     "text": [
      "context ----> response\n",
      "[MASK] are [MASK] [MASK] ? [MASK] ------> yes . i ' m a bit too busy . [SEP]\n",
      "[MASK] [MASK] [MASK] [MASK] [MASK] [MASK] [MASK] [MASK] i [MASK] [MASK] a bit too busy . [SEP] ------> how much do you need ? [SEP]\n",
      "how [MASK] you doing ? [SEP] [MASK] [MASK] i [MASK] m [MASK] bit too busy [MASK] [SEP] how much do you need ? [MASK] ------> i want to make a book to help you with that . [SEP]\n",
      "how [MASK] you doing [MASK] [SEP] yes [MASK] [MASK] [MASK] m a [MASK] too [MASK] [MASK] [MASK] [MASK] much do you [MASK] ? [MASK] [MASK] want to make a book to [MASK] [MASK] with that [MASK] [SEP] ------> why ? [SEP]\n",
      "what [MASK] [MASK] [MASK] [MASK] [MASK] [SEP] ------> my grand ##mo ##ther ##s ! [SEP]\n",
      "what did [MASK] do [MASK] [MASK] [MASK] my grandmo [MASK]s [MASK] [SEP] ------> why don ' t you take a lot ? [SEP]\n",
      "what did [MASK] do [MASK] ? [SEP] [MASK] [MASK] [MASK]thers [MASK] [MASK] [MASK] don ' [MASK] you take [MASK] [MASK] ? [SEP] ------> i ' ll try to meet him . [SEP]\n",
      "[MASK] did [MASK] do today [MASK] [SEP] my [MASK] [MASK] [MASK] [MASK] [MASK] [MASK] [MASK] [MASK] ' t [MASK] take [MASK] [MASK] [MASK] [MASK] i [MASK] ll try to [MASK] [MASK] [MASK] [SEP] ------> how about this one ? [SEP]\n",
      "[MASK] did [MASK] [MASK] today ? [SEP] [MASK] grand [MASK]ther [MASK] [MASK] [SEP] [MASK] don [MASK] [MASK] [MASK] [MASK] a [MASK] [MASK] [SEP] [MASK] [MASK] ll [MASK] [MASK] meet him . [MASK] how [MASK] this [MASK] [MASK] [SEP] ------> well , i ' m not sure , let ' s go to a new house . [SEP]\n",
      "[MASK] [MASK] [MASK] [MASK] [MASK] [SEP] ------> i would like to book a reservation . i just can ' t find that you want to have a [SEP]\n",
      "[MASK] ' [MASK] [MASK] [MASK] [MASK] [MASK] [MASK] like to [MASK] [MASK] reservation [MASK] [MASK] [MASK] can ' [MASK] find [MASK] [MASK] [MASK] [MASK] [MASK] [MASK] [MASK] ------> yes , sir . [SEP]\n",
      "[MASK] [MASK] [MASK] work ? [SEP] i would [MASK] [MASK] [MASK] [MASK] [MASK] [MASK] i [MASK] [MASK] [MASK] [MASK] [MASK] that [MASK] want to [MASK] a [SEP] yes , sir . [MASK] ------> what kind of job do you want me to do ? are you interested in this job ? [SEP]\n",
      "would [MASK] like [MASK] coffee [MASK] [SEP] ------> no problem . [SEP]\n",
      "[MASK] you [MASK] [MASK] coffee ? [SEP] [MASK] [MASK] [MASK] [MASK] ------> what would you do for work ? [SEP]\n",
      "[MASK] [MASK] like [MASK] coffee [MASK] [SEP] [MASK] [MASK] . [SEP] what [MASK] you do for work ? [SEP] ------> i ' ll be here about ten and get a lot in the kitchen . [SEP]\n",
      "[MASK] you [MASK] some coffee [MASK] [SEP] no [MASK] . [SEP] [MASK] [MASK] you [MASK] for [MASK] ? [MASK] i ' ll [MASK] here [MASK] [MASK] [MASK] get [MASK] lot in [MASK] [MASK] . [MASK] ------> how much would you like ? [SEP]\n"
     ]
    }
   ],
   "source": [
    "pretty_print_completed_dialogues(completed_dialogues_greedy)"
   ]
  },
  {
   "cell_type": "code",
   "execution_count": 14,
   "id": "e1700c55",
   "metadata": {},
   "outputs": [
    {
     "name": "stdout",
     "output_type": "stream",
     "text": [
      "context ----> response\n",
      "how are [MASK] doing [MASK] [SEP] ------> fine , thanks . i am afraid of my friend . [SEP]\n",
      "how [MASK] you [MASK] ? [SEP] fine , [MASK] [MASK] i [MASK] [MASK] [MASK] my friend . [SEP] ------> what ' s that ? [SEP]\n",
      "how [MASK] you [MASK] ? [SEP] [MASK] [MASK] [MASK] . i [MASK] [MASK] of [MASK] [MASK] [MASK] [MASK] [MASK] ' [MASK] [MASK] [MASK] [SEP] ------> what do you think of it ? [SEP]\n",
      "how [MASK] you [MASK] [MASK] [MASK] [MASK] [MASK] [MASK] . [MASK] [MASK] [MASK] of my friend [MASK] [MASK] what [MASK] s [MASK] ? [SEP] [MASK] do [MASK] [MASK] [MASK] [MASK] [MASK] [SEP] ------> that ' s right . [SEP]\n",
      "how are [MASK] [MASK] ? [SEP] [MASK] , [MASK] . i [MASK] afraid [MASK] my [MASK] [MASK] [MASK] [MASK] ' s that ? [SEP] [MASK] do you think [MASK] [MASK] ? [SEP] [MASK] ' s [MASK] [MASK] [SEP] ------> i see . [SEP]\n",
      "[MASK] did [MASK] [MASK] today [MASK] [SEP] ------> i have to tell you a lot , i ' m not interested in a long day , but what [SEP]\n",
      "what [MASK] you [MASK] today ? [MASK] i have [MASK] [MASK] you [MASK] lot , i ' m [MASK] interested [MASK] [MASK] long [MASK] [MASK] [MASK] [MASK] [SEP] ------> what kind of things did you learn from ? [SEP]\n",
      "what did [MASK] do today [MASK] [SEP] [MASK] [MASK] [MASK] [MASK] [MASK] a [MASK] [MASK] [MASK] ' m [MASK] [MASK] in [MASK] long day , [MASK] [MASK] [MASK] [MASK] kind of things did [MASK] learn [MASK] [MASK] [MASK] ------> i know that you can do anything for you , because i was bor ##n at all . [SEP]\n",
      "[MASK] [MASK] [MASK] [MASK] ? [SEP] ------> yes , i ’ m looking about that , but what are you talking about ? [SEP]\n",
      "how ' s work [MASK] [SEP] yes , [MASK] ’ m looking about that [MASK] [MASK] what are [MASK] [MASK] [MASK] [MASK] [SEP] ------> a lot of work to me , but they have been good . [SEP]\n",
      "how [MASK] s work [MASK] [MASK] [MASK] , [MASK] ’ m [MASK] [MASK] that [MASK] but what are you talking [MASK] [MASK] [SEP] [MASK] lot [MASK] work to [MASK] [MASK] [MASK] [MASK] have been [MASK] [MASK] [SEP] ------> why don ’ t you tell me ? [SEP]\n",
      "would [MASK] [MASK] some coffee [MASK] [MASK] ------> do you want something in particular do you want to take this letter to your computer ? [SEP]\n",
      "[MASK] [MASK] like [MASK] [MASK] ? [SEP] do you want [MASK] in [MASK] [MASK] you [MASK] [MASK] take [MASK] [MASK] to your computer [MASK] [MASK] ------> why did she get ? [SEP]\n",
      "[MASK] you [MASK] [MASK] coffee [MASK] [SEP] [MASK] [MASK] [MASK] [MASK] [MASK] [MASK] [MASK] [MASK] want to take [MASK] letter to [MASK] computer ? [MASK] why did she get [MASK] [MASK] ------> it was too serious . [SEP]\n",
      "would [MASK] [MASK] [MASK] coffee [MASK] [MASK] [MASK] you want something [MASK] particular do you want [MASK] take [MASK] letter to your computer ? [MASK] why [MASK] she [MASK] [MASK] [SEP] it was [MASK] serious [MASK] [MASK] ------> what did the teacher say ? [SEP]\n"
     ]
    }
   ],
   "source": [
    "pretty_print_completed_dialogues(completed_dialogues_chance)"
   ]
  },
  {
   "cell_type": "code",
   "execution_count": 15,
   "id": "406c2543",
   "metadata": {},
   "outputs": [
    {
     "data": {
      "text/plain": [
       "{'completed_dialogue': \"how are you doing ? [SEP] fine , thanks . i am afraid of my friend . [SEP] what ' s that ? [SEP] what do you think of it ? [SEP] that ' s right . [SEP] i see . [SEP]\",\n",
       " 'rationals': [tensor([ True,  True, False,  True, False,  True], device='cuda:0'),\n",
       "  tensor([ True, False,  True, False,  True,  True,  True,  True, False, False,\n",
       "           True, False, False, False,  True,  True,  True,  True],\n",
       "         device='cuda:0'),\n",
       "  tensor([ True, False,  True, False,  True,  True, False, False, False,  True,\n",
       "           True, False, False,  True, False, False, False, False, False,  True,\n",
       "          False, False, False,  True], device='cuda:0'),\n",
       "  tensor([ True, False,  True, False, False, False, False, False, False,  True,\n",
       "          False, False, False,  True,  True,  True, False, False,  True, False,\n",
       "           True, False,  True,  True, False,  True, False, False, False, False,\n",
       "          False,  True], device='cuda:0'),\n",
       "  tensor([ True,  True, False, False,  True,  True, False,  True, False,  True,\n",
       "           True, False,  True, False,  True, False, False, False, False,  True,\n",
       "           True,  True,  True,  True, False,  True,  True,  True, False, False,\n",
       "           True,  True, False,  True,  True, False, False,  True],\n",
       "         device='cuda:0')],\n",
       " 'rationalized_input': ['how are [MASK] doing [MASK] [SEP]',\n",
       "  'how [MASK] you [MASK] ? [SEP] fine , [MASK] [MASK] i [MASK] [MASK] [MASK] my friend . [SEP]',\n",
       "  \"how [MASK] you [MASK] ? [SEP] [MASK] [MASK] [MASK] . i [MASK] [MASK] of [MASK] [MASK] [MASK] [MASK] [MASK] ' [MASK] [MASK] [MASK] [SEP]\",\n",
       "  'how [MASK] you [MASK] [MASK] [MASK] [MASK] [MASK] [MASK] . [MASK] [MASK] [MASK] of my friend [MASK] [MASK] what [MASK] s [MASK] ? [SEP] [MASK] do [MASK] [MASK] [MASK] [MASK] [MASK] [SEP]',\n",
       "  \"how are [MASK] [MASK] ? [SEP] [MASK] , [MASK] . i [MASK] afraid [MASK] my [MASK] [MASK] [MASK] [MASK] ' s that ? [SEP] [MASK] do you think [MASK] [MASK] ? [SEP] [MASK] ' s [MASK] [MASK] [SEP]\"],\n",
       " 'response': ['fine , thanks . i am afraid of my friend . [SEP]',\n",
       "  \"what ' s that ? [SEP]\",\n",
       "  'what do you think of it ? [SEP]',\n",
       "  \"that ' s right . [SEP]\",\n",
       "  'i see . [SEP]']}"
      ]
     },
     "execution_count": 15,
     "metadata": {},
     "output_type": "execute_result"
    }
   ],
   "source": [
    "completed_dialogues_chance[0]"
   ]
  },
  {
   "cell_type": "code",
   "execution_count": null,
   "id": "40ead8b3",
   "metadata": {},
   "outputs": [],
   "source": []
  }
 ],
 "metadata": {
  "kernelspec": {
   "display_name": "Python 3",
   "language": "python",
   "name": "python3"
  },
  "language_info": {
   "codemirror_mode": {
    "name": "ipython",
    "version": 3
   },
   "file_extension": ".py",
   "mimetype": "text/x-python",
   "name": "python",
   "nbconvert_exporter": "python",
   "pygments_lexer": "ipython3",
   "version": "3.6.13"
  }
 },
 "nbformat": 4,
 "nbformat_minor": 5
}
