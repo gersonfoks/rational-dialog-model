{
 "cells": [
  {
   "cell_type": "markdown",
   "id": "a5904cd4",
   "metadata": {},
   "source": [
    "# Analysis\n",
    "\n",
    "In this notebook we will analyse the models that we created.\n",
    "\n",
    "The analysis consists of:\n",
    "\n",
    "1) comparing the perplexity and the accuracy between the rationalized and non-rationalized model \n",
    "\n",
    "2) Checking the change in perplexity when removing even more from the rational\n",
    "\n",
    "3) Checking the distribution of rationals\n",
    "\n",
    "4) Qualitative analysis of the some examples"
   ]
  },
  {
   "cell_type": "markdown",
   "id": "263adeb9",
   "metadata": {},
   "source": [
    "## Setup"
   ]
  },
  {
   "cell_type": "code",
   "execution_count": 1,
   "id": "bcbdbf72",
   "metadata": {},
   "outputs": [],
   "source": [
    "#First we fix the relative imports\n",
    "import os\n",
    "import sys\n",
    "# M\n",
    "# module_path = os.path.abspath(os.path.join('..'))\n",
    "# if module_path not in sys.path:\n",
    "#     sys.path.append(module_path)\n",
    "    \n",
    "#Make sure we are in the top folder. \n",
    "os.chdir(os.path.join('..'))"
   ]
  },
  {
   "cell_type": "code",
   "execution_count": 2,
   "id": "b583e598",
   "metadata": {},
   "outputs": [
    {
     "name": "stderr",
     "output_type": "stream",
     "text": [
      "C:\\Users\\gerso\\projects\\rational-dialog-model\\utils\\analysis.py:24: YAMLLoadWarning: calling yaml.load() without Loader=... is deprecated, as the default Loader is unsafe. Please read https://msg.pyyaml.org/load for full details.\n",
      "  config = yaml.load(f)\n"
     ]
    },
    {
     "name": "stdout",
     "output_type": "stream",
     "text": [
      "./daily_dialog/tokenizer.json\n"
     ]
    },
    {
     "name": "stderr",
     "output_type": "stream",
     "text": [
      "Using custom data configuration default\n",
      "Reusing dataset daily_dialog (C:\\Users\\gerso\\.cache\\huggingface\\datasets\\daily_dialog\\default\\1.0.0\\c03444008e9508b8b76f1f6793742d37d5e5f83364f8d573c2747bff435ea55c)\n",
      "Using custom data configuration default\n",
      "Reusing dataset daily_dialog (C:\\Users\\gerso\\.cache\\huggingface\\datasets\\daily_dialog\\default\\1.0.0\\c03444008e9508b8b76f1f6793742d37d5e5f83364f8d573c2747bff435ea55c)\n",
      "GPU available: True, used: True\n",
      "TPU available: False, using: 0 TPU cores\n"
     ]
    },
    {
     "name": "stdout",
     "output_type": "stream",
     "text": [
      "load pretrained_model:  ./models/small_lm.pt\n",
      "load pretrained_model:  ./models/small_lm_token_rationalized.pt\n",
      "2\n"
     ]
    }
   ],
   "source": [
    "### We load the models based on the configs for analysis. \n",
    "from utils.analysis import parse_config_for_analysis\n",
    "config_path = 'configs/simple_RE_config.yml'\n",
    "\n",
    "loaded_info = parse_config_for_analysis(config_path)\n"
   ]
  },
  {
   "cell_type": "markdown",
   "id": "4003d667",
   "metadata": {},
   "source": [
    "## Perplexity and Accuracy"
   ]
  },
  {
   "cell_type": "code",
   "execution_count": 3,
   "id": "f347d7ab",
   "metadata": {},
   "outputs": [],
   "source": [
    "lm_RE = loaded_info[\"lightning_language_model_RE\"].to(\"cpu\")\n",
    "lm = loaded_info[\"lightning_language_model_no_RE\"].to(\"cpu\")\n",
    "tokenizer = loaded_info[\"tokenizer\"]\n",
    "dataloader_test = loaded_info[\"dataloader_test\"]\n",
    "\n"
   ]
  },
  {
   "cell_type": "code",
   "execution_count": 4,
   "id": "53bfdb09",
   "metadata": {},
   "outputs": [
    {
     "name": "stderr",
     "output_type": "stream",
     "text": [
      "  0%|                                                                                            | 0/5 [00:00<?, ?it/s]C:\\Users\\gerso\\anaconda3\\envs\\CDM\\lib\\site-packages\\torch\\nn\\_reduction.py:42: UserWarning: size_average and reduce args will be deprecated, please use reduction='none' instead.\n",
      "  warnings.warn(warning.format(ret))\n",
      "100%|████████████████████████████████████████████████████████████████████████████████████| 5/5 [00:01<00:00,  4.92it/s]\n",
      "100%|████████████████████████████████████████████████████████████████████████████████████| 5/5 [00:00<00:00,  5.29it/s]\n",
      "100%|████████████████████████████████████████████████████████████████████████████████████| 5/5 [00:00<00:00,  5.27it/s]\n",
      "100%|████████████████████████████████████████████████████████████████████████████████████| 5/5 [00:00<00:00,  5.70it/s]\n",
      "100%|████████████████████████████████████████████████████████████████████████████████████| 5/5 [00:00<00:00,  5.47it/s]\n",
      "100%|████████████████████████████████████████████████████████████████████████████████████| 5/5 [00:00<00:00,  5.50it/s]"
     ]
    },
    {
     "name": "stdout",
     "output_type": "stream",
     "text": [
      "{'mean_acc': {'mean': 0.3112134993076324, 'std': 0.002115962209951692}, 'mean_perplexity': {'mean': 42.02018585205078, 'std': 0.16134313884489157}, 'mean_mask_percentage': {'mean': 0.31423174142837523, 'std': 0.004154719309316542}}\n",
      "{'mean_acc': tensor(0.3431), 'mean_perplexity': tensor(35.3273, grad_fn=<AddBackward0>), 'mean_mask_percentage': 0}\n"
     ]
    },
    {
     "name": "stderr",
     "output_type": "stream",
     "text": [
      "\n"
     ]
    }
   ],
   "source": [
    "### First thing we compare the perplexity and accuracy on the testset.\n",
    "from utils.analysis import get_results, get_results_RE\n",
    "\n",
    "\n",
    "lm_RE_result = get_results_RE(lm_RE, dataloader_test, 5)\n",
    "lm_result = get_results(lm, dataloader_test)\n",
    "print(lm_RE_result)\n",
    "print(lm_result)\n"
   ]
  },
  {
   "cell_type": "markdown",
   "id": "04f45998",
   "metadata": {},
   "source": [
    "## Change in perplexity"
   ]
  },
  {
   "cell_type": "code",
   "execution_count": 6,
   "id": "c532a957",
   "metadata": {},
   "outputs": [
    {
     "data": {
      "text/plain": [
       "{'mean_diff_perplexity': {'mean': -0.00516101773828268,\n",
       "  'std': 0.04142350366214291}}"
      ]
     },
     "execution_count": 6,
     "metadata": {},
     "output_type": "execute_result"
    }
   ],
   "source": [
    "### Next we test what happens if we check te change in perplexity of the RE. \n",
    "from utils.analysis import calc_change_in_perplexity_experiment\n",
    "change_in_perplexity = calc_change_in_perplexity_experiment(lm_RE, dataloader_test, n_experiments=10, n_extra_mask=2)\n",
    "change_in_perplexity"
   ]
  },
  {
   "cell_type": "markdown",
   "id": "87500b1b",
   "metadata": {},
   "source": [
    "## Distribution of mask"
   ]
  },
  {
   "cell_type": "code",
   "execution_count": 7,
   "id": "c9d69192",
   "metadata": {},
   "outputs": [
    {
     "name": "stdout",
     "output_type": "stream",
     "text": [
      "{'abs_average': tensor(63.5423), 'rel_average': tensor(0.5159), 'abs_pos_count': Counter({0.0: 4441, 1.0: 131, 2.0: 127, 21.0: 119, 13.0: 116, 20.0: 114, 10.0: 114, 22.0: 114, 28.0: 112, 19.0: 112, 18.0: 112, 16.0: 112, 12.0: 112, 14.0: 111, 11.0: 110, 17.0: 109, 29.0: 109, 25.0: 109, 15.0: 108, 7.0: 107, 24.0: 107, 23.0: 105, 6.0: 105, 26.0: 103, 4.0: 103, 3.0: 101, 27.0: 100, 9.0: 99, 5.0: 99, 48.0: 94, 46.0: 94, 36.0: 94, 58.0: 94, 60.0: 93, 8.0: 92, 44.0: 92, 42.0: 92, 39.0: 92, 45.0: 91, 33.0: 91, 30.0: 91, 38.0: 91, 61.0: 90, 55.0: 89, 50.0: 89, 49.0: 89, 47.0: 89, 41.0: 88, 40.0: 86, 35.0: 86, 31.0: 86, 51.0: 85, 37.0: 85, 43.0: 85, 59.0: 84, 54.0: 84, 52.0: 84, 32.0: 84, 57.0: 84, 53.0: 83, 34.0: 83, 56.0: 81, 72.0: 73, 68.0: 72, 95.0: 71, 97.0: 70, 65.0: 70, 106.0: 69, 87.0: 69, 93.0: 69, 105.0: 68, 98.0: 68, 90.0: 68, 88.0: 68, 66.0: 68, 80.0: 68, 73.0: 68, 94.0: 67, 85.0: 67, 107.0: 66, 81.0: 66, 79.0: 66, 78.0: 66, 71.0: 66, 96.0: 65, 92.0: 65, 91.0: 65, 104.0: 65, 83.0: 65, 70.0: 65, 100.0: 65, 89.0: 64, 77.0: 64, 64.0: 64, 62.0: 64, 74.0: 64, 108.0: 63, 69.0: 63, 101.0: 62, 86.0: 62, 82.0: 62, 84.0: 62, 99.0: 60, 76.0: 59, 63.0: 59, 67.0: 58, 75.0: 57, 103.0: 57, 102.0: 54, 172.0: 48, 161.0: 48, 171.0: 47, 180.0: 46, 145.0: 46, 122.0: 46, 166.0: 46, 170.0: 45, 153.0: 45, 136.0: 45, 113.0: 45, 181.0: 44, 175.0: 44, 173.0: 44, 165.0: 44, 151.0: 44, 135.0: 44, 125.0: 44, 124.0: 44, 164.0: 43, 146.0: 43, 121.0: 43, 118.0: 43, 114.0: 43, 109.0: 43, 152.0: 43, 178.0: 42, 163.0: 42, 158.0: 42, 157.0: 42, 148.0: 42, 183.0: 42, 155.0: 42, 182.0: 41, 176.0: 41, 169.0: 41, 147.0: 41, 133.0: 41, 149.0: 41, 119.0: 41, 177.0: 40, 174.0: 40, 159.0: 40, 154.0: 40, 150.0: 40, 144.0: 40, 141.0: 40, 140.0: 40, 134.0: 40, 126.0: 40, 137.0: 40, 184.0: 40, 162.0: 39, 142.0: 39, 111.0: 39, 185.0: 39, 139.0: 39, 132.0: 39, 120.0: 39, 143.0: 38, 138.0: 38, 131.0: 38, 128.0: 38, 116.0: 38, 168.0: 38, 117.0: 38, 115.0: 38, 129.0: 38, 167.0: 37, 156.0: 37, 130.0: 37, 110.0: 37, 160.0: 37, 179.0: 37, 123.0: 35, 112.0: 35, 127.0: 34, 253.0: 20, 272.0: 19, 264.0: 19, 259.0: 19, 241.0: 19, 240.0: 19, 238.0: 19, 227.0: 19, 226.0: 19, 225.0: 19, 211.0: 19, 209.0: 19, 207.0: 19, 198.0: 19, 188.0: 19, 286.0: 19, 277.0: 19, 263.0: 19, 223.0: 19, 292.0: 18, 290.0: 18, 274.0: 18, 270.0: 18, 262.0: 18, 233.0: 18, 231.0: 18, 229.0: 18, 210.0: 18, 199.0: 18, 197.0: 18, 195.0: 18, 287.0: 17, 285.0: 17, 281.0: 17, 271.0: 17, 269.0: 17, 266.0: 17, 261.0: 17, 255.0: 17, 254.0: 17, 230.0: 17, 220.0: 17, 215.0: 17, 212.0: 17, 201.0: 17, 190.0: 17, 189.0: 17, 186.0: 17, 276.0: 17, 273.0: 17, 216.0: 17, 278.0: 16, 268.0: 16, 257.0: 16, 256.0: 16, 252.0: 16, 251.0: 16, 247.0: 16, 245.0: 16, 242.0: 16, 239.0: 16, 236.0: 16, 234.0: 16, 218.0: 16, 213.0: 16, 208.0: 16, 205.0: 16, 202.0: 16, 194.0: 16, 250.0: 16, 243.0: 16, 204.0: 16, 193.0: 16, 284.0: 16, 275.0: 15, 260.0: 15, 258.0: 15, 246.0: 15, 244.0: 15, 196.0: 15, 289.0: 15, 288.0: 15, 265.0: 15, 203.0: 15, 237.0: 15, 282.0: 14, 248.0: 14, 235.0: 14, 232.0: 14, 224.0: 14, 222.0: 14, 219.0: 14, 187.0: 14, 279.0: 14, 200.0: 14, 293.0: 14, 291.0: 14, 191.0: 14, 249.0: 14, 280.0: 13, 267.0: 13, 214.0: 13, 206.0: 13, 221.0: 13, 228.0: 12, 283.0: 11, 217.0: 10, 192.0: 10}), 'rel_pos_count': Counter({0.0: 5091, 80.0: 1494, 90.0: 1486, 60.0: 1422, 70.0: 1418, 20.0: 1397, 40.0: 1382, 50.0: 1351, 30.0: 1307, 10.0: 1281, 100.0: 780})}\n"
     ]
    }
   ],
   "source": [
    "from utils.analysis import rational_analysis\n",
    "\n",
    "rational_distributions = rational_analysis(lm_RE, dataloader_test)\n",
    "print(rational_distributions)"
   ]
  },
  {
   "cell_type": "code",
   "execution_count": 27,
   "id": "801b15b1",
   "metadata": {},
   "outputs": [
    {
     "data": {
      "text/plain": [
       "[<matplotlib.lines.Line2D at 0x1b12316eda0>]"
      ]
     },
     "execution_count": 27,
     "metadata": {},
     "output_type": "execute_result"
    },
    {
     "data": {
      "image/png": "[encoded data removed]",
      "text/plain": [
       "<Figure size 432x288 with 1 Axes>"
      ]
     },
     "metadata": {
      "needs_background": "light"
     },
     "output_type": "display_data"
    }
   ],
   "source": [
    "import matplotlib.pyplot as plt\n",
    "relative_counts = rational_distributions[\"rel_pos_count\"]\n",
    "total = sum(relative_counts.values())\n",
    "X = [int(k) for k in relative_counts.keys()] \n",
    "Y = [r/total for r in relative_counts.values()]\n",
    "\n",
    "pairs = sorted([(x,y) for x,y in zip(X, Y)], key=lambda p: p[0])\n",
    "plt.xlabel\n",
    "X_sorted = [p[0] for p in pairs]\n",
    "Y_sorted = [p[1] for p in pairs]\n",
    "plt.xlabel(\"Relative Distance\")\n",
    "plt.ylabel(\"Percentage\")\n",
    "plt.plot(X_sorted, Y_sorted, \"\")\n"
   ]
  },
  {
   "cell_type": "code",
   "execution_count": 29,
   "id": "2d3bf898",
   "metadata": {},
   "outputs": [
    {
     "data": {
      "text/plain": [
       "<BarContainer object of 11 artists>"
      ]
     },
     "execution_count": 29,
     "metadata": {},
     "output_type": "execute_result"
    },
    {
     "data": {
      "image/png": "[encoded data removed]",
      "text/plain": [
       "<Figure size 432x288 with 1 Axes>"
      ]
     },
     "metadata": {
      "needs_background": "light"
     },
     "output_type": "display_data"
    }
   ],
   "source": [
    "plt.xlabel(\"Relative Distance\")\n",
    "plt.ylabel(\"Percentage\")\n",
    "plt.bar(X, Y)"
   ]
  },
  {
   "cell_type": "code",
   "execution_count": 9,
   "id": "d5c7fe35",
   "metadata": {},
   "outputs": [
    {
     "data": {
      "text/plain": [
       "<BarContainer object of 294 artists>"
      ]
     },
     "execution_count": 9,
     "metadata": {},
     "output_type": "execute_result"
    },
    {
     "data": {
      "image/png": "[encoded data removed]",
      "text/plain": [
       "<Figure size 432x288 with 1 Axes>"
      ]
     },
     "metadata": {
      "needs_background": "light"
     },
     "output_type": "display_data"
    }
   ],
   "source": [
    "abs_pos_count = rational_distributions[\"abs_pos_count\"]\n",
    "plt.plt(abs_pos_count.keys(),abs_pos_count.values())"
   ]
  },
  {
   "cell_type": "markdown",
   "id": "66f07bbd",
   "metadata": {},
   "source": [
    "## Analysing some examples"
   ]
  },
  {
   "cell_type": "code",
   "execution_count": 30,
   "id": "9c94f1d8",
   "metadata": {},
   "outputs": [],
   "source": [
    "examples = [\"How are you doing?\", \"What did you do today?\", \"How's work?\", \"Would you like some coffee?\"]"
   ]
  },
  {
   "cell_type": "code",
   "execution_count": 31,
   "id": "ac0492d1",
   "metadata": {},
   "outputs": [],
   "source": [
    "## First with greedy rationals\n",
    "completed_dialogues_chance = lm_RE.complete_dialogues(examples, total_length=40, greedy_rationals=False)\n",
    "completed_dialogues_greedy = lm_RE.complete_dialogues(examples, total_length=40, greedy_rationals=True)"
   ]
  },
  {
   "cell_type": "code",
   "execution_count": 32,
   "id": "6b711811",
   "metadata": {},
   "outputs": [],
   "source": [
    "from utils.analysis import pretty_print_completed_dialogues"
   ]
  },
  {
   "cell_type": "code",
   "execution_count": 33,
   "id": "3741d809",
   "metadata": {},
   "outputs": [
    {
     "name": "stdout",
     "output_type": "stream",
     "text": [
      "context ----> response\n",
      "[MASK] [MASK] [MASK] [MASK] [MASK] ------> yes , of course . you know , the company is very good and to be honest . and the [SEP]\n",
      "[MASK] [MASK] [MASK] [MASK] [MASK] [MASK] [MASK] [MASK] [MASK] [MASK] [MASK] [MASK] [MASK] [MASK] [MASK] [MASK] [MASK] [MASK] [MASK] [MASK] [MASK] [MASK] [MASK] [MASK] [MASK] [MASK] ------> i ' m afraid i have a lot of things from your home for the first time . [SEP]\n",
      "[MASK] [MASK] [MASK] [MASK] [MASK] [MASK] ------> yes , please . [SEP]\n",
      "[MASK] [MASK] [MASK] [MASK] [MASK] [MASK] [MASK] [MASK] [MASK] [MASK] [MASK] ------> you ' re going to have to make sure it has it . [SEP]\n",
      "[MASK] [MASK] [MASK] [MASK] [MASK] [MASK] [MASK] [MASK] [MASK] [MASK] [MASK] [MASK] [MASK] [MASK] [MASK] [MASK] [MASK] [MASK] [MASK] [MASK] [MASK] [MASK] [MASK] [MASK] [MASK] ------> yes , we could find an offer of a computer . [SEP]\n",
      "[MASK] [MASK] [MASK] [MASK] [MASK] [MASK] [MASK] [MASK] [MASK] [MASK] [MASK] [MASK] [MASK] [MASK] [MASK] [MASK] [MASK] [MASK] [MASK] [MASK] [MASK] [MASK] [MASK] [MASK] [MASK] [MASK] [MASK] [MASK] [MASK] [MASK] [MASK] [MASK] [MASK] [MASK] [MASK] [MASK] [MASK] ------> thank you very much ! [SEP]\n",
      "[MASK] [MASK] [MASK] work [MASK] ------> yes . i like the music ##h ##i ##qu ##es ! i think that you are a bit too busy [SEP]\n",
      "[MASK] [MASK] [MASK] [MASK] [MASK] [MASK] [MASK] [MASK] [MASK] [MASK] [MASK] [MASK] [MASK] [MASK] [MASK] [MASK] [MASK] [MASK] [MASK] [MASK] [MASK] [MASK] [MASK] [MASK] [MASK] [MASK] ------> thank you . i am going to have my passport . you have to do that for me on the [SEP]\n",
      "[MASK] [MASK] [MASK] [MASK] [MASK] [MASK] ------> i ' m a bit lost . she ' s very busy with his girlfriend . [SEP]\n",
      "[MASK] [MASK] [MASK] [MASK] [MASK] [MASK] [MASK] [MASK] [MASK] [MASK] [MASK] [MASK] [MASK] [MASK] [MASK] [MASK] [MASK] [MASK] [MASK] [MASK] [MASK] [MASK] [MASK] ------> no , i ’ m sorry to hear that , it ’ s really nice ! i ’ m a [SEP]\n"
     ]
    }
   ],
   "source": [
    "pretty_print_completed_dialogues(completed_dialogues_greedy)"
   ]
  },
  {
   "cell_type": "code",
   "execution_count": 34,
   "id": "e1700c55",
   "metadata": {},
   "outputs": [
    {
     "name": "stdout",
     "output_type": "stream",
     "text": [
      "context ----> response\n",
      "[MASK] [MASK] [MASK] doing ? ------> what ’ s wrong with that , jan ##e ? [SEP]\n",
      "[MASK] [MASK] [MASK] [MASK] [MASK] [MASK] [MASK] [MASK] [MASK] with [MASK] [MASK] jane ? [SEP] ------> yes , he is . it was very nice for me , but she said we were going to show [SEP]\n",
      "how are [MASK] doing [MASK] [MASK] [MASK] [MASK] wrong [MASK] that [MASK] jane ? [MASK] [MASK] [MASK] he [MASK] [MASK] [MASK] [MASK] [MASK] nice [MASK] [MASK] [MASK] but [MASK] [MASK] [MASK] [MASK] [MASK] [MASK] [MASK] [SEP] ------> i see . [SEP]\n",
      "[MASK] did [MASK] [MASK] [MASK] [MASK] ------> i don ’ t think you ’ ll enjoy a better present for me . we have been working hard [SEP]\n",
      "[MASK] did [MASK] [MASK] [MASK] [MASK] [MASK] [MASK] [MASK] [MASK] [MASK] [MASK] [MASK] [MASK] enjoy a [MASK] [MASK] [MASK] me . [MASK] have [MASK] working [MASK] [SEP] ------> really , i guess so . [SEP]\n",
      "what did [MASK] [MASK] [MASK] [MASK] [MASK] [MASK] [MASK] [MASK] [MASK] [MASK] ’ [MASK] [MASK] a [MASK] [MASK] for [MASK] . [MASK] have [MASK] [MASK] [MASK] [MASK] [MASK] [MASK] [MASK] guess [MASK] [MASK] [MASK] ------> why ? [SEP]\n",
      "what [MASK] you [MASK] [MASK] [MASK] [MASK] [MASK] [MASK] t [MASK] [MASK] ’ [MASK] [MASK] [MASK] [MASK] [MASK] [MASK] [MASK] . we have [MASK] [MASK] hard [MASK] [MASK] , [MASK] [MASK] [MASK] . [MASK] [MASK] [MASK] [SEP] ------> what about saturday ? [SEP]\n",
      "[MASK] [MASK] [MASK] work ? ------> i ' d like some of you . [SEP]\n",
      "how [MASK] [MASK] [MASK] [MASK] [MASK] [MASK] d like some [MASK] [MASK] [MASK] [MASK] ------> i ' m not sure yet . [SEP]\n",
      "[MASK] [MASK] s [MASK] [MASK] [MASK] [MASK] [MASK] [MASK] [MASK] [MASK] you [MASK] [MASK] [MASK] [MASK] [MASK] [MASK] [MASK] [MASK] [MASK] [SEP] ------> i ' m afraid that i am going to have a lot of clothes . [SEP]\n",
      "[MASK] [MASK] [MASK] work [MASK] [MASK] [MASK] [MASK] [MASK] some [MASK] you [MASK] [MASK] i [MASK] [MASK] [MASK] [MASK] [MASK] . [MASK] i [MASK] [MASK] [MASK] [MASK] [MASK] [MASK] going [MASK] [MASK] [MASK] lot [MASK] [MASK] [MASK] [MASK] ------> i ' m really sorry that you had to learn in the world . i think i ’ ll go [SEP]\n",
      "[MASK] [MASK] [MASK] some coffee [MASK] ------> are you looking for the money now ? [SEP]\n",
      "[MASK] [MASK] like [MASK] [MASK] ? [MASK] you looking [MASK] [MASK] [MASK] [MASK] [MASK] [MASK] ------> i ' d like to have some soup , please . [SEP]\n",
      "[MASK] [MASK] [MASK] [MASK] [MASK] ? [MASK] [MASK] [MASK] [MASK] [MASK] money [MASK] [MASK] [MASK] [MASK] [MASK] [MASK] like [MASK] have some [MASK] [MASK] [MASK] . [MASK] ------> you ’ re not going to work , you ’ re going to get that . i ’ ll get [SEP]\n"
     ]
    }
   ],
   "source": [
    "pretty_print_completed_dialogues(completed_dialogues_chance)"
   ]
  },
  {
   "cell_type": "code",
   "execution_count": null,
   "id": "406c2543",
   "metadata": {},
   "outputs": [],
   "source": []
  }
 ],
 "metadata": {
  "kernelspec": {
   "display_name": "Python 3",
   "language": "python",
   "name": "python3"
  },
  "language_info": {
   "codemirror_mode": {
    "name": "ipython",
    "version": 3
   },
   "file_extension": ".py",
   "mimetype": "text/x-python",
   "name": "python",
   "nbconvert_exporter": "python",
   "pygments_lexer": "ipython3",
   "version": "3.6.13"
  }
 },
 "nbformat": 4,
 "nbformat_minor": 5
}
